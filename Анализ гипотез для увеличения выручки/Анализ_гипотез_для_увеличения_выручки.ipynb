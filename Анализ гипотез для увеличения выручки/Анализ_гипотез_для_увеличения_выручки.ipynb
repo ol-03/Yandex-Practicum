{
 "cells": [
  {
   "cell_type": "markdown",
   "metadata": {},
   "source": [
    "# Анализ гипотез для увеличения выручки <a id=\"head\"></a>"
   ]
  },
  {
   "cell_type": "markdown",
   "metadata": {},
   "source": [
    "Отдел аналитики с отделом маркетинга крупного интернет-магазина подготовили список гипотез для увеличения выручки."
   ]
  },
  {
   "cell_type": "markdown",
   "metadata": {},
   "source": [
    "**Задача:** приоритизировать гипотезы, запустить A/B-тест и проанализировать результаты. "
   ]
  },
  {
   "cell_type": "markdown",
   "metadata": {},
   "source": [
    "**Описание данных:**\n",
    "\n",
    "`hypothesis.csv`\n",
    "* `Hypothesis` — краткое описание гипотезы;\n",
    "* `Reach` — охват пользователей по 10-балльной шкале;\n",
    "* `Impact` — влияние на пользователей по 10-балльной шкале;\n",
    "* `Confidence` — уверенность в гипотезе по 10-балльной шкале;\n",
    "* `Efforts` — затраты ресурсов на проверку гипотезы по 10-балльной шкале. Чем больше значение Efforts, тем дороже проверка гипотезы.\n",
    "\n",
    "`orders.csv`\n",
    "* `transactionId` — идентификатор заказа;\n",
    "* `visitorId` — идентификатор пользователя, совершившего заказ;\n",
    "* `date` — дата, когда был совершён заказ;\n",
    "* `revenue` — выручка заказа;\n",
    "* `group` — группа A/B-теста, в которую попал заказ.\n",
    "\n",
    "`visitors.csv`\n",
    "* `date` — дата;\n",
    "* `group` — группа A/B-теста;\n",
    "* `visitors` — количество пользователей в указанную дату в указанной группе A/B-теста."
   ]
  },
  {
   "cell_type": "markdown",
   "metadata": {},
   "source": [
    "<h4>Содержание:<span class=\"tocSkip\"></span></h4>\n",
    "<div class=\"toc\"><ul class=\"toc-item\"><li><span><a href=\"#Предобработка-данных\" data-toc-modified-id=\"Предобработка-данных-1\"><span class=\"toc-item-num\">1&nbsp;&nbsp;</span>Предобработка данных</a></span><ul class=\"toc-item\"><li><span><a href=\"#Датафрейм-hypothesis\" data-toc-modified-id=\"Датафрейм-hypothesis-1.1\"><span class=\"toc-item-num\">1.1&nbsp;&nbsp;</span>Датафрейм hypothesis</a></span></li><li><span><a href=\"#Датафрейм-orders\" data-toc-modified-id=\"Датафрейм-orders-1.2\"><span class=\"toc-item-num\">1.2&nbsp;&nbsp;</span>Датафрейм orders</a></span></li><li><span><a href=\"#Датафрейм-visitors\" data-toc-modified-id=\"Датафрейм-visitors-1.3\"><span class=\"toc-item-num\">1.3&nbsp;&nbsp;</span>Датафрейм visitors</a></span></li></ul></li><li><span><a href=\"#Приоритизация-гипотез\" data-toc-modified-id=\"Приоритизация-гипотез-2\"><span class=\"toc-item-num\">2&nbsp;&nbsp;</span>Приоритизация гипотез</a></span><ul class=\"toc-item\"><li><span><a href=\"#Применение-фреймворка-ICE-для-приоритизации-гипотез\" data-toc-modified-id=\"Применение-фреймворка-ICE-для-приоритизации-гипотез-2.1\"><span class=\"toc-item-num\">2.1&nbsp;&nbsp;</span>Применение фреймворка ICE для приоритизации гипотез</a></span></li><li><span><a href=\"#Применение-фреймворка-RICE-для-приоритизации-гипотез\" data-toc-modified-id=\"Применение-фреймворка-RICE-для-приоритизации-гипотез-2.2\"><span class=\"toc-item-num\">2.2&nbsp;&nbsp;</span>Применение фреймворка RICE для приоритизации гипотез</a></span></li><li><span><a href=\"#Измениение-приоритизации-гипотез-при-применении-RICE-вместо-ICE\" data-toc-modified-id=\"Измениение-приоритизации-гипотез-при-применении-RICE-вместо-ICE-2.3\"><span class=\"toc-item-num\">2.3&nbsp;&nbsp;</span>Измениение приоритизации гипотез при применении RICE вместо ICE</a></span></li></ul></li><li><span><a href=\"#Анализ-A/B-теста\" data-toc-modified-id=\"Анализ-A/B-теста-3\"><span class=\"toc-item-num\">3&nbsp;&nbsp;</span>Анализ A/B-теста</a></span><ul class=\"toc-item\"><li><span><a href=\"#График-кумулятивной-выручки-по-группам\" data-toc-modified-id=\"График-кумулятивной-выручки-по-группам-3.1\"><span class=\"toc-item-num\">3.1&nbsp;&nbsp;</span>График кумулятивной выручки по группам</a></span></li><li><span><a href=\"#График-кумулятивного-среднего-чека-по-группам\" data-toc-modified-id=\"График-кумулятивного-среднего-чека-по-группам-3.2\"><span class=\"toc-item-num\">3.2&nbsp;&nbsp;</span>График кумулятивного среднего чека по группам</a></span></li><li><span><a href=\"#График-относительного-изменения-кумулятивного-среднего-чека-группы-B-к-группе-A\" data-toc-modified-id=\"График-относительного-изменения-кумулятивного-среднего-чека-группы-B-к-группе-A-3.3\"><span class=\"toc-item-num\">3.3&nbsp;&nbsp;</span>График относительного изменения кумулятивного среднего чека группы B к группе A</a></span></li><li><span><a href=\"#График-кумулятивного-среднего-количества-заказов-на-посетителя-по-группам\" data-toc-modified-id=\"График-кумулятивного-среднего-количества-заказов-на-посетителя-по-группам-3.4\"><span class=\"toc-item-num\">3.4&nbsp;&nbsp;</span>График кумулятивного среднего количества заказов на посетителя по группам</a></span></li><li><span><a href=\"#График-относительного-изменения-кумулятивного-среднего-количества-заказов-на-посетителя-группы-B-к-группе-A\" data-toc-modified-id=\"График-относительного-изменения-кумулятивного-среднего-количества-заказов-на-посетителя-группы-B-к-группе-A-3.5\"><span class=\"toc-item-num\">3.5&nbsp;&nbsp;</span>График относительного изменения кумулятивного среднего количества заказов на посетителя группы B к группе A</a></span></li><li><span><a href=\"#Точечный-график-количества-заказов-по-пользователям\" data-toc-modified-id=\"Точечный-график-количества-заказов-по-пользователям-3.6\"><span class=\"toc-item-num\">3.6&nbsp;&nbsp;</span>Точечный график количества заказов по пользователям</a></span></li><li><span><a href=\"#95-й-и-99-й-перцентили-количества-заказов-на-пользователя\" data-toc-modified-id=\"95-й-и-99-й-перцентили-количества-заказов-на-пользователя-3.7\"><span class=\"toc-item-num\">3.7&nbsp;&nbsp;</span>95-й и 99-й перцентили количества заказов на пользователя</a></span></li><li><span><a href=\"#Точечный-график-стоимостей-заказов\" data-toc-modified-id=\"Точечный-график-стоимостей-заказов-3.8\"><span class=\"toc-item-num\">3.8&nbsp;&nbsp;</span>Точечный график стоимостей заказов</a></span></li><li><span><a href=\"#95-й-и-99-й-перцентили-стоимости-заказов.\" data-toc-modified-id=\"95-й-и-99-й-перцентили-стоимости-заказов.-3.9\"><span class=\"toc-item-num\">3.9&nbsp;&nbsp;</span>95-й и 99-й перцентили стоимости заказов.</a></span></li><li><span><a href=\"#Cтатистическая-значимость-различий-в-среднем-количестве-заказов-на-посетителя-между-группами-по-«сырым»-данным\" data-toc-modified-id=\"Cтатистическая-значимость-различий-в-среднем-количестве-заказов-на-посетителя-между-группами-по-«сырым»-данным-3.10\"><span class=\"toc-item-num\">3.10&nbsp;&nbsp;</span>Cтатистическая значимость различий в среднем количестве заказов на посетителя между группами по «сырым» данным</a></span></li><li><span><a href=\"#Статистическая-значимость-различий-в-среднем-чеке-заказа-между-группами-по-«сырым»-данным\" data-toc-modified-id=\"Статистическая-значимость-различий-в-среднем-чеке-заказа-между-группами-по-«сырым»-данным-3.11\"><span class=\"toc-item-num\">3.11&nbsp;&nbsp;</span>Статистическая значимость различий в среднем чеке заказа между группами по «сырым» данным</a></span></li><li><span><a href=\"#Cтатистическая-значимость-различий-в-среднем-количестве-заказов-на-посетителя-между-группами-по-«очищенным»-данным\" data-toc-modified-id=\"Cтатистическая-значимость-различий-в-среднем-количестве-заказов-на-посетителя-между-группами-по-«очищенным»-данным-3.12\"><span class=\"toc-item-num\">3.12&nbsp;&nbsp;</span>Cтатистическая значимость различий в среднем количестве заказов на посетителя между группами по «очищенным» данным</a></span></li><li><span><a href=\"#Статистическая-значимость-различий-в-среднем-чеке-заказа-между-группами-по-«очищенным»-данным\" data-toc-modified-id=\"Статистическая-значимость-различий-в-среднем-чеке-заказа-между-группами-по-«очищенным»-данным-3.13\"><span class=\"toc-item-num\">3.13&nbsp;&nbsp;</span>Статистическая значимость различий в среднем чеке заказа между группами по «очищенным» данным</a></span></li><li><span><a href=\"#Решение-по-результатам-теста\" data-toc-modified-id=\"Решение-по-результатам-теста-3.14\"><span class=\"toc-item-num\">3.14&nbsp;&nbsp;</span>Решение по результатам теста</a></span></li></ul></li><li><span><a href=\"#Выводы:\" data-toc-modified-id=\"Выводы:-4\"><span class=\"toc-item-num\">4&nbsp;&nbsp;</span>Выводы:</a></span></li></ul></div>"
   ]
  },
  {
   "cell_type": "markdown",
   "metadata": {},
   "source": [
    "## Предобработка данных"
   ]
  },
  {
   "cell_type": "code",
   "execution_count": 1,
   "metadata": {},
   "outputs": [],
   "source": [
    "# импортируем библеотеки\n",
    "import pandas as pd\n",
    "import datetime as dt\n",
    "import numpy as np\n",
    "import matplotlib.pyplot as plt\n",
    "from pandas.plotting import register_matplotlib_converters\n",
    "import warnings\n",
    "import scipy.stats as stats\n",
    "# конвертеры, которые позволяют использовать типы pandas в matplotlib  \n",
    "register_matplotlib_converters()\n",
    "pd.set_option('display.max_colwidth', None)"
   ]
  },
  {
   "cell_type": "markdown",
   "metadata": {},
   "source": [
    "### Датафрейм hypothesis"
   ]
  },
  {
   "cell_type": "code",
   "execution_count": 2,
   "metadata": {},
   "outputs": [
    {
     "data": {
      "text/html": [
       "<div>\n",
       "<style scoped>\n",
       "    .dataframe tbody tr th:only-of-type {\n",
       "        vertical-align: middle;\n",
       "    }\n",
       "\n",
       "    .dataframe tbody tr th {\n",
       "        vertical-align: top;\n",
       "    }\n",
       "\n",
       "    .dataframe thead th {\n",
       "        text-align: right;\n",
       "    }\n",
       "</style>\n",
       "<table border=\"1\" class=\"dataframe\">\n",
       "  <thead>\n",
       "    <tr style=\"text-align: right;\">\n",
       "      <th></th>\n",
       "      <th>Hypothesis</th>\n",
       "      <th>Reach</th>\n",
       "      <th>Impact</th>\n",
       "      <th>Confidence</th>\n",
       "      <th>Efforts</th>\n",
       "    </tr>\n",
       "  </thead>\n",
       "  <tbody>\n",
       "    <tr>\n",
       "      <th>0</th>\n",
       "      <td>Добавить два новых канала привлечения трафика, что позволит привлекать на 30% больше пользователей</td>\n",
       "      <td>3</td>\n",
       "      <td>10</td>\n",
       "      <td>8</td>\n",
       "      <td>6</td>\n",
       "    </tr>\n",
       "    <tr>\n",
       "      <th>1</th>\n",
       "      <td>Запустить собственную службу доставки, что сократит срок доставки заказов</td>\n",
       "      <td>2</td>\n",
       "      <td>5</td>\n",
       "      <td>4</td>\n",
       "      <td>10</td>\n",
       "    </tr>\n",
       "    <tr>\n",
       "      <th>2</th>\n",
       "      <td>Добавить блоки рекомендаций товаров на сайт интернет магазина, чтобы повысить конверсию и средний чек заказа</td>\n",
       "      <td>8</td>\n",
       "      <td>3</td>\n",
       "      <td>7</td>\n",
       "      <td>3</td>\n",
       "    </tr>\n",
       "    <tr>\n",
       "      <th>3</th>\n",
       "      <td>Изменить структура категорий, что увеличит конверсию, т.к. пользователи быстрее найдут нужный товар</td>\n",
       "      <td>8</td>\n",
       "      <td>3</td>\n",
       "      <td>3</td>\n",
       "      <td>8</td>\n",
       "    </tr>\n",
       "    <tr>\n",
       "      <th>4</th>\n",
       "      <td>Изменить цвет фона главной страницы, чтобы увеличить вовлеченность пользователей</td>\n",
       "      <td>3</td>\n",
       "      <td>1</td>\n",
       "      <td>1</td>\n",
       "      <td>1</td>\n",
       "    </tr>\n",
       "    <tr>\n",
       "      <th>5</th>\n",
       "      <td>Добавить страницу отзывов клиентов о магазине, что позволит увеличить количество заказов</td>\n",
       "      <td>3</td>\n",
       "      <td>2</td>\n",
       "      <td>2</td>\n",
       "      <td>3</td>\n",
       "    </tr>\n",
       "    <tr>\n",
       "      <th>6</th>\n",
       "      <td>Показать на главной странице баннеры с актуальными акциями и распродажами, чтобы увеличить конверсию</td>\n",
       "      <td>5</td>\n",
       "      <td>3</td>\n",
       "      <td>8</td>\n",
       "      <td>3</td>\n",
       "    </tr>\n",
       "    <tr>\n",
       "      <th>7</th>\n",
       "      <td>Добавить форму подписки на все основные страницы, чтобы собрать базу клиентов для email-рассылок</td>\n",
       "      <td>10</td>\n",
       "      <td>7</td>\n",
       "      <td>8</td>\n",
       "      <td>5</td>\n",
       "    </tr>\n",
       "    <tr>\n",
       "      <th>8</th>\n",
       "      <td>Запустить акцию, дающую скидку на товар в день рождения</td>\n",
       "      <td>1</td>\n",
       "      <td>9</td>\n",
       "      <td>9</td>\n",
       "      <td>5</td>\n",
       "    </tr>\n",
       "  </tbody>\n",
       "</table>\n",
       "</div>"
      ],
      "text/plain": [
       "                                                                                                     Hypothesis  \\\n",
       "0            Добавить два новых канала привлечения трафика, что позволит привлекать на 30% больше пользователей   \n",
       "1                                     Запустить собственную службу доставки, что сократит срок доставки заказов   \n",
       "2  Добавить блоки рекомендаций товаров на сайт интернет магазина, чтобы повысить конверсию и средний чек заказа   \n",
       "3           Изменить структура категорий, что увеличит конверсию, т.к. пользователи быстрее найдут нужный товар   \n",
       "4                              Изменить цвет фона главной страницы, чтобы увеличить вовлеченность пользователей   \n",
       "5                      Добавить страницу отзывов клиентов о магазине, что позволит увеличить количество заказов   \n",
       "6          Показать на главной странице баннеры с актуальными акциями и распродажами, чтобы увеличить конверсию   \n",
       "7              Добавить форму подписки на все основные страницы, чтобы собрать базу клиентов для email-рассылок   \n",
       "8                                                       Запустить акцию, дающую скидку на товар в день рождения   \n",
       "\n",
       "   Reach  Impact  Confidence  Efforts  \n",
       "0      3      10           8        6  \n",
       "1      2       5           4       10  \n",
       "2      8       3           7        3  \n",
       "3      8       3           3        8  \n",
       "4      3       1           1        1  \n",
       "5      3       2           2        3  \n",
       "6      5       3           8        3  \n",
       "7     10       7           8        5  \n",
       "8      1       9           9        5  "
      ]
     },
     "execution_count": 2,
     "metadata": {},
     "output_type": "execute_result"
    }
   ],
   "source": [
    "hypothesis=pd.read_csv('datasets/hypothesis.csv')\n",
    "hypothesis"
   ]
  },
  {
   "cell_type": "code",
   "execution_count": 3,
   "metadata": {},
   "outputs": [
    {
     "name": "stdout",
     "output_type": "stream",
     "text": [
      "<class 'pandas.core.frame.DataFrame'>\n",
      "RangeIndex: 9 entries, 0 to 8\n",
      "Data columns (total 5 columns):\n",
      " #   Column      Non-Null Count  Dtype \n",
      "---  ------      --------------  ----- \n",
      " 0   Hypothesis  9 non-null      object\n",
      " 1   Reach       9 non-null      int64 \n",
      " 2   Impact      9 non-null      int64 \n",
      " 3   Confidence  9 non-null      int64 \n",
      " 4   Efforts     9 non-null      int64 \n",
      "dtypes: int64(4), object(1)\n",
      "memory usage: 488.0+ bytes\n"
     ]
    }
   ],
   "source": [
    "# общая информация\n",
    "hypothesis.info()"
   ]
  },
  {
   "cell_type": "code",
   "execution_count": 4,
   "metadata": {},
   "outputs": [
    {
     "data": {
      "text/plain": [
       "0    False\n",
       "1    False\n",
       "2    False\n",
       "3    False\n",
       "4    False\n",
       "5    False\n",
       "6    False\n",
       "7    False\n",
       "8    False\n",
       "dtype: bool"
      ]
     },
     "execution_count": 4,
     "metadata": {},
     "output_type": "execute_result"
    }
   ],
   "source": [
    "# поиск дубликатов\n",
    "hypothesis.duplicated()"
   ]
  },
  {
   "cell_type": "markdown",
   "metadata": {},
   "source": [
    "Дубликатов и пропусков нет, верный тип данных."
   ]
  },
  {
   "cell_type": "markdown",
   "metadata": {},
   "source": [
    "### Датафрейм orders"
   ]
  },
  {
   "cell_type": "code",
   "execution_count": 5,
   "metadata": {},
   "outputs": [
    {
     "data": {
      "text/html": [
       "<div>\n",
       "<style scoped>\n",
       "    .dataframe tbody tr th:only-of-type {\n",
       "        vertical-align: middle;\n",
       "    }\n",
       "\n",
       "    .dataframe tbody tr th {\n",
       "        vertical-align: top;\n",
       "    }\n",
       "\n",
       "    .dataframe thead th {\n",
       "        text-align: right;\n",
       "    }\n",
       "</style>\n",
       "<table border=\"1\" class=\"dataframe\">\n",
       "  <thead>\n",
       "    <tr style=\"text-align: right;\">\n",
       "      <th></th>\n",
       "      <th>transactionId</th>\n",
       "      <th>visitorId</th>\n",
       "      <th>date</th>\n",
       "      <th>revenue</th>\n",
       "      <th>group</th>\n",
       "    </tr>\n",
       "  </thead>\n",
       "  <tbody>\n",
       "    <tr>\n",
       "      <th>0</th>\n",
       "      <td>3667963787</td>\n",
       "      <td>3312258926</td>\n",
       "      <td>2019-08-15</td>\n",
       "      <td>1650</td>\n",
       "      <td>B</td>\n",
       "    </tr>\n",
       "    <tr>\n",
       "      <th>1</th>\n",
       "      <td>2804400009</td>\n",
       "      <td>3642806036</td>\n",
       "      <td>2019-08-15</td>\n",
       "      <td>730</td>\n",
       "      <td>B</td>\n",
       "    </tr>\n",
       "    <tr>\n",
       "      <th>2</th>\n",
       "      <td>2961555356</td>\n",
       "      <td>4069496402</td>\n",
       "      <td>2019-08-15</td>\n",
       "      <td>400</td>\n",
       "      <td>A</td>\n",
       "    </tr>\n",
       "    <tr>\n",
       "      <th>3</th>\n",
       "      <td>3797467345</td>\n",
       "      <td>1196621759</td>\n",
       "      <td>2019-08-15</td>\n",
       "      <td>9759</td>\n",
       "      <td>B</td>\n",
       "    </tr>\n",
       "    <tr>\n",
       "      <th>4</th>\n",
       "      <td>2282983706</td>\n",
       "      <td>2322279887</td>\n",
       "      <td>2019-08-15</td>\n",
       "      <td>2308</td>\n",
       "      <td>B</td>\n",
       "    </tr>\n",
       "    <tr>\n",
       "      <th>...</th>\n",
       "      <td>...</td>\n",
       "      <td>...</td>\n",
       "      <td>...</td>\n",
       "      <td>...</td>\n",
       "      <td>...</td>\n",
       "    </tr>\n",
       "    <tr>\n",
       "      <th>1192</th>\n",
       "      <td>2662137336</td>\n",
       "      <td>3733762160</td>\n",
       "      <td>2019-08-14</td>\n",
       "      <td>6490</td>\n",
       "      <td>B</td>\n",
       "    </tr>\n",
       "    <tr>\n",
       "      <th>1193</th>\n",
       "      <td>2203539145</td>\n",
       "      <td>370388673</td>\n",
       "      <td>2019-08-14</td>\n",
       "      <td>3190</td>\n",
       "      <td>A</td>\n",
       "    </tr>\n",
       "    <tr>\n",
       "      <th>1194</th>\n",
       "      <td>1807773912</td>\n",
       "      <td>573423106</td>\n",
       "      <td>2019-08-14</td>\n",
       "      <td>10550</td>\n",
       "      <td>A</td>\n",
       "    </tr>\n",
       "    <tr>\n",
       "      <th>1195</th>\n",
       "      <td>1947021204</td>\n",
       "      <td>1614305549</td>\n",
       "      <td>2019-08-14</td>\n",
       "      <td>100</td>\n",
       "      <td>A</td>\n",
       "    </tr>\n",
       "    <tr>\n",
       "      <th>1196</th>\n",
       "      <td>3936777065</td>\n",
       "      <td>2108080724</td>\n",
       "      <td>2019-08-15</td>\n",
       "      <td>202740</td>\n",
       "      <td>B</td>\n",
       "    </tr>\n",
       "  </tbody>\n",
       "</table>\n",
       "<p>1197 rows × 5 columns</p>\n",
       "</div>"
      ],
      "text/plain": [
       "      transactionId   visitorId        date  revenue group\n",
       "0        3667963787  3312258926  2019-08-15     1650     B\n",
       "1        2804400009  3642806036  2019-08-15      730     B\n",
       "2        2961555356  4069496402  2019-08-15      400     A\n",
       "3        3797467345  1196621759  2019-08-15     9759     B\n",
       "4        2282983706  2322279887  2019-08-15     2308     B\n",
       "...             ...         ...         ...      ...   ...\n",
       "1192     2662137336  3733762160  2019-08-14     6490     B\n",
       "1193     2203539145   370388673  2019-08-14     3190     A\n",
       "1194     1807773912   573423106  2019-08-14    10550     A\n",
       "1195     1947021204  1614305549  2019-08-14      100     A\n",
       "1196     3936777065  2108080724  2019-08-15   202740     B\n",
       "\n",
       "[1197 rows x 5 columns]"
      ]
     },
     "execution_count": 5,
     "metadata": {},
     "output_type": "execute_result"
    }
   ],
   "source": [
    "orders=pd.read_csv('datasets/orders.csv')\n",
    "orders"
   ]
  },
  {
   "cell_type": "code",
   "execution_count": 6,
   "metadata": {},
   "outputs": [
    {
     "name": "stdout",
     "output_type": "stream",
     "text": [
      "<class 'pandas.core.frame.DataFrame'>\n",
      "RangeIndex: 1197 entries, 0 to 1196\n",
      "Data columns (total 5 columns):\n",
      " #   Column         Non-Null Count  Dtype \n",
      "---  ------         --------------  ----- \n",
      " 0   transactionId  1197 non-null   int64 \n",
      " 1   visitorId      1197 non-null   int64 \n",
      " 2   date           1197 non-null   object\n",
      " 3   revenue        1197 non-null   int64 \n",
      " 4   group          1197 non-null   object\n",
      "dtypes: int64(3), object(2)\n",
      "memory usage: 46.9+ KB\n"
     ]
    }
   ],
   "source": [
    "# общая информация\n",
    "orders.info()"
   ]
  },
  {
   "cell_type": "code",
   "execution_count": 7,
   "metadata": {},
   "outputs": [
    {
     "data": {
      "text/plain": [
       "0"
      ]
     },
     "execution_count": 7,
     "metadata": {},
     "output_type": "execute_result"
    }
   ],
   "source": [
    "# поиск дубликатов\n",
    "orders.duplicated().sum()"
   ]
  },
  {
   "cell_type": "code",
   "execution_count": 8,
   "metadata": {},
   "outputs": [],
   "source": [
    "# изменение типа данных\n",
    "orders[\"date\"] = orders[\"date\"].map(lambda x: dt.datetime.strptime(x, '%Y-%m-%d'))"
   ]
  },
  {
   "cell_type": "code",
   "execution_count": 9,
   "metadata": {},
   "outputs": [
    {
     "name": "stdout",
     "output_type": "stream",
     "text": [
      "<class 'pandas.core.frame.DataFrame'>\n",
      "RangeIndex: 1197 entries, 0 to 1196\n",
      "Data columns (total 5 columns):\n",
      " #   Column         Non-Null Count  Dtype         \n",
      "---  ------         --------------  -----         \n",
      " 0   transactionId  1197 non-null   int64         \n",
      " 1   visitorId      1197 non-null   int64         \n",
      " 2   date           1197 non-null   datetime64[ns]\n",
      " 3   revenue        1197 non-null   int64         \n",
      " 4   group          1197 non-null   object        \n",
      "dtypes: datetime64[ns](1), int64(3), object(1)\n",
      "memory usage: 46.9+ KB\n"
     ]
    }
   ],
   "source": [
    "# проверка\n",
    "orders.info()"
   ]
  },
  {
   "cell_type": "markdown",
   "metadata": {},
   "source": [
    "Дубликатов и пропусков нет. В столбце с датами изменили тип данных на datetime64."
   ]
  },
  {
   "cell_type": "markdown",
   "metadata": {},
   "source": [
    "### Датафрейм visitors"
   ]
  },
  {
   "cell_type": "code",
   "execution_count": 10,
   "metadata": {},
   "outputs": [],
   "source": [
    "visitors=pd.read_csv('datasets/visitors.csv')"
   ]
  },
  {
   "cell_type": "code",
   "execution_count": 11,
   "metadata": {},
   "outputs": [
    {
     "name": "stdout",
     "output_type": "stream",
     "text": [
      "<class 'pandas.core.frame.DataFrame'>\n",
      "RangeIndex: 62 entries, 0 to 61\n",
      "Data columns (total 3 columns):\n",
      " #   Column    Non-Null Count  Dtype \n",
      "---  ------    --------------  ----- \n",
      " 0   date      62 non-null     object\n",
      " 1   group     62 non-null     object\n",
      " 2   visitors  62 non-null     int64 \n",
      "dtypes: int64(1), object(2)\n",
      "memory usage: 1.6+ KB\n"
     ]
    }
   ],
   "source": [
    "# общая информация\n",
    "visitors.info()"
   ]
  },
  {
   "cell_type": "code",
   "execution_count": 12,
   "metadata": {},
   "outputs": [
    {
     "data": {
      "text/plain": [
       "0"
      ]
     },
     "execution_count": 12,
     "metadata": {},
     "output_type": "execute_result"
    }
   ],
   "source": [
    "# поиск дубликатов\n",
    "visitors.duplicated().sum()"
   ]
  },
  {
   "cell_type": "code",
   "execution_count": 13,
   "metadata": {},
   "outputs": [],
   "source": [
    "# изменение типа данных\n",
    "visitors[\"date\"] = visitors[\"date\"].map(lambda x: dt.datetime.strptime(x, '%Y-%m-%d'))"
   ]
  },
  {
   "cell_type": "code",
   "execution_count": 14,
   "metadata": {},
   "outputs": [
    {
     "name": "stdout",
     "output_type": "stream",
     "text": [
      "<class 'pandas.core.frame.DataFrame'>\n",
      "RangeIndex: 62 entries, 0 to 61\n",
      "Data columns (total 3 columns):\n",
      " #   Column    Non-Null Count  Dtype         \n",
      "---  ------    --------------  -----         \n",
      " 0   date      62 non-null     datetime64[ns]\n",
      " 1   group     62 non-null     object        \n",
      " 2   visitors  62 non-null     int64         \n",
      "dtypes: datetime64[ns](1), int64(1), object(1)\n",
      "memory usage: 1.6+ KB\n"
     ]
    }
   ],
   "source": [
    "# проверка\n",
    "visitors.info()"
   ]
  },
  {
   "cell_type": "markdown",
   "metadata": {},
   "source": [
    "Дубликатов и пропусков нет. В столбце с датами изменили тип данных на datetime64."
   ]
  },
  {
   "cell_type": "markdown",
   "metadata": {},
   "source": [
    "Датафреймы загруженны, изменён тип данных, дубликатов нет."
   ]
  },
  {
   "cell_type": "markdown",
   "metadata": {},
   "source": [
    "## Приоритизация гипотез"
   ]
  },
  {
   "cell_type": "code",
   "execution_count": 15,
   "metadata": {},
   "outputs": [
    {
     "data": {
      "text/html": [
       "<div>\n",
       "<style scoped>\n",
       "    .dataframe tbody tr th:only-of-type {\n",
       "        vertical-align: middle;\n",
       "    }\n",
       "\n",
       "    .dataframe tbody tr th {\n",
       "        vertical-align: top;\n",
       "    }\n",
       "\n",
       "    .dataframe thead th {\n",
       "        text-align: right;\n",
       "    }\n",
       "</style>\n",
       "<table border=\"1\" class=\"dataframe\">\n",
       "  <thead>\n",
       "    <tr style=\"text-align: right;\">\n",
       "      <th></th>\n",
       "      <th>Hypothesis</th>\n",
       "      <th>Reach</th>\n",
       "      <th>Impact</th>\n",
       "      <th>Confidence</th>\n",
       "      <th>Efforts</th>\n",
       "    </tr>\n",
       "  </thead>\n",
       "  <tbody>\n",
       "    <tr>\n",
       "      <th>0</th>\n",
       "      <td>Добавить два новых канала привлечения трафика, что позволит привлекать на 30% больше пользователей</td>\n",
       "      <td>3</td>\n",
       "      <td>10</td>\n",
       "      <td>8</td>\n",
       "      <td>6</td>\n",
       "    </tr>\n",
       "    <tr>\n",
       "      <th>1</th>\n",
       "      <td>Запустить собственную службу доставки, что сократит срок доставки заказов</td>\n",
       "      <td>2</td>\n",
       "      <td>5</td>\n",
       "      <td>4</td>\n",
       "      <td>10</td>\n",
       "    </tr>\n",
       "    <tr>\n",
       "      <th>2</th>\n",
       "      <td>Добавить блоки рекомендаций товаров на сайт интернет магазина, чтобы повысить конверсию и средний чек заказа</td>\n",
       "      <td>8</td>\n",
       "      <td>3</td>\n",
       "      <td>7</td>\n",
       "      <td>3</td>\n",
       "    </tr>\n",
       "    <tr>\n",
       "      <th>3</th>\n",
       "      <td>Изменить структура категорий, что увеличит конверсию, т.к. пользователи быстрее найдут нужный товар</td>\n",
       "      <td>8</td>\n",
       "      <td>3</td>\n",
       "      <td>3</td>\n",
       "      <td>8</td>\n",
       "    </tr>\n",
       "    <tr>\n",
       "      <th>4</th>\n",
       "      <td>Изменить цвет фона главной страницы, чтобы увеличить вовлеченность пользователей</td>\n",
       "      <td>3</td>\n",
       "      <td>1</td>\n",
       "      <td>1</td>\n",
       "      <td>1</td>\n",
       "    </tr>\n",
       "    <tr>\n",
       "      <th>5</th>\n",
       "      <td>Добавить страницу отзывов клиентов о магазине, что позволит увеличить количество заказов</td>\n",
       "      <td>3</td>\n",
       "      <td>2</td>\n",
       "      <td>2</td>\n",
       "      <td>3</td>\n",
       "    </tr>\n",
       "    <tr>\n",
       "      <th>6</th>\n",
       "      <td>Показать на главной странице баннеры с актуальными акциями и распродажами, чтобы увеличить конверсию</td>\n",
       "      <td>5</td>\n",
       "      <td>3</td>\n",
       "      <td>8</td>\n",
       "      <td>3</td>\n",
       "    </tr>\n",
       "    <tr>\n",
       "      <th>7</th>\n",
       "      <td>Добавить форму подписки на все основные страницы, чтобы собрать базу клиентов для email-рассылок</td>\n",
       "      <td>10</td>\n",
       "      <td>7</td>\n",
       "      <td>8</td>\n",
       "      <td>5</td>\n",
       "    </tr>\n",
       "    <tr>\n",
       "      <th>8</th>\n",
       "      <td>Запустить акцию, дающую скидку на товар в день рождения</td>\n",
       "      <td>1</td>\n",
       "      <td>9</td>\n",
       "      <td>9</td>\n",
       "      <td>5</td>\n",
       "    </tr>\n",
       "  </tbody>\n",
       "</table>\n",
       "</div>"
      ],
      "text/plain": [
       "                                                                                                     Hypothesis  \\\n",
       "0            Добавить два новых канала привлечения трафика, что позволит привлекать на 30% больше пользователей   \n",
       "1                                     Запустить собственную службу доставки, что сократит срок доставки заказов   \n",
       "2  Добавить блоки рекомендаций товаров на сайт интернет магазина, чтобы повысить конверсию и средний чек заказа   \n",
       "3           Изменить структура категорий, что увеличит конверсию, т.к. пользователи быстрее найдут нужный товар   \n",
       "4                              Изменить цвет фона главной страницы, чтобы увеличить вовлеченность пользователей   \n",
       "5                      Добавить страницу отзывов клиентов о магазине, что позволит увеличить количество заказов   \n",
       "6          Показать на главной странице баннеры с актуальными акциями и распродажами, чтобы увеличить конверсию   \n",
       "7              Добавить форму подписки на все основные страницы, чтобы собрать базу клиентов для email-рассылок   \n",
       "8                                                       Запустить акцию, дающую скидку на товар в день рождения   \n",
       "\n",
       "   Reach  Impact  Confidence  Efforts  \n",
       "0      3      10           8        6  \n",
       "1      2       5           4       10  \n",
       "2      8       3           7        3  \n",
       "3      8       3           3        8  \n",
       "4      3       1           1        1  \n",
       "5      3       2           2        3  \n",
       "6      5       3           8        3  \n",
       "7     10       7           8        5  \n",
       "8      1       9           9        5  "
      ]
     },
     "execution_count": 15,
     "metadata": {},
     "output_type": "execute_result"
    }
   ],
   "source": [
    "# откроем файл с гипотезами\n",
    "hypothesis"
   ]
  },
  {
   "cell_type": "markdown",
   "metadata": {},
   "source": [
    "### Применение фреймворка ICE для приоритизации гипотез"
   ]
  },
  {
   "cell_type": "code",
   "execution_count": 16,
   "metadata": {},
   "outputs": [
    {
     "data": {
      "text/html": [
       "<div>\n",
       "<style scoped>\n",
       "    .dataframe tbody tr th:only-of-type {\n",
       "        vertical-align: middle;\n",
       "    }\n",
       "\n",
       "    .dataframe tbody tr th {\n",
       "        vertical-align: top;\n",
       "    }\n",
       "\n",
       "    .dataframe thead th {\n",
       "        text-align: right;\n",
       "    }\n",
       "</style>\n",
       "<table border=\"1\" class=\"dataframe\">\n",
       "  <thead>\n",
       "    <tr style=\"text-align: right;\">\n",
       "      <th></th>\n",
       "      <th>Hypothesis</th>\n",
       "      <th>ICE</th>\n",
       "    </tr>\n",
       "  </thead>\n",
       "  <tbody>\n",
       "    <tr>\n",
       "      <th>8</th>\n",
       "      <td>Запустить акцию, дающую скидку на товар в день рождения</td>\n",
       "      <td>16.20</td>\n",
       "    </tr>\n",
       "    <tr>\n",
       "      <th>0</th>\n",
       "      <td>Добавить два новых канала привлечения трафика, что позволит привлекать на 30% больше пользователей</td>\n",
       "      <td>13.33</td>\n",
       "    </tr>\n",
       "    <tr>\n",
       "      <th>7</th>\n",
       "      <td>Добавить форму подписки на все основные страницы, чтобы собрать базу клиентов для email-рассылок</td>\n",
       "      <td>11.20</td>\n",
       "    </tr>\n",
       "    <tr>\n",
       "      <th>6</th>\n",
       "      <td>Показать на главной странице баннеры с актуальными акциями и распродажами, чтобы увеличить конверсию</td>\n",
       "      <td>8.00</td>\n",
       "    </tr>\n",
       "    <tr>\n",
       "      <th>2</th>\n",
       "      <td>Добавить блоки рекомендаций товаров на сайт интернет магазина, чтобы повысить конверсию и средний чек заказа</td>\n",
       "      <td>7.00</td>\n",
       "    </tr>\n",
       "    <tr>\n",
       "      <th>1</th>\n",
       "      <td>Запустить собственную службу доставки, что сократит срок доставки заказов</td>\n",
       "      <td>2.00</td>\n",
       "    </tr>\n",
       "    <tr>\n",
       "      <th>5</th>\n",
       "      <td>Добавить страницу отзывов клиентов о магазине, что позволит увеличить количество заказов</td>\n",
       "      <td>1.33</td>\n",
       "    </tr>\n",
       "    <tr>\n",
       "      <th>3</th>\n",
       "      <td>Изменить структура категорий, что увеличит конверсию, т.к. пользователи быстрее найдут нужный товар</td>\n",
       "      <td>1.12</td>\n",
       "    </tr>\n",
       "    <tr>\n",
       "      <th>4</th>\n",
       "      <td>Изменить цвет фона главной страницы, чтобы увеличить вовлеченность пользователей</td>\n",
       "      <td>1.00</td>\n",
       "    </tr>\n",
       "  </tbody>\n",
       "</table>\n",
       "</div>"
      ],
      "text/plain": [
       "                                                                                                     Hypothesis  \\\n",
       "8                                                       Запустить акцию, дающую скидку на товар в день рождения   \n",
       "0            Добавить два новых канала привлечения трафика, что позволит привлекать на 30% больше пользователей   \n",
       "7              Добавить форму подписки на все основные страницы, чтобы собрать базу клиентов для email-рассылок   \n",
       "6          Показать на главной странице баннеры с актуальными акциями и распродажами, чтобы увеличить конверсию   \n",
       "2  Добавить блоки рекомендаций товаров на сайт интернет магазина, чтобы повысить конверсию и средний чек заказа   \n",
       "1                                     Запустить собственную службу доставки, что сократит срок доставки заказов   \n",
       "5                      Добавить страницу отзывов клиентов о магазине, что позволит увеличить количество заказов   \n",
       "3           Изменить структура категорий, что увеличит конверсию, т.к. пользователи быстрее найдут нужный товар   \n",
       "4                              Изменить цвет фона главной страницы, чтобы увеличить вовлеченность пользователей   \n",
       "\n",
       "     ICE  \n",
       "8  16.20  \n",
       "0  13.33  \n",
       "7  11.20  \n",
       "6   8.00  \n",
       "2   7.00  \n",
       "1   2.00  \n",
       "5   1.33  \n",
       "3   1.12  \n",
       "4   1.00  "
      ]
     },
     "metadata": {},
     "output_type": "display_data"
    }
   ],
   "source": [
    "hypothesis['ICE'] = (hypothesis['Impact'] * hypothesis['Confidence']) / hypothesis['Efforts']\n",
    "hypothesis['ICE'] = round(hypothesis['ICE'], 2)\n",
    "display(hypothesis[['Hypothesis', 'ICE']].sort_values(by='ICE', ascending=False))"
   ]
  },
  {
   "cell_type": "markdown",
   "metadata": {},
   "source": [
    "Наиболее перспективные гипотизы по ICE: 8, 0, 7."
   ]
  },
  {
   "cell_type": "markdown",
   "metadata": {},
   "source": [
    "### Применение фреймворка RICE для приоритизации гипотез"
   ]
  },
  {
   "cell_type": "code",
   "execution_count": 18,
   "metadata": {},
   "outputs": [
    {
     "data": {
      "text/html": [
       "<div>\n",
       "<style scoped>\n",
       "    .dataframe tbody tr th:only-of-type {\n",
       "        vertical-align: middle;\n",
       "    }\n",
       "\n",
       "    .dataframe tbody tr th {\n",
       "        vertical-align: top;\n",
       "    }\n",
       "\n",
       "    .dataframe thead th {\n",
       "        text-align: right;\n",
       "    }\n",
       "</style>\n",
       "<table border=\"1\" class=\"dataframe\">\n",
       "  <thead>\n",
       "    <tr style=\"text-align: right;\">\n",
       "      <th></th>\n",
       "      <th>Hypothesis</th>\n",
       "      <th>RICE</th>\n",
       "    </tr>\n",
       "  </thead>\n",
       "  <tbody>\n",
       "    <tr>\n",
       "      <th>7</th>\n",
       "      <td>Добавить форму подписки на все основные страницы, чтобы собрать базу клиентов для email-рассылок</td>\n",
       "      <td>112.0</td>\n",
       "    </tr>\n",
       "    <tr>\n",
       "      <th>2</th>\n",
       "      <td>Добавить блоки рекомендаций товаров на сайт интернет магазина, чтобы повысить конверсию и средний чек заказа</td>\n",
       "      <td>56.0</td>\n",
       "    </tr>\n",
       "    <tr>\n",
       "      <th>0</th>\n",
       "      <td>Добавить два новых канала привлечения трафика, что позволит привлекать на 30% больше пользователей</td>\n",
       "      <td>40.0</td>\n",
       "    </tr>\n",
       "    <tr>\n",
       "      <th>6</th>\n",
       "      <td>Показать на главной странице баннеры с актуальными акциями и распродажами, чтобы увеличить конверсию</td>\n",
       "      <td>40.0</td>\n",
       "    </tr>\n",
       "    <tr>\n",
       "      <th>8</th>\n",
       "      <td>Запустить акцию, дающую скидку на товар в день рождения</td>\n",
       "      <td>16.2</td>\n",
       "    </tr>\n",
       "    <tr>\n",
       "      <th>3</th>\n",
       "      <td>Изменить структура категорий, что увеличит конверсию, т.к. пользователи быстрее найдут нужный товар</td>\n",
       "      <td>9.0</td>\n",
       "    </tr>\n",
       "    <tr>\n",
       "      <th>1</th>\n",
       "      <td>Запустить собственную службу доставки, что сократит срок доставки заказов</td>\n",
       "      <td>4.0</td>\n",
       "    </tr>\n",
       "    <tr>\n",
       "      <th>5</th>\n",
       "      <td>Добавить страницу отзывов клиентов о магазине, что позволит увеличить количество заказов</td>\n",
       "      <td>4.0</td>\n",
       "    </tr>\n",
       "    <tr>\n",
       "      <th>4</th>\n",
       "      <td>Изменить цвет фона главной страницы, чтобы увеличить вовлеченность пользователей</td>\n",
       "      <td>3.0</td>\n",
       "    </tr>\n",
       "  </tbody>\n",
       "</table>\n",
       "</div>"
      ],
      "text/plain": [
       "                                                                                                     Hypothesis  \\\n",
       "7              Добавить форму подписки на все основные страницы, чтобы собрать базу клиентов для email-рассылок   \n",
       "2  Добавить блоки рекомендаций товаров на сайт интернет магазина, чтобы повысить конверсию и средний чек заказа   \n",
       "0            Добавить два новых канала привлечения трафика, что позволит привлекать на 30% больше пользователей   \n",
       "6          Показать на главной странице баннеры с актуальными акциями и распродажами, чтобы увеличить конверсию   \n",
       "8                                                       Запустить акцию, дающую скидку на товар в день рождения   \n",
       "3           Изменить структура категорий, что увеличит конверсию, т.к. пользователи быстрее найдут нужный товар   \n",
       "1                                     Запустить собственную службу доставки, что сократит срок доставки заказов   \n",
       "5                      Добавить страницу отзывов клиентов о магазине, что позволит увеличить количество заказов   \n",
       "4                              Изменить цвет фона главной страницы, чтобы увеличить вовлеченность пользователей   \n",
       "\n",
       "    RICE  \n",
       "7  112.0  \n",
       "2   56.0  \n",
       "0   40.0  \n",
       "6   40.0  \n",
       "8   16.2  \n",
       "3    9.0  \n",
       "1    4.0  \n",
       "5    4.0  \n",
       "4    3.0  "
      ]
     },
     "metadata": {},
     "output_type": "display_data"
    }
   ],
   "source": [
    "hypothesis['RICE'] = (hypothesis['Reach'] * hypothesis['Impact'] * hypothesis['Confidence']) / hypothesis['Efforts']\n",
    "display(hypothesis[['Hypothesis', 'RICE']].sort_values(by='RICE', ascending=False))"
   ]
  },
  {
   "cell_type": "markdown",
   "metadata": {},
   "source": [
    "Наиболее перспективные гипотизы по RICE: 7, 2, 0, 6."
   ]
  },
  {
   "cell_type": "markdown",
   "metadata": {},
   "source": [
    "### Измениение приоритизации гипотез при применении RICE вместо ICE"
   ]
  },
  {
   "cell_type": "code",
   "execution_count": 19,
   "metadata": {},
   "outputs": [
    {
     "data": {
      "text/html": [
       "<div>\n",
       "<style scoped>\n",
       "    .dataframe tbody tr th:only-of-type {\n",
       "        vertical-align: middle;\n",
       "    }\n",
       "\n",
       "    .dataframe tbody tr th {\n",
       "        vertical-align: top;\n",
       "    }\n",
       "\n",
       "    .dataframe thead th {\n",
       "        text-align: right;\n",
       "    }\n",
       "</style>\n",
       "<table border=\"1\" class=\"dataframe\">\n",
       "  <thead>\n",
       "    <tr style=\"text-align: right;\">\n",
       "      <th></th>\n",
       "      <th>Hypothesis</th>\n",
       "      <th>Reach</th>\n",
       "      <th>Impact</th>\n",
       "      <th>Confidence</th>\n",
       "      <th>Efforts</th>\n",
       "      <th>ICE</th>\n",
       "      <th>RICE</th>\n",
       "    </tr>\n",
       "  </thead>\n",
       "  <tbody>\n",
       "    <tr>\n",
       "      <th>0</th>\n",
       "      <td>Добавить два новых канала привлечения трафика, что позволит привлекать на 30% больше пользователей</td>\n",
       "      <td>3</td>\n",
       "      <td>10</td>\n",
       "      <td>8</td>\n",
       "      <td>6</td>\n",
       "      <td>13.33</td>\n",
       "      <td>40.0</td>\n",
       "    </tr>\n",
       "    <tr>\n",
       "      <th>1</th>\n",
       "      <td>Запустить собственную службу доставки, что сократит срок доставки заказов</td>\n",
       "      <td>2</td>\n",
       "      <td>5</td>\n",
       "      <td>4</td>\n",
       "      <td>10</td>\n",
       "      <td>2.00</td>\n",
       "      <td>4.0</td>\n",
       "    </tr>\n",
       "    <tr>\n",
       "      <th>2</th>\n",
       "      <td>Добавить блоки рекомендаций товаров на сайт интернет магазина, чтобы повысить конверсию и средний чек заказа</td>\n",
       "      <td>8</td>\n",
       "      <td>3</td>\n",
       "      <td>7</td>\n",
       "      <td>3</td>\n",
       "      <td>7.00</td>\n",
       "      <td>56.0</td>\n",
       "    </tr>\n",
       "    <tr>\n",
       "      <th>3</th>\n",
       "      <td>Изменить структура категорий, что увеличит конверсию, т.к. пользователи быстрее найдут нужный товар</td>\n",
       "      <td>8</td>\n",
       "      <td>3</td>\n",
       "      <td>3</td>\n",
       "      <td>8</td>\n",
       "      <td>1.12</td>\n",
       "      <td>9.0</td>\n",
       "    </tr>\n",
       "    <tr>\n",
       "      <th>4</th>\n",
       "      <td>Изменить цвет фона главной страницы, чтобы увеличить вовлеченность пользователей</td>\n",
       "      <td>3</td>\n",
       "      <td>1</td>\n",
       "      <td>1</td>\n",
       "      <td>1</td>\n",
       "      <td>1.00</td>\n",
       "      <td>3.0</td>\n",
       "    </tr>\n",
       "    <tr>\n",
       "      <th>5</th>\n",
       "      <td>Добавить страницу отзывов клиентов о магазине, что позволит увеличить количество заказов</td>\n",
       "      <td>3</td>\n",
       "      <td>2</td>\n",
       "      <td>2</td>\n",
       "      <td>3</td>\n",
       "      <td>1.33</td>\n",
       "      <td>4.0</td>\n",
       "    </tr>\n",
       "    <tr>\n",
       "      <th>6</th>\n",
       "      <td>Показать на главной странице баннеры с актуальными акциями и распродажами, чтобы увеличить конверсию</td>\n",
       "      <td>5</td>\n",
       "      <td>3</td>\n",
       "      <td>8</td>\n",
       "      <td>3</td>\n",
       "      <td>8.00</td>\n",
       "      <td>40.0</td>\n",
       "    </tr>\n",
       "    <tr>\n",
       "      <th>7</th>\n",
       "      <td>Добавить форму подписки на все основные страницы, чтобы собрать базу клиентов для email-рассылок</td>\n",
       "      <td>10</td>\n",
       "      <td>7</td>\n",
       "      <td>8</td>\n",
       "      <td>5</td>\n",
       "      <td>11.20</td>\n",
       "      <td>112.0</td>\n",
       "    </tr>\n",
       "    <tr>\n",
       "      <th>8</th>\n",
       "      <td>Запустить акцию, дающую скидку на товар в день рождения</td>\n",
       "      <td>1</td>\n",
       "      <td>9</td>\n",
       "      <td>9</td>\n",
       "      <td>5</td>\n",
       "      <td>16.20</td>\n",
       "      <td>16.2</td>\n",
       "    </tr>\n",
       "  </tbody>\n",
       "</table>\n",
       "</div>"
      ],
      "text/plain": [
       "                                                                                                     Hypothesis  \\\n",
       "0            Добавить два новых канала привлечения трафика, что позволит привлекать на 30% больше пользователей   \n",
       "1                                     Запустить собственную службу доставки, что сократит срок доставки заказов   \n",
       "2  Добавить блоки рекомендаций товаров на сайт интернет магазина, чтобы повысить конверсию и средний чек заказа   \n",
       "3           Изменить структура категорий, что увеличит конверсию, т.к. пользователи быстрее найдут нужный товар   \n",
       "4                              Изменить цвет фона главной страницы, чтобы увеличить вовлеченность пользователей   \n",
       "5                      Добавить страницу отзывов клиентов о магазине, что позволит увеличить количество заказов   \n",
       "6          Показать на главной странице баннеры с актуальными акциями и распродажами, чтобы увеличить конверсию   \n",
       "7              Добавить форму подписки на все основные страницы, чтобы собрать базу клиентов для email-рассылок   \n",
       "8                                                       Запустить акцию, дающую скидку на товар в день рождения   \n",
       "\n",
       "   Reach  Impact  Confidence  Efforts    ICE   RICE  \n",
       "0      3      10           8        6  13.33   40.0  \n",
       "1      2       5           4       10   2.00    4.0  \n",
       "2      8       3           7        3   7.00   56.0  \n",
       "3      8       3           3        8   1.12    9.0  \n",
       "4      3       1           1        1   1.00    3.0  \n",
       "5      3       2           2        3   1.33    4.0  \n",
       "6      5       3           8        3   8.00   40.0  \n",
       "7     10       7           8        5  11.20  112.0  \n",
       "8      1       9           9        5  16.20   16.2  "
      ]
     },
     "execution_count": 19,
     "metadata": {},
     "output_type": "execute_result"
    }
   ],
   "source": [
    "hypothesis"
   ]
  },
  {
   "cell_type": "markdown",
   "metadata": {},
   "source": [
    "Гипотезы:\n",
    "* Добавить форму подписки на все основные страницы, чтобы собрать базу клиентов для email-рассылок\t\n",
    "* Добавить два новых канала привлечения трафика, что позволит привлекать на 30% больше пользователей\n",
    "\n",
    "оказались самыми перспектиными.\n",
    "\n",
    "Гипотеза \"Запустить акцию, дающую скидку на товар в день рождения\" по RICE оказалась менее, тк маленький охват пользователей. Предположение о добалении блоков \"рекомендаций товаров на сайт интернет магазина, чтобы повысить конверсию и средний чек заказа\" Reach наоборт большой и равен 8. "
   ]
  },
  {
   "cell_type": "markdown",
   "metadata": {},
   "source": [
    "## Анализ A/B-теста"
   ]
  },
  {
   "cell_type": "markdown",
   "metadata": {},
   "source": [
    "### График кумулятивной выручки по группам"
   ]
  },
  {
   "cell_type": "code",
   "execution_count": 20,
   "metadata": {},
   "outputs": [
    {
     "name": "stdout",
     "output_type": "stream",
     "text": [
      "        date group  orders  buyers  revenue  visitors\n",
      "0 2019-08-01     A      24      20   148579       719\n",
      "1 2019-08-01     B      21      20   101217       713\n",
      "2 2019-08-02     A      44      38   242401      1338\n",
      "3 2019-08-02     B      45      43   266748      1294\n",
      "4 2019-08-03     A      68      62   354874      1845\n"
     ]
    }
   ],
   "source": [
    "datesGroups = orders[['date','group']].drop_duplicates()\n",
    "\n",
    "ordersAggregated = datesGroups.apply(lambda x: orders[np.logical_and(orders['date'] <= x['date'], orders['group'] == x['group'])].agg({'date' : 'max', 'group' : 'max', 'transactionId' : 'nunique', 'visitorId' : 'nunique', 'revenue' : 'sum'}), axis=1).sort_values(by=['date','group'])\n",
    "\n",
    "visitorsAggregated = datesGroups.apply(lambda x: visitors[np.logical_and(visitors['date'] <= x['date'], visitors['group'] == x['group'])].agg({'date' : 'max', 'group' : 'max', 'visitors' : 'sum'}), axis=1).sort_values(by=['date','group'])\n",
    "\n",
    "cumulativeData = ordersAggregated.merge(visitorsAggregated, left_on=['date', 'group'], right_on=['date', 'group'])\n",
    "cumulativeData.columns = ['date', 'group', 'orders', 'buyers', 'revenue', 'visitors']\n",
    "\n",
    "print(cumulativeData.head(5))"
   ]
  },
  {
   "cell_type": "code",
   "execution_count": 24,
   "metadata": {
    "scrolled": false
   },
   "outputs": [
    {
     "data": {
      "image/png": "[encoded data removed]",
      "text/plain": [
       "<Figure size 640x480 with 1 Axes>"
      ]
     },
     "metadata": {},
     "output_type": "display_data"
    }
   ],
   "source": [
    "cumulativeRevenueA = cumulativeData[cumulativeData['group']=='A'][['date','revenue', 'orders']]\n",
    "\n",
    "cumulativeRevenueB = cumulativeData[cumulativeData['group']=='B'][['date','revenue', 'orders']]\n",
    "\n",
    "plt.plot(cumulativeRevenueA['date'], cumulativeRevenueA['revenue'], label='группа A')\n",
    "\n",
    "plt.plot(cumulativeRevenueB['date'], cumulativeRevenueB['revenue'], label='группа B')\n",
    "\n",
    "plt.title('Кумулятивная выручка')\n",
    "plt.ylabel('Выручка')\n",
    "plt.xlabel('Дата')\n",
    "plt.xticks(rotation = 90)\n",
    "plt.legend();"
   ]
  },
  {
   "cell_type": "markdown",
   "metadata": {},
   "source": [
    "Выручка почти равномерно увеличивается в течение всего теста. У группы В на протяжении всего теста более высокие показатели. 18.08.2019 резкий скачок в групее В, что может говорить о увеличении продаж или крупной покупке.\n"
   ]
  },
  {
   "cell_type": "markdown",
   "metadata": {},
   "source": [
    "### График кумулятивного среднего чека по группам"
   ]
  },
  {
   "cell_type": "code",
   "execution_count": 25,
   "metadata": {},
   "outputs": [
    {
     "data": {
      "image/png": "[encoded data removed]",
      "text/plain": [
       "<Figure size 640x480 with 1 Axes>"
      ]
     },
     "metadata": {},
     "output_type": "display_data"
    }
   ],
   "source": [
    "plt.plot(cumulativeRevenueA['date'], cumulativeRevenueA['revenue']/cumulativeRevenueA['orders'], label='группа A')\n",
    "plt.plot(cumulativeRevenueB['date'], cumulativeRevenueB['revenue']/cumulativeRevenueB['orders'], label='группа B')\n",
    "\n",
    "plt.title('Кумулятивный средний чек')\n",
    "plt.ylabel('Выручка')\n",
    "plt.xlabel('Дата')\n",
    "plt.xticks(rotation = 90)\n",
    "plt.legend();"
   ]
  },
  {
   "cell_type": "markdown",
   "metadata": {},
   "source": [
    "Средний чек становится равномерным ближе к концу теста. В группе А 06.08.2018 было снижение значений, 13.08 был пик, выше не поднимался и далее держался на одном уровне. В групее В 18.08.2019 резкий скачок среднего чека подтвержает наличие крупных заказов."
   ]
  },
  {
   "cell_type": "markdown",
   "metadata": {},
   "source": [
    "### График относительного изменения кумулятивного среднего чека группы B к группе A"
   ]
  },
  {
   "cell_type": "code",
   "execution_count": 26,
   "metadata": {},
   "outputs": [
    {
     "data": {
      "image/png": "[encoded data removed]",
      "text/plain": [
       "<Figure size 640x480 with 1 Axes>"
      ]
     },
     "metadata": {},
     "output_type": "display_data"
    }
   ],
   "source": [
    "mergedCumulativeRevenue = cumulativeRevenueA.merge(cumulativeRevenueB, left_on='date', right_on='date', how='left', suffixes=['A', 'B'])\n",
    "\n",
    "plt.plot(mergedCumulativeRevenue['date'], (mergedCumulativeRevenue['revenueB']/mergedCumulativeRevenue['ordersB'])/(mergedCumulativeRevenue['revenueA']/mergedCumulativeRevenue['ordersA'])-1)\n",
    "\n",
    "plt.axhline(y=0, color='black', linestyle='--')\n",
    "\n",
    "plt.title('Изменения кумулятивного среднего чека')\n",
    "plt.ylabel('Выручка')\n",
    "plt.xlabel('Дата')\n",
    "plt.xticks(rotation = 90);"
   ]
  },
  {
   "cell_type": "markdown",
   "metadata": {},
   "source": [
    "Результаты теста значительно и резко менлись в несколько дат, можем предположить, что это связано с датами когда были совершены аномальные заказы, например в 18.08.2019."
   ]
  },
  {
   "cell_type": "markdown",
   "metadata": {},
   "source": [
    "### График кумулятивного среднего количества заказов на посетителя по группам"
   ]
  },
  {
   "cell_type": "code",
   "execution_count": 27,
   "metadata": {},
   "outputs": [
    {
     "data": {
      "image/png": "[encoded data removed]",
      "text/plain": [
       "<Figure size 640x480 with 1 Axes>"
      ]
     },
     "metadata": {},
     "output_type": "display_data"
    }
   ],
   "source": [
    "cumulativeData['conversion'] = cumulativeData['orders']/cumulativeData['visitors']\n",
    "\n",
    "cumulativeDataA = cumulativeData[cumulativeData['group']=='A']\n",
    "\n",
    "cumulativeDataB = cumulativeData[cumulativeData['group']=='B']\n",
    "\n",
    "plt.plot(cumulativeDataA['date'], cumulativeDataA['conversion'], label='граппа A')\n",
    "plt.plot(cumulativeDataB['date'], cumulativeDataB['conversion'], label='группа B')\n",
    "plt.legend()\n",
    "\n",
    "plt.title('Кумулятивная конверсия по группам')\n",
    "plt.ylabel('Кумулятивная конверсия')\n",
    "plt.xlabel('Дата')\n",
    "plt.xticks(rotation = 90);"
   ]
  },
  {
   "cell_type": "markdown",
   "metadata": {},
   "source": [
    "В начале теста группа А имела большую конверсию, но постепенно группа Б заняла лидирующую позицию. Конверсия в обеих сигментах остановилась около своих средних значениях."
   ]
  },
  {
   "cell_type": "markdown",
   "metadata": {},
   "source": [
    "### График относительного изменения кумулятивного среднего количества заказов на посетителя группы B к группе A"
   ]
  },
  {
   "cell_type": "code",
   "execution_count": 28,
   "metadata": {},
   "outputs": [
    {
     "data": {
      "image/png": "[encoded data removed]",
      "text/plain": [
       "<Figure size 640x480 with 1 Axes>"
      ]
     },
     "metadata": {},
     "output_type": "display_data"
    }
   ],
   "source": [
    "mergedCumulativeConversions = cumulativeDataA[['date','conversion']].merge(cumulativeDataB[['date','conversion']], left_on='date', right_on='date', how='left', suffixes=['A', 'B'])\n",
    "\n",
    "plt.plot(mergedCumulativeConversions['date'], mergedCumulativeConversions['conversionB']/mergedCumulativeConversions['conversionA']-1, label=\"Относительный прирост конверсии группы B относительно группы A\")\n",
    "plt.legend()\n",
    "\n",
    "plt.axhline(y=0, color='black', linestyle='--')\n",
    "plt.axhline(y=-0.1, color='grey', linestyle='--')\n",
    "\n",
    "plt.title('Относительное изменение кумулятивного среднего количества заказов на посетителя группы B к группе A')\n",
    "plt.ylabel('Кумулятивная конверсия')\n",
    "plt.xlabel('Дата')\n",
    "plt.xticks(rotation = 90);"
   ]
  },
  {
   "cell_type": "markdown",
   "metadata": {},
   "source": [
    "В начале теста группа B значительно проигрывала группе A (кроме 02.08.2019), затем вырвалась вперёд. Потом её конверсия  падала, но теперь с 27.08.2019 постепенно растёт."
   ]
  },
  {
   "cell_type": "markdown",
   "metadata": {},
   "source": [
    "### Точечный график количества заказов по пользователям"
   ]
  },
  {
   "cell_type": "code",
   "execution_count": 29,
   "metadata": {},
   "outputs": [
    {
     "name": "stdout",
     "output_type": "stream",
     "text": [
      "       visitorId  orders\n",
      "1023  4256040402      11\n",
      "591   2458001652      11\n",
      "569   2378935119       9\n",
      "487   2038680547       8\n",
      "44     199603092       5\n",
      "744   3062433592       5\n",
      "55     237748145       5\n",
      "917   3803269165       5\n",
      "299   1230306981       5\n",
      "897   3717692402       5\n"
     ]
    },
    {
     "data": {
      "image/png": "[encoded data removed]",
      "text/plain": [
       "<Figure size 640x480 with 1 Axes>"
      ]
     },
     "metadata": {},
     "output_type": "display_data"
    }
   ],
   "source": [
    "ordersByUsers = (\n",
    "    orders.groupby('visitorId', as_index=False)\n",
    "    .agg({'transactionId': 'nunique'})\n",
    ")\n",
    "ordersByUsers.columns = ['visitorId', 'orders']\n",
    "print(ordersByUsers.sort_values(by='orders', ascending=False).head(10))\n",
    "\n",
    "x_values = pd.Series(range(0,len(ordersByUsers)))\n",
    "plt.scatter(x_values, ordersByUsers['orders'])\n",
    "\n",
    "plt.title('Количество заказов по пользователям')\n",
    "plt.ylabel('Количество заказов')\n",
    "plt.xlabel('Количество пользователей');"
   ]
  },
  {
   "cell_type": "markdown",
   "metadata": {},
   "source": [
    "Большенство пользователей совершили один заказ. Много пользователей с 2-3 заказами, но их точная доля не ясна, поэтому не можем сказаать аномалии они или нет."
   ]
  },
  {
   "cell_type": "markdown",
   "metadata": {},
   "source": [
    "### 95-й и 99-й перцентили количества заказов на пользователя"
   ]
  },
  {
   "cell_type": "code",
   "execution_count": 30,
   "metadata": {},
   "outputs": [
    {
     "name": "stdout",
     "output_type": "stream",
     "text": [
      "[2. 4.]\n"
     ]
    }
   ],
   "source": [
    "print(np.percentile(ordersByUsers['orders'], [95, 99])) "
   ]
  },
  {
   "cell_type": "markdown",
   "metadata": {},
   "source": [
    "Не более 5% пользователей оформляли больше чем 2 заказа и не более 1% более 4 заказов. Расчитам перцентили для более точного ответа. "
   ]
  },
  {
   "cell_type": "code",
   "execution_count": 31,
   "metadata": {},
   "outputs": [
    {
     "name": "stdout",
     "output_type": "stream",
     "text": [
      "[1. 2. 2. 2. 2. 2. 2. 3.]\n"
     ]
    }
   ],
   "source": [
    "print(np.percentile(ordersByUsers['orders'], [90, 91, 93, 94, 95, 96, 97, 98])) "
   ]
  },
  {
   "cell_type": "markdown",
   "metadata": {},
   "source": [
    "Видим что 98% пользователей делают 1 или 2 заказа. Остальные 2% аномальные значения."
   ]
  },
  {
   "cell_type": "markdown",
   "metadata": {},
   "source": [
    "### Точечный график стоимостей заказов"
   ]
  },
  {
   "cell_type": "code",
   "execution_count": 32,
   "metadata": {},
   "outputs": [
    {
     "data": {
      "image/png": "[encoded data removed]",
      "text/plain": [
       "<Figure size 640x480 with 1 Axes>"
      ]
     },
     "metadata": {},
     "output_type": "display_data"
    }
   ],
   "source": [
    "x_values = pd.Series(range(0,len(orders['revenue'])))\n",
    "plt.scatter(x_values, orders['revenue']) \n",
    "\n",
    "plt.title('Стоимость заказов по пользователям')\n",
    "plt.ylabel('Стоимость заказов')\n",
    "plt.xlabel('Количество пользователей');"
   ]
  },
  {
   "cell_type": "markdown",
   "metadata": {},
   "source": [
    "Большенство заказов имеют минималью вырочку. По графику видно аномальный заказ. Построим более наглядную модель. "
   ]
  },
  {
   "cell_type": "code",
   "execution_count": 44,
   "metadata": {},
   "outputs": [
    {
     "data": {
      "image/png": "[encoded data removed]",
      "text/plain": [
       "<Figure size 1500x500 with 1 Axes>"
      ]
     },
     "metadata": {},
     "output_type": "display_data"
    }
   ],
   "source": [
    "norm_orders = orders[orders['revenue']<=195000]['revenue']\n",
    "xn_values = pd.Series(range(0,len(norm_orders)))\n",
    "plt.figure(figsize=(15,5))\n",
    "plt.grid()\n",
    "plt.scatter(xn_values, norm_orders)\n",
    "plt.title('Стоимость заказов по пользователям')\n",
    "plt.ylabel('Стоимость заказов')\n",
    "plt.xlabel('Количество пользователей');"
   ]
  },
  {
   "cell_type": "markdown",
   "metadata": {},
   "source": [
    "По графику можно выбрать границу аномальных заказов до 20000. Большенство заказов суммой примерно 10000."
   ]
  },
  {
   "cell_type": "markdown",
   "metadata": {},
   "source": [
    "### 95-й и 99-й перцентили стоимости заказов."
   ]
  },
  {
   "cell_type": "code",
   "execution_count": 34,
   "metadata": {},
   "outputs": [
    {
     "name": "stdout",
     "output_type": "stream",
     "text": [
      "[28000.  58233.2]\n"
     ]
    }
   ],
   "source": [
    "print(np.percentile(orders['revenue'], [95, 99]))"
   ]
  },
  {
   "cell_type": "markdown",
   "metadata": {},
   "source": [
    "Не более 5% заказов дороже 28000, укажем это значение анамальным. Не более 1% дороже 58233. "
   ]
  },
  {
   "cell_type": "markdown",
   "metadata": {},
   "source": [
    "### Cтатистическая значимость различий в среднем количестве заказов на посетителя между группами по «сырым» данным"
   ]
  },
  {
   "cell_type": "markdown",
   "metadata": {},
   "source": [
    "Сформулируем гипитизу: Н0 - статистически значимых различий в конверсии между группами нет;\n",
    "Н1 - есть статистически значимые различия в конверсии между группами "
   ]
  },
  {
   "cell_type": "code",
   "execution_count": 35,
   "metadata": {},
   "outputs": [
    {
     "name": "stdout",
     "output_type": "stream",
     "text": [
      "        date  ordersPerDateA  revenuePerDateA  ordersPerDateB  \\\n",
      "0 2019-08-01              24           148579              21   \n",
      "1 2019-08-02              20            93822              24   \n",
      "2 2019-08-03              24           112473              16   \n",
      "3 2019-08-04              16            70825              17   \n",
      "4 2019-08-05              25           124218              23   \n",
      "\n",
      "   revenuePerDateB  ordersCummulativeA  revenueCummulativeA  \\\n",
      "0           101217                  24               148579   \n",
      "1           165531                  44               242401   \n",
      "2           114248                  68               354874   \n",
      "3           108571                  84               425699   \n",
      "4            92428                 109               549917   \n",
      "\n",
      "   ordersCummulativeB  revenueCummulativeB  visitorsPerDateA  \\\n",
      "0                  21               101217               719   \n",
      "1                  45               266748               619   \n",
      "2                  61               380996               507   \n",
      "3                  78               489567               717   \n",
      "4                 101               581995               756   \n",
      "\n",
      "   visitorsPerDateB  visitorsCummulativeA  visitorsCummulativeB  \n",
      "0               713                   719                   713  \n",
      "1               581                  1338                  1294  \n",
      "2               509                  1845                  1803  \n",
      "3               770                  2562                  2573  \n",
      "4               707                  3318                  3280  \n"
     ]
    }
   ],
   "source": [
    "# подготовка данных\n",
    "visitorsADaily = visitors[visitors['group'] == 'A'][['date', 'visitors']]\n",
    "visitorsADaily.columns = ['date', 'visitorsPerDateA']\n",
    "\n",
    "visitorsACummulative = visitorsADaily.apply(\n",
    "    lambda x: visitorsADaily[visitorsADaily['date'] <= x['date']].agg(\n",
    "        {'date': 'max', 'visitorsPerDateA': 'sum'}\n",
    "    ),\n",
    "    axis=1,\n",
    ")\n",
    "visitorsACummulative.columns = ['date', 'visitorsCummulativeA']\n",
    "\n",
    "visitorsBDaily = visitors[visitors['group'] == 'B'][['date', 'visitors']]\n",
    "visitorsBDaily.columns = ['date', 'visitorsPerDateB']\n",
    "\n",
    "visitorsBCummulative = visitorsBDaily.apply(\n",
    "    lambda x: visitorsBDaily[visitorsBDaily['date'] <= x['date']].agg(\n",
    "        {'date': 'max', 'visitorsPerDateB': 'sum'}\n",
    "    ),\n",
    "    axis=1,\n",
    ")\n",
    "visitorsBCummulative.columns = ['date', 'visitorsCummulativeB']\n",
    "\n",
    "ordersADaily = (\n",
    "    orders[orders['group'] == 'A'][['date', 'transactionId', 'visitorId', 'revenue']]\n",
    "    .groupby('date', as_index=False)\n",
    "    .agg({'transactionId': pd.Series.nunique, 'revenue': 'sum'})\n",
    ")\n",
    "ordersADaily.columns = ['date', 'ordersPerDateA', 'revenuePerDateA']\n",
    "\n",
    "ordersACummulative = ordersADaily.apply(\n",
    "    lambda x: ordersADaily[ordersADaily['date'] <= x['date']].agg(\n",
    "        {'date': 'max', 'ordersPerDateA': 'sum', 'revenuePerDateA': 'sum'}\n",
    "    ),\n",
    "    axis=1,\n",
    ").sort_values(by=['date'])\n",
    "ordersACummulative.columns = [\n",
    "    'date',\n",
    "    'ordersCummulativeA',\n",
    "    'revenueCummulativeA',\n",
    "]\n",
    "\n",
    "ordersBDaily = (\n",
    "    orders[orders['group'] == 'B'][['date', 'transactionId', 'visitorId', 'revenue']]\n",
    "    .groupby('date', as_index=False)\n",
    "    .agg({'transactionId': pd.Series.nunique, 'revenue': 'sum'})\n",
    ")\n",
    "ordersBDaily.columns = ['date', 'ordersPerDateB', 'revenuePerDateB']\n",
    "\n",
    "ordersBCummulative = ordersBDaily.apply(\n",
    "    lambda x: ordersBDaily[ordersBDaily['date'] <= x['date']].agg(\n",
    "        {'date': 'max', 'ordersPerDateB': 'sum', 'revenuePerDateB': 'sum'}\n",
    "    ),\n",
    "    axis=1,\n",
    ").sort_values(by=['date'])\n",
    "ordersBCummulative.columns = [\n",
    "    'date',\n",
    "    'ordersCummulativeB',\n",
    "    'revenueCummulativeB',\n",
    "]\n",
    "\n",
    "data = (\n",
    "    ordersADaily.merge(\n",
    "        ordersBDaily, left_on='date', right_on='date', how='left'\n",
    "    )\n",
    "    .merge(ordersACummulative, left_on='date', right_on='date', how='left')\n",
    "    .merge(ordersBCummulative, left_on='date', right_on='date', how='left')\n",
    "    .merge(visitorsADaily, left_on='date', right_on='date', how='left')\n",
    "    .merge(visitorsBDaily, left_on='date', right_on='date', how='left')\n",
    "    .merge(visitorsACummulative, left_on='date', right_on='date', how='left')\n",
    "    .merge(visitorsBCummulative, left_on='date', right_on='date', how='left')\n",
    ")\n",
    "\n",
    "print(data.head(5))"
   ]
  },
  {
   "cell_type": "code",
   "execution_count": 36,
   "metadata": {},
   "outputs": [
    {
     "name": "stdout",
     "output_type": "stream",
     "text": [
      "p-value 0.017\n",
      "Относительное различие среднего количества заказов между сегментами 13.8%\n"
     ]
    }
   ],
   "source": [
    "# посчитаем статистическую значимость различия\n",
    "ordersByUsersA = (\n",
    "    orders[orders['group'] == 'A']\n",
    "    .groupby('visitorId', as_index=False)\n",
    "    .agg({'transactionId': pd.Series.nunique})\n",
    ")\n",
    "ordersByUsersA.columns = ['visitorId', 'orders']\n",
    "\n",
    "ordersByUsersB = (\n",
    "    orders[orders['group'] == 'B']\n",
    "    .groupby('visitorId', as_index=False)\n",
    "    .agg({'transactionId': pd.Series.nunique})\n",
    ")\n",
    "ordersByUsersB.columns = ['visitorId', 'orders']\n",
    "\n",
    "sampleA = pd.concat([ordersByUsersA['orders'],pd.Series(0, index=np.arange(data['visitorsPerDateA'].sum() - len(ordersByUsersA['orders'])), name='orders')],axis=0)\n",
    "\n",
    "sampleB = pd.concat([ordersByUsersB['orders'],pd.Series(0, index=np.arange(data['visitorsPerDateB'].sum() - len(ordersByUsersB['orders'])), name='orders')],axis=0)\n",
    "\n",
    "print('p-value {0:.3f}'.format(stats.mannwhitneyu(sampleA, sampleB, alternative = 'two-sided')[1]))\n",
    "print('Относительное различие среднего количества заказов между сегментами {0:.1%}'.format(sampleB.mean() / sampleA.mean() - 1))"
   ]
  },
  {
   "cell_type": "markdown",
   "metadata": {},
   "source": [
    "p-value меньше alpha = 0.05, значит нулевую гипотезу о том, что статистически значимых различий в конверсии между группами нет, отвергаем. Анализ \"сырых данных\" сообщает, что в среднем количестве заказов между группами есть статистически значимые различия. Относительный прирост среднего группы B равен 13.8%."
   ]
  },
  {
   "cell_type": "markdown",
   "metadata": {},
   "source": [
    "### Статистическая значимость различий в среднем чеке заказа между группами по «сырым» данным"
   ]
  },
  {
   "cell_type": "markdown",
   "metadata": {},
   "source": [
    "Сформулируем гипитизу: Н0 - статистически значимых различий в среднем чеке заказа между группами нет;\n",
    "Н1 - есть статистически значимые различия в среднем чеке заказа между группами "
   ]
  },
  {
   "cell_type": "code",
   "execution_count": 37,
   "metadata": {},
   "outputs": [
    {
     "name": "stdout",
     "output_type": "stream",
     "text": [
      "p-value 0.729\n",
      "Относительное различие среднего чека между сегментами 25.9%\n"
     ]
    }
   ],
   "source": [
    "print('p-value {0:.3f}'.format(stats.mannwhitneyu(orders[orders['group']=='A']['revenue'], orders[orders['group']=='B']['revenue'])[1]))\n",
    "print('Относительное различие среднего чека между сегментами {0:.1%}'.format(orders[orders['group']=='B']['revenue'].mean()/orders[orders['group']=='A']['revenue'].mean()-1))"
   ]
  },
  {
   "cell_type": "markdown",
   "metadata": {},
   "source": [
    "p-value больше alpha = 0.05, значит статистически значимых различий в среднем чеке заказа между группами нет. При этом относительный прирост среднего чека группы B равен 25.9%."
   ]
  },
  {
   "cell_type": "markdown",
   "metadata": {},
   "source": [
    "### Cтатистическая значимость различий в среднем количестве заказов на посетителя между группами по «очищенным» данным"
   ]
  },
  {
   "cell_type": "markdown",
   "metadata": {},
   "source": [
    "Примем за аномальных пользователей тех, кто совершил от 3 заказов или совершил заказ дороже 28 000 рублей. Так мы уберём 2% пользователей с наибольшим числом заказов и  5% пользователей с дорогими заказами. Сделаем срезы пользователей с числом заказов больше 2 — usersWithManyOrders и пользователей, совершивших заказы дороже 28 000 — usersWithExpensiveOrders. Объединим их в таблице abnormalUsers."
   ]
  },
  {
   "cell_type": "code",
   "execution_count": 38,
   "metadata": {},
   "outputs": [],
   "source": [
    "a = np.percentile(ordersByUsers['orders'], [95, 99])"
   ]
  },
  {
   "cell_type": "code",
   "execution_count": 39,
   "metadata": {},
   "outputs": [],
   "source": [
    "b = a[0]"
   ]
  },
  {
   "cell_type": "code",
   "execution_count": 40,
   "metadata": {},
   "outputs": [
    {
     "name": "stdout",
     "output_type": "stream",
     "text": [
      "1099    148427295\n",
      "18      199603092\n",
      "928     204675465\n",
      "23      237748145\n",
      "37      249864742\n",
      "Name: visitorId, dtype: int64\n",
      "74\n"
     ]
    }
   ],
   "source": [
    "usersWithManyOrders = pd.concat(\n",
    "    [\n",
    "        ordersByUsersA[ordersByUsersA['orders'] > b]['visitorId'],\n",
    "        ordersByUsersB[ordersByUsersB['orders'] > b]['visitorId'],\n",
    "    ],\n",
    "    axis=0,\n",
    ")\n",
    "usersWithExpensiveOrders = orders[orders['revenue'] > 28000]['visitorId']\n",
    "abnormalUsers = (\n",
    "    pd.concat([usersWithManyOrders, usersWithExpensiveOrders], axis=0)\n",
    "    .drop_duplicates()\n",
    "    .sort_values()\n",
    ")\n",
    "print(abnormalUsers.head(5))\n",
    "print(abnormalUsers.shape[0])"
   ]
  },
  {
   "cell_type": "markdown",
   "metadata": {},
   "source": [
    "Всего 74 аномальных пользователей. Узнаем, как их действия повлияли на результаты теста. Посчитаем статистическую значимость различий в среднем количестве заказов между группами теста по очищенным данным. Сначала подготовим выборки количества заказов по пользователям по группам теста и после применим статистический критерий Манна-Уитни к полученным выборкам."
   ]
  },
  {
   "cell_type": "markdown",
   "metadata": {},
   "source": [
    "Сформулируем гипотизы:\n",
    "Н0 - статистически значимых различий в конверсии между группами по «очищенным» данным нет;\n",
    "Н1 - есть статистически значимые различия в конверсии между группами по «очищенным» данным"
   ]
  },
  {
   "cell_type": "code",
   "execution_count": 41,
   "metadata": {},
   "outputs": [
    {
     "name": "stdout",
     "output_type": "stream",
     "text": [
      "p-value 0.013\n",
      "Относительное различие среднего количества заказов между сегментами 17.3%\n"
     ]
    }
   ],
   "source": [
    "sampleAFiltered = pd.concat(\n",
    "    [\n",
    "        ordersByUsersA[\n",
    "            np.logical_not(ordersByUsersA['visitorId'].isin(abnormalUsers))\n",
    "        ]['orders'],\n",
    "        pd.Series(\n",
    "            0,\n",
    "            index=np.arange(\n",
    "                data['visitorsPerDateA'].sum() - len(ordersByUsersA['orders'])\n",
    "            ),\n",
    "            name='orders',\n",
    "        ),\n",
    "    ],\n",
    "    axis=0,\n",
    ")\n",
    "\n",
    "sampleBFiltered = pd.concat(\n",
    "    [\n",
    "        ordersByUsersB[\n",
    "            np.logical_not(ordersByUsersB['visitorId'].isin(abnormalUsers))\n",
    "        ]['orders'],\n",
    "        pd.Series(\n",
    "            0,\n",
    "            index=np.arange(\n",
    "                data['visitorsPerDateB'].sum() - len(ordersByUsersB['orders'])\n",
    "            ),\n",
    "            name='orders',\n",
    "        ),\n",
    "    ],\n",
    "    axis=0,\n",
    ")\n",
    "\n",
    "print('p-value {0:.3f}'.format(stats.mannwhitneyu(sampleAFiltered, sampleBFiltered)[1]))\n",
    "print('Относительное различие среднего количества заказов между сегментами {0:.1%}'.format(sampleBFiltered.mean()/sampleAFiltered.mean()-1))"
   ]
  },
  {
   "cell_type": "markdown",
   "metadata": {},
   "source": [
    "Результаты по среднему количеству заказов практически не изменились. Сегмент В значительно лучше сегмента А."
   ]
  },
  {
   "cell_type": "markdown",
   "metadata": {},
   "source": [
    "### Статистическая значимость различий в среднем чеке заказа между группами по «очищенным» данным"
   ]
  },
  {
   "cell_type": "markdown",
   "metadata": {},
   "source": [
    "Сформулируем гипитизы: Н0 - статистически значимых различий в среднем чеке заказа между группами по «очищенным» данным нет; \n",
    "Н1 - есть статистически значимые различия в среднем чеке заказа между группами по «очищенным» данным."
   ]
  },
  {
   "cell_type": "code",
   "execution_count": 42,
   "metadata": {},
   "outputs": [
    {
     "name": "stdout",
     "output_type": "stream",
     "text": [
      "0.738\n",
      "Относительное различие среднего чека между сегментами -2.0%\n"
     ]
    }
   ],
   "source": [
    "print(\n",
    "    '{0:.3f}'.format(\n",
    "        stats.mannwhitneyu(\n",
    "            orders[\n",
    "                np.logical_and(\n",
    "                    orders['group'] == 'A',\n",
    "                    np.logical_not(orders['visitorId'].isin(abnormalUsers)),\n",
    "                )\n",
    "            ]['revenue'],\n",
    "            orders[\n",
    "                np.logical_and(\n",
    "                    orders['group'] == 'B',\n",
    "                    np.logical_not(orders['visitorId'].isin(abnormalUsers)),\n",
    "                )\n",
    "            ]['revenue'],\n",
    "        )[1]\n",
    "    )\n",
    ")\n",
    "\n",
    "print(\n",
    "    \"Относительное различие среднего чека между сегментами {0:.1%}\".format(\n",
    "        orders[\n",
    "            np.logical_and(\n",
    "                orders['group'] == 'B',\n",
    "                np.logical_not(orders['visitorId'].isin(abnormalUsers)),\n",
    "            )\n",
    "        ]['revenue'].mean()\n",
    "        / orders[\n",
    "            np.logical_and(\n",
    "                orders['group'] == 'A',\n",
    "                np.logical_not(orders['visitorId'].isin(abnormalUsers)),\n",
    "            )\n",
    "        ]['revenue'].mean()\n",
    "        - 1\n",
    "    )\n",
    ")"
   ]
  },
  {
   "cell_type": "markdown",
   "metadata": {},
   "source": [
    "P-value практически не изменился, значит, статистически значимых различий в среднем чеке заказа между группами по «очищенным» данным нет. Относительный прирост возникает случайным образом"
   ]
  },
  {
   "cell_type": "markdown",
   "metadata": {},
   "source": [
    "### Решение по результатам теста"
   ]
  },
  {
   "cell_type": "markdown",
   "metadata": {},
   "source": [
    "Остановить тест, зафиксировать победу группы В."
   ]
  },
  {
   "cell_type": "markdown",
   "metadata": {},
   "source": [
    "## Выводы:"
   ]
  },
  {
   "cell_type": "markdown",
   "metadata": {},
   "source": [
    "Для увеличения выручки интернет-магазина был сформирован список гипотез, который в ходе анализа приоритизироли и запустили A/B-тест.\n",
    "Результат приоритизирования гипотез: \n",
    "* Добавить два новых канала привлечения трафика, что позволит привлекать на 30% больше пользователей\t\n",
    "* Добавить форму подписки на все основные страницы, чтобы собрать базу клиентов для email-рассылок\t\n",
    "\n",
    "Реализация гипотиз позволит изпользовать не большие затраты ресурсов и максимизировать ожидаемое улучшение ключевых метрик бизнеса.\n",
    "\n",
    "Результаты A/B-теста: \n",
    "* Остановить тест, зафиксировать победу группы В\n",
    "* Выручка почти равномерно увеличивается в течение всего теста. У группы В на протяжении всего теста более высокие показатели.\n",
    "* Средний чек в группе В более высокий становится равномерным ближе к концу теста у обеих групп.\n",
    "* 98% пользователей делают 1 или 2 заказа. Не более 5% заказов дороже 28000.\n",
    "* Есть статистически значимые различия в конверсии между группами. Относительный прирост в среднем количестве заказов группы B по «сырым» данным равен 13.8%, по «очищенным» данным 17.3%.\n",
    "* Статистически значимых различий в среднем чеке заказа между группами нет. Относительный прирост, который возникает случайным образом, среднего чека группы B по «сырым» данным равен 25.9%, по «очищенным» данным -2%."
   ]
  },
  {
   "cell_type": "markdown",
   "metadata": {},
   "source": [
    "[Начало](#head)"
   ]
  }
 ],
 "metadata": {
  "ExecuteTimeLog": [
   {
    "duration": 52,
    "start_time": "2022-12-19T16:51:03.740Z"
   },
   {
    "duration": 431,
    "start_time": "2022-12-19T16:51:06.334Z"
   },
   {
    "duration": 29,
    "start_time": "2022-12-19T16:51:06.767Z"
   },
   {
    "duration": 60,
    "start_time": "2022-12-19T16:51:26.244Z"
   },
   {
    "duration": 16,
    "start_time": "2022-12-19T16:51:31.610Z"
   },
   {
    "duration": 3,
    "start_time": "2022-12-19T16:55:40.797Z"
   },
   {
    "duration": 27,
    "start_time": "2022-12-19T16:55:41.384Z"
   },
   {
    "duration": 9,
    "start_time": "2022-12-19T16:55:41.916Z"
   },
   {
    "duration": 408,
    "start_time": "2022-12-19T16:56:15.167Z"
   },
   {
    "duration": 27,
    "start_time": "2022-12-19T16:56:15.578Z"
   },
   {
    "duration": 15,
    "start_time": "2022-12-19T16:56:15.607Z"
   },
   {
    "duration": 2,
    "start_time": "2022-12-19T16:58:24.961Z"
   },
   {
    "duration": 27,
    "start_time": "2022-12-19T16:58:25.581Z"
   },
   {
    "duration": 8,
    "start_time": "2022-12-19T16:58:26.134Z"
   },
   {
    "duration": 391,
    "start_time": "2022-12-19T16:59:02.773Z"
   },
   {
    "duration": 27,
    "start_time": "2022-12-19T16:59:03.166Z"
   },
   {
    "duration": 14,
    "start_time": "2022-12-19T16:59:03.194Z"
   },
   {
    "duration": 2,
    "start_time": "2022-12-19T16:59:51.610Z"
   },
   {
    "duration": 6,
    "start_time": "2022-12-19T17:06:59.920Z"
   },
   {
    "duration": 9,
    "start_time": "2022-12-19T17:07:05.569Z"
   },
   {
    "duration": 8,
    "start_time": "2022-12-19T17:09:12.285Z"
   },
   {
    "duration": 11,
    "start_time": "2022-12-19T17:10:02.564Z"
   },
   {
    "duration": 13,
    "start_time": "2022-12-19T17:13:30.304Z"
   },
   {
    "duration": 20,
    "start_time": "2022-12-19T17:15:32.149Z"
   },
   {
    "duration": 9,
    "start_time": "2022-12-19T17:15:48.543Z"
   },
   {
    "duration": 12,
    "start_time": "2022-12-19T17:15:57.693Z"
   },
   {
    "duration": 11,
    "start_time": "2022-12-19T17:16:06.905Z"
   },
   {
    "duration": 2,
    "start_time": "2022-12-19T17:16:36.117Z"
   },
   {
    "duration": 11,
    "start_time": "2022-12-19T17:17:16.103Z"
   },
   {
    "duration": 46,
    "start_time": "2022-12-19T17:25:10.274Z"
   },
   {
    "duration": 10,
    "start_time": "2022-12-19T17:36:49.825Z"
   },
   {
    "duration": 2,
    "start_time": "2022-12-19T17:49:23.649Z"
   },
   {
    "duration": 139,
    "start_time": "2022-12-19T17:50:05.587Z"
   },
   {
    "duration": 71,
    "start_time": "2022-12-19T17:50:37.285Z"
   },
   {
    "duration": 84,
    "start_time": "2022-12-19T18:09:50.949Z"
   },
   {
    "duration": 19,
    "start_time": "2022-12-19T18:10:12.620Z"
   },
   {
    "duration": 448,
    "start_time": "2022-12-19T18:10:46.164Z"
   },
   {
    "duration": 39,
    "start_time": "2022-12-19T18:10:50.512Z"
   },
   {
    "duration": 272,
    "start_time": "2022-12-19T18:14:32.634Z"
   },
   {
    "duration": 296,
    "start_time": "2022-12-19T18:15:11.980Z"
   },
   {
    "duration": 275,
    "start_time": "2022-12-19T18:15:36.176Z"
   },
   {
    "duration": 305,
    "start_time": "2022-12-19T18:15:58.883Z"
   },
   {
    "duration": 514,
    "start_time": "2022-12-19T18:16:34.427Z"
   },
   {
    "duration": 407,
    "start_time": "2022-12-19T18:16:47.926Z"
   },
   {
    "duration": 10,
    "start_time": "2022-12-19T18:17:01.851Z"
   },
   {
    "duration": 292,
    "start_time": "2022-12-19T18:17:05.826Z"
   },
   {
    "duration": 279,
    "start_time": "2022-12-19T18:17:31.503Z"
   },
   {
    "duration": 298,
    "start_time": "2022-12-19T18:17:39.125Z"
   },
   {
    "duration": 297,
    "start_time": "2022-12-19T18:17:47.947Z"
   },
   {
    "duration": 286,
    "start_time": "2022-12-19T18:17:52.370Z"
   },
   {
    "duration": 451,
    "start_time": "2022-12-19T18:17:57.793Z"
   },
   {
    "duration": 442,
    "start_time": "2022-12-19T18:18:07.590Z"
   },
   {
    "duration": 270,
    "start_time": "2022-12-19T18:18:36.881Z"
   },
   {
    "duration": 266,
    "start_time": "2022-12-19T18:18:45.784Z"
   },
   {
    "duration": 261,
    "start_time": "2022-12-19T18:18:51.286Z"
   },
   {
    "duration": 382,
    "start_time": "2022-12-19T18:19:46.028Z"
   },
   {
    "duration": 295,
    "start_time": "2022-12-19T18:20:32.428Z"
   },
   {
    "duration": 761,
    "start_time": "2022-12-19T18:20:43.038Z"
   },
   {
    "duration": 27,
    "start_time": "2022-12-19T18:20:43.801Z"
   },
   {
    "duration": 11,
    "start_time": "2022-12-19T18:20:43.830Z"
   },
   {
    "duration": 25,
    "start_time": "2022-12-19T18:20:43.843Z"
   },
   {
    "duration": 14,
    "start_time": "2022-12-19T18:20:43.870Z"
   },
   {
    "duration": 13,
    "start_time": "2022-12-19T18:20:43.886Z"
   },
   {
    "duration": 14,
    "start_time": "2022-12-19T18:20:43.902Z"
   },
   {
    "duration": 60,
    "start_time": "2022-12-19T18:20:43.918Z"
   },
   {
    "duration": 24,
    "start_time": "2022-12-19T18:20:43.980Z"
   },
   {
    "duration": 275,
    "start_time": "2022-12-19T18:20:44.006Z"
   },
   {
    "duration": 307,
    "start_time": "2022-12-19T18:20:44.283Z"
   },
   {
    "duration": 282,
    "start_time": "2022-12-19T18:21:11.391Z"
   },
   {
    "duration": 345,
    "start_time": "2022-12-19T18:21:28.418Z"
   },
   {
    "duration": 305,
    "start_time": "2022-12-19T18:21:36.270Z"
   },
   {
    "duration": 338,
    "start_time": "2022-12-19T18:21:47.671Z"
   },
   {
    "duration": 403,
    "start_time": "2022-12-19T18:25:11.014Z"
   },
   {
    "duration": 426,
    "start_time": "2022-12-19T18:25:18.355Z"
   },
   {
    "duration": 396,
    "start_time": "2022-12-19T18:25:26.275Z"
   },
   {
    "duration": 384,
    "start_time": "2022-12-19T18:25:38.736Z"
   },
   {
    "duration": 467,
    "start_time": "2022-12-19T18:25:44.340Z"
   },
   {
    "duration": 492,
    "start_time": "2022-12-19T18:28:01.941Z"
   },
   {
    "duration": 283,
    "start_time": "2022-12-19T18:28:09.398Z"
   },
   {
    "duration": 273,
    "start_time": "2022-12-19T18:28:16.177Z"
   },
   {
    "duration": 292,
    "start_time": "2022-12-19T18:28:28.905Z"
   },
   {
    "duration": 307,
    "start_time": "2022-12-19T18:28:38.036Z"
   },
   {
    "duration": 296,
    "start_time": "2022-12-19T18:30:00.935Z"
   },
   {
    "duration": 280,
    "start_time": "2022-12-19T18:32:10.502Z"
   },
   {
    "duration": 3,
    "start_time": "2022-12-19T18:37:10.069Z"
   },
   {
    "duration": 260,
    "start_time": "2022-12-19T18:38:48.326Z"
   },
   {
    "duration": 298,
    "start_time": "2022-12-19T18:40:07.222Z"
   },
   {
    "duration": 366,
    "start_time": "2022-12-19T19:13:07.918Z"
   },
   {
    "duration": 712,
    "start_time": "2022-12-19T19:13:44.737Z"
   },
   {
    "duration": 28,
    "start_time": "2022-12-19T19:13:45.451Z"
   },
   {
    "duration": 28,
    "start_time": "2022-12-19T19:13:45.481Z"
   },
   {
    "duration": 44,
    "start_time": "2022-12-19T19:13:45.511Z"
   },
   {
    "duration": 32,
    "start_time": "2022-12-19T19:13:45.557Z"
   },
   {
    "duration": 45,
    "start_time": "2022-12-19T19:13:45.591Z"
   },
   {
    "duration": 38,
    "start_time": "2022-12-19T19:13:45.638Z"
   },
   {
    "duration": 73,
    "start_time": "2022-12-19T19:13:45.678Z"
   },
   {
    "duration": 25,
    "start_time": "2022-12-19T19:13:45.752Z"
   },
   {
    "duration": 272,
    "start_time": "2022-12-19T19:13:45.779Z"
   },
   {
    "duration": 290,
    "start_time": "2022-12-19T19:13:46.054Z"
   },
   {
    "duration": 283,
    "start_time": "2022-12-19T19:13:46.346Z"
   },
   {
    "duration": 381,
    "start_time": "2022-12-19T19:13:46.630Z"
   },
   {
    "duration": 766,
    "start_time": "2022-12-20T16:33:23.901Z"
   },
   {
    "duration": 72,
    "start_time": "2022-12-20T16:33:24.669Z"
   },
   {
    "duration": 10,
    "start_time": "2022-12-20T16:33:24.743Z"
   },
   {
    "duration": 10,
    "start_time": "2022-12-20T16:33:24.755Z"
   },
   {
    "duration": 9,
    "start_time": "2022-12-20T16:33:24.767Z"
   },
   {
    "duration": 13,
    "start_time": "2022-12-20T16:33:24.777Z"
   },
   {
    "duration": 10,
    "start_time": "2022-12-20T16:33:24.792Z"
   },
   {
    "duration": 96,
    "start_time": "2022-12-20T16:33:24.804Z"
   },
   {
    "duration": 62,
    "start_time": "2022-12-20T16:33:24.901Z"
   },
   {
    "duration": 243,
    "start_time": "2022-12-20T16:33:24.965Z"
   },
   {
    "duration": 270,
    "start_time": "2022-12-20T16:33:25.209Z"
   },
   {
    "duration": 330,
    "start_time": "2022-12-20T16:33:25.481Z"
   },
   {
    "duration": 387,
    "start_time": "2022-12-20T16:33:25.812Z"
   },
   {
    "duration": 320,
    "start_time": "2022-12-20T16:34:00.641Z"
   },
   {
    "duration": 424,
    "start_time": "2022-12-20T16:36:09.662Z"
   },
   {
    "duration": 400,
    "start_time": "2022-12-20T16:36:15.113Z"
   },
   {
    "duration": 390,
    "start_time": "2022-12-20T16:36:24.587Z"
   },
   {
    "duration": 369,
    "start_time": "2022-12-20T16:37:08.395Z"
   },
   {
    "duration": 165,
    "start_time": "2022-12-20T16:42:56.573Z"
   },
   {
    "duration": 276,
    "start_time": "2022-12-20T16:43:59.816Z"
   },
   {
    "duration": 264,
    "start_time": "2022-12-20T16:44:15.813Z"
   },
   {
    "duration": 262,
    "start_time": "2022-12-20T16:45:15.075Z"
   },
   {
    "duration": 2,
    "start_time": "2022-12-20T16:51:22.259Z"
   },
   {
    "duration": 232,
    "start_time": "2022-12-20T16:52:02.253Z"
   },
   {
    "duration": 397,
    "start_time": "2022-12-20T16:52:12.614Z"
   },
   {
    "duration": 396,
    "start_time": "2022-12-20T16:53:16.309Z"
   },
   {
    "duration": 69,
    "start_time": "2022-12-20T16:58:26.331Z"
   },
   {
    "duration": 7,
    "start_time": "2022-12-20T16:59:08.942Z"
   },
   {
    "duration": 9,
    "start_time": "2022-12-20T16:59:46.826Z"
   },
   {
    "duration": 7,
    "start_time": "2022-12-20T17:00:18.729Z"
   },
   {
    "duration": 9,
    "start_time": "2022-12-20T17:00:29.619Z"
   },
   {
    "duration": 9,
    "start_time": "2022-12-20T17:00:59.888Z"
   },
   {
    "duration": 172,
    "start_time": "2022-12-20T17:01:14.068Z"
   },
   {
    "duration": 124,
    "start_time": "2022-12-20T17:02:13.881Z"
   },
   {
    "duration": 580,
    "start_time": "2022-12-20T17:22:14.166Z"
   },
   {
    "duration": 26,
    "start_time": "2022-12-20T17:22:14.748Z"
   },
   {
    "duration": 9,
    "start_time": "2022-12-20T17:22:14.776Z"
   },
   {
    "duration": 10,
    "start_time": "2022-12-20T17:22:14.787Z"
   },
   {
    "duration": 10,
    "start_time": "2022-12-20T17:22:14.798Z"
   },
   {
    "duration": 15,
    "start_time": "2022-12-20T17:22:14.809Z"
   },
   {
    "duration": 23,
    "start_time": "2022-12-20T17:22:14.825Z"
   },
   {
    "duration": 60,
    "start_time": "2022-12-20T17:22:14.849Z"
   },
   {
    "duration": 30,
    "start_time": "2022-12-20T17:22:14.911Z"
   },
   {
    "duration": 250,
    "start_time": "2022-12-20T17:22:14.944Z"
   },
   {
    "duration": 280,
    "start_time": "2022-12-20T17:22:15.196Z"
   },
   {
    "duration": 290,
    "start_time": "2022-12-20T17:22:15.478Z"
   },
   {
    "duration": 391,
    "start_time": "2022-12-20T17:22:15.770Z"
   },
   {
    "duration": 298,
    "start_time": "2022-12-20T17:22:16.163Z"
   },
   {
    "duration": 505,
    "start_time": "2022-12-20T17:22:16.463Z"
   },
   {
    "duration": 136,
    "start_time": "2022-12-20T17:22:16.971Z"
   },
   {
    "duration": 5,
    "start_time": "2022-12-20T17:23:02.603Z"
   },
   {
    "duration": 4,
    "start_time": "2022-12-20T17:23:23.184Z"
   },
   {
    "duration": 70,
    "start_time": "2022-12-20T17:25:41.287Z"
   },
   {
    "duration": 5,
    "start_time": "2022-12-20T17:26:41.158Z"
   },
   {
    "duration": 4,
    "start_time": "2022-12-20T17:26:55.502Z"
   },
   {
    "duration": 4,
    "start_time": "2022-12-20T17:27:03.644Z"
   },
   {
    "duration": 4,
    "start_time": "2022-12-20T17:27:25.028Z"
   },
   {
    "duration": 4,
    "start_time": "2022-12-20T17:27:28.549Z"
   },
   {
    "duration": 4,
    "start_time": "2022-12-20T17:27:45.048Z"
   },
   {
    "duration": 5,
    "start_time": "2022-12-20T17:27:56.022Z"
   },
   {
    "duration": 82,
    "start_time": "2022-12-20T17:31:25.302Z"
   },
   {
    "duration": 7,
    "start_time": "2022-12-20T17:31:48.453Z"
   },
   {
    "duration": 131,
    "start_time": "2022-12-20T17:31:56.271Z"
   },
   {
    "duration": 134,
    "start_time": "2022-12-20T17:32:44.755Z"
   },
   {
    "duration": 169,
    "start_time": "2022-12-20T17:37:22.299Z"
   },
   {
    "duration": 237,
    "start_time": "2022-12-20T17:37:34.371Z"
   },
   {
    "duration": 129,
    "start_time": "2022-12-20T17:37:42.358Z"
   },
   {
    "duration": 148,
    "start_time": "2022-12-20T17:38:20.280Z"
   },
   {
    "duration": 147,
    "start_time": "2022-12-20T17:38:57.468Z"
   },
   {
    "duration": 114,
    "start_time": "2022-12-20T17:39:28.816Z"
   },
   {
    "duration": 137,
    "start_time": "2022-12-20T17:40:10.133Z"
   },
   {
    "duration": 187,
    "start_time": "2022-12-20T17:40:37.398Z"
   },
   {
    "duration": 139,
    "start_time": "2022-12-20T17:40:45.349Z"
   },
   {
    "duration": 113,
    "start_time": "2022-12-20T17:41:03.762Z"
   },
   {
    "duration": 122,
    "start_time": "2022-12-20T17:41:09.668Z"
   },
   {
    "duration": 138,
    "start_time": "2022-12-20T17:41:39.057Z"
   },
   {
    "duration": 5,
    "start_time": "2022-12-20T17:44:15.552Z"
   },
   {
    "duration": 4,
    "start_time": "2022-12-20T17:44:22.822Z"
   },
   {
    "duration": 7,
    "start_time": "2022-12-20T17:45:50.904Z"
   },
   {
    "duration": 4,
    "start_time": "2022-12-20T17:46:00.982Z"
   },
   {
    "duration": 4,
    "start_time": "2022-12-20T17:46:13.162Z"
   },
   {
    "duration": 3,
    "start_time": "2022-12-20T17:49:49.436Z"
   },
   {
    "duration": 93,
    "start_time": "2022-12-20T17:51:22.876Z"
   },
   {
    "duration": 97,
    "start_time": "2022-12-20T17:53:10.156Z"
   },
   {
    "duration": 620,
    "start_time": "2022-12-20T17:53:36.419Z"
   },
   {
    "duration": 27,
    "start_time": "2022-12-20T17:53:37.041Z"
   },
   {
    "duration": 9,
    "start_time": "2022-12-20T17:53:37.070Z"
   },
   {
    "duration": 24,
    "start_time": "2022-12-20T17:53:37.081Z"
   },
   {
    "duration": 10,
    "start_time": "2022-12-20T17:53:37.106Z"
   },
   {
    "duration": 18,
    "start_time": "2022-12-20T17:53:37.117Z"
   },
   {
    "duration": 14,
    "start_time": "2022-12-20T17:53:37.136Z"
   },
   {
    "duration": 52,
    "start_time": "2022-12-20T17:53:37.152Z"
   },
   {
    "duration": 22,
    "start_time": "2022-12-20T17:53:37.206Z"
   },
   {
    "duration": 249,
    "start_time": "2022-12-20T17:53:37.230Z"
   },
   {
    "duration": 257,
    "start_time": "2022-12-20T17:53:37.481Z"
   },
   {
    "duration": 247,
    "start_time": "2022-12-20T17:53:37.740Z"
   },
   {
    "duration": 362,
    "start_time": "2022-12-20T17:53:37.989Z"
   },
   {
    "duration": 322,
    "start_time": "2022-12-20T17:53:38.352Z"
   },
   {
    "duration": 373,
    "start_time": "2022-12-20T17:53:38.676Z"
   },
   {
    "duration": 127,
    "start_time": "2022-12-20T17:53:39.051Z"
   },
   {
    "duration": 4,
    "start_time": "2022-12-20T17:53:39.180Z"
   },
   {
    "duration": 25,
    "start_time": "2022-12-20T17:53:39.186Z"
   },
   {
    "duration": 161,
    "start_time": "2022-12-20T17:53:39.213Z"
   },
   {
    "duration": 151,
    "start_time": "2022-12-20T17:53:39.376Z"
   },
   {
    "duration": 5,
    "start_time": "2022-12-20T17:53:39.529Z"
   },
   {
    "duration": 206,
    "start_time": "2022-12-20T17:53:39.536Z"
   },
   {
    "duration": 205,
    "start_time": "2022-12-20T17:56:40.397Z"
   },
   {
    "duration": 2,
    "start_time": "2022-12-20T18:05:47.081Z"
   },
   {
    "duration": 3,
    "start_time": "2022-12-20T18:07:02.720Z"
   },
   {
    "duration": 31,
    "start_time": "2022-12-20T18:07:19.463Z"
   },
   {
    "duration": 11,
    "start_time": "2022-12-20T18:07:36.766Z"
   },
   {
    "duration": 5,
    "start_time": "2022-12-20T18:08:30.155Z"
   },
   {
    "duration": 44,
    "start_time": "2022-12-20T18:09:26.506Z"
   },
   {
    "duration": 7,
    "start_time": "2022-12-20T18:11:25.822Z"
   },
   {
    "duration": 26,
    "start_time": "2022-12-20T18:12:19.572Z"
   },
   {
    "duration": 616,
    "start_time": "2022-12-20T18:13:18.616Z"
   },
   {
    "duration": 38,
    "start_time": "2022-12-20T18:13:19.233Z"
   },
   {
    "duration": 10,
    "start_time": "2022-12-20T18:13:19.272Z"
   },
   {
    "duration": 10,
    "start_time": "2022-12-20T18:13:19.284Z"
   },
   {
    "duration": 45,
    "start_time": "2022-12-20T18:13:19.295Z"
   },
   {
    "duration": 16,
    "start_time": "2022-12-20T18:13:19.341Z"
   },
   {
    "duration": 7,
    "start_time": "2022-12-20T18:13:19.358Z"
   },
   {
    "duration": 13,
    "start_time": "2022-12-20T18:13:19.366Z"
   },
   {
    "duration": 11,
    "start_time": "2022-12-20T18:13:19.381Z"
   },
   {
    "duration": 21,
    "start_time": "2022-12-20T18:13:19.394Z"
   },
   {
    "duration": 20,
    "start_time": "2022-12-20T18:13:19.417Z"
   },
   {
    "duration": 252,
    "start_time": "2022-12-20T18:13:19.439Z"
   },
   {
    "duration": 274,
    "start_time": "2022-12-20T18:13:19.693Z"
   },
   {
    "duration": 273,
    "start_time": "2022-12-20T18:13:19.969Z"
   },
   {
    "duration": 367,
    "start_time": "2022-12-20T18:13:20.243Z"
   },
   {
    "duration": 321,
    "start_time": "2022-12-20T18:13:20.612Z"
   },
   {
    "duration": 386,
    "start_time": "2022-12-20T18:13:20.935Z"
   },
   {
    "duration": 127,
    "start_time": "2022-12-20T18:13:21.323Z"
   },
   {
    "duration": 4,
    "start_time": "2022-12-20T18:13:21.451Z"
   },
   {
    "duration": 7,
    "start_time": "2022-12-20T18:13:21.457Z"
   },
   {
    "duration": 168,
    "start_time": "2022-12-20T18:13:21.465Z"
   },
   {
    "duration": 140,
    "start_time": "2022-12-20T18:13:21.634Z"
   },
   {
    "duration": 4,
    "start_time": "2022-12-20T18:13:21.776Z"
   },
   {
    "duration": 209,
    "start_time": "2022-12-20T18:13:21.781Z"
   },
   {
    "duration": 56,
    "start_time": "2022-12-20T18:13:43.717Z"
   },
   {
    "duration": 9,
    "start_time": "2022-12-20T18:14:04.044Z"
   },
   {
    "duration": 80,
    "start_time": "2022-12-20T18:14:35.856Z"
   },
   {
    "duration": 5,
    "start_time": "2022-12-20T18:14:50.420Z"
   },
   {
    "duration": 8,
    "start_time": "2022-12-20T18:15:08.583Z"
   },
   {
    "duration": 9,
    "start_time": "2022-12-20T18:15:12.773Z"
   },
   {
    "duration": 7,
    "start_time": "2022-12-20T18:15:22.726Z"
   },
   {
    "duration": 5,
    "start_time": "2022-12-20T18:16:19.147Z"
   },
   {
    "duration": 18,
    "start_time": "2022-12-20T18:18:00.854Z"
   },
   {
    "duration": 9,
    "start_time": "2022-12-20T18:18:11.225Z"
   },
   {
    "duration": 11,
    "start_time": "2022-12-20T18:20:07.475Z"
   },
   {
    "duration": 5,
    "start_time": "2022-12-20T18:20:25.222Z"
   },
   {
    "duration": 10,
    "start_time": "2022-12-20T18:20:41.839Z"
   },
   {
    "duration": 2,
    "start_time": "2022-12-20T18:20:46.261Z"
   },
   {
    "duration": 192,
    "start_time": "2022-12-20T18:22:01.073Z"
   },
   {
    "duration": 618,
    "start_time": "2022-12-20T18:22:29.548Z"
   },
   {
    "duration": 35,
    "start_time": "2022-12-20T18:22:30.167Z"
   },
   {
    "duration": 10,
    "start_time": "2022-12-20T18:22:30.203Z"
   },
   {
    "duration": 26,
    "start_time": "2022-12-20T18:22:30.215Z"
   },
   {
    "duration": 72,
    "start_time": "2022-12-20T18:22:30.243Z"
   },
   {
    "duration": 10,
    "start_time": "2022-12-20T18:22:30.317Z"
   },
   {
    "duration": 38,
    "start_time": "2022-12-20T18:22:30.328Z"
   },
   {
    "duration": 24,
    "start_time": "2022-12-20T18:22:30.368Z"
   },
   {
    "duration": 49,
    "start_time": "2022-12-20T18:22:30.394Z"
   },
   {
    "duration": 59,
    "start_time": "2022-12-20T18:22:30.446Z"
   },
   {
    "duration": 24,
    "start_time": "2022-12-20T18:22:30.507Z"
   },
   {
    "duration": 41,
    "start_time": "2022-12-20T18:22:30.532Z"
   },
   {
    "duration": 75,
    "start_time": "2022-12-20T18:22:30.574Z"
   },
   {
    "duration": 30,
    "start_time": "2022-12-20T18:22:30.651Z"
   },
   {
    "duration": 30,
    "start_time": "2022-12-20T18:22:30.682Z"
   },
   {
    "duration": 32,
    "start_time": "2022-12-20T18:22:30.714Z"
   },
   {
    "duration": 450,
    "start_time": "2022-12-20T18:22:30.748Z"
   },
   {
    "duration": 0,
    "start_time": "2022-12-20T18:22:31.200Z"
   },
   {
    "duration": 0,
    "start_time": "2022-12-20T18:22:31.201Z"
   },
   {
    "duration": 0,
    "start_time": "2022-12-20T18:22:31.203Z"
   },
   {
    "duration": 0,
    "start_time": "2022-12-20T18:22:31.204Z"
   },
   {
    "duration": 0,
    "start_time": "2022-12-20T18:22:31.205Z"
   },
   {
    "duration": 0,
    "start_time": "2022-12-20T18:22:31.207Z"
   },
   {
    "duration": 0,
    "start_time": "2022-12-20T18:22:31.208Z"
   },
   {
    "duration": 0,
    "start_time": "2022-12-20T18:22:31.210Z"
   },
   {
    "duration": 0,
    "start_time": "2022-12-20T18:22:31.211Z"
   },
   {
    "duration": 0,
    "start_time": "2022-12-20T18:22:31.212Z"
   },
   {
    "duration": 0,
    "start_time": "2022-12-20T18:22:31.214Z"
   },
   {
    "duration": 0,
    "start_time": "2022-12-20T18:22:31.215Z"
   },
   {
    "duration": 10,
    "start_time": "2022-12-20T18:22:54.887Z"
   },
   {
    "duration": 4,
    "start_time": "2022-12-20T18:23:07.784Z"
   },
   {
    "duration": 3,
    "start_time": "2022-12-20T18:23:25.888Z"
   },
   {
    "duration": 10,
    "start_time": "2022-12-20T18:23:33.686Z"
   },
   {
    "duration": 10,
    "start_time": "2022-12-20T18:23:39.594Z"
   },
   {
    "duration": 561,
    "start_time": "2022-12-20T18:24:47.478Z"
   },
   {
    "duration": 36,
    "start_time": "2022-12-20T18:24:48.041Z"
   },
   {
    "duration": 11,
    "start_time": "2022-12-20T18:24:48.079Z"
   },
   {
    "duration": 9,
    "start_time": "2022-12-20T18:24:48.092Z"
   },
   {
    "duration": 53,
    "start_time": "2022-12-20T18:24:48.103Z"
   },
   {
    "duration": 9,
    "start_time": "2022-12-20T18:24:48.158Z"
   },
   {
    "duration": 6,
    "start_time": "2022-12-20T18:24:48.169Z"
   },
   {
    "duration": 15,
    "start_time": "2022-12-20T18:24:48.177Z"
   },
   {
    "duration": 12,
    "start_time": "2022-12-20T18:24:48.193Z"
   },
   {
    "duration": 26,
    "start_time": "2022-12-20T18:24:48.206Z"
   },
   {
    "duration": 8,
    "start_time": "2022-12-20T18:24:48.234Z"
   },
   {
    "duration": 16,
    "start_time": "2022-12-20T18:24:48.243Z"
   },
   {
    "duration": 14,
    "start_time": "2022-12-20T18:24:48.260Z"
   },
   {
    "duration": 10,
    "start_time": "2022-12-20T18:24:48.277Z"
   },
   {
    "duration": 13,
    "start_time": "2022-12-20T18:24:48.288Z"
   },
   {
    "duration": 13,
    "start_time": "2022-12-20T18:24:48.303Z"
   },
   {
    "duration": 9,
    "start_time": "2022-12-20T18:24:48.317Z"
   },
   {
    "duration": 30,
    "start_time": "2022-12-20T18:24:48.327Z"
   },
   {
    "duration": 254,
    "start_time": "2022-12-20T18:24:48.358Z"
   },
   {
    "duration": 249,
    "start_time": "2022-12-20T18:24:48.614Z"
   },
   {
    "duration": 186,
    "start_time": "2022-12-20T18:24:48.864Z"
   },
   {
    "duration": 252,
    "start_time": "2022-12-20T18:24:49.052Z"
   },
   {
    "duration": 242,
    "start_time": "2022-12-20T18:24:49.306Z"
   },
   {
    "duration": 320,
    "start_time": "2022-12-20T18:24:49.549Z"
   },
   {
    "duration": 127,
    "start_time": "2022-12-20T18:24:49.870Z"
   },
   {
    "duration": 4,
    "start_time": "2022-12-20T18:24:49.999Z"
   },
   {
    "duration": 17,
    "start_time": "2022-12-20T18:24:50.004Z"
   },
   {
    "duration": 133,
    "start_time": "2022-12-20T18:24:50.023Z"
   },
   {
    "duration": 141,
    "start_time": "2022-12-20T18:24:50.158Z"
   },
   {
    "duration": 4,
    "start_time": "2022-12-20T18:24:50.301Z"
   },
   {
    "duration": 223,
    "start_time": "2022-12-20T18:24:50.307Z"
   },
   {
    "duration": 864,
    "start_time": "2022-12-21T17:05:27.537Z"
   },
   {
    "duration": 72,
    "start_time": "2022-12-21T17:05:28.403Z"
   },
   {
    "duration": 12,
    "start_time": "2022-12-21T17:05:28.477Z"
   },
   {
    "duration": 12,
    "start_time": "2022-12-21T17:05:28.492Z"
   },
   {
    "duration": 157,
    "start_time": "2022-12-21T17:05:28.505Z"
   },
   {
    "duration": 11,
    "start_time": "2022-12-21T17:05:28.664Z"
   },
   {
    "duration": 11,
    "start_time": "2022-12-21T17:05:28.676Z"
   },
   {
    "duration": 15,
    "start_time": "2022-12-21T17:05:28.689Z"
   },
   {
    "duration": 14,
    "start_time": "2022-12-21T17:05:28.706Z"
   },
   {
    "duration": 57,
    "start_time": "2022-12-21T17:05:28.723Z"
   },
   {
    "duration": 25,
    "start_time": "2022-12-21T17:05:28.782Z"
   },
   {
    "duration": 20,
    "start_time": "2022-12-21T17:05:28.809Z"
   },
   {
    "duration": 10,
    "start_time": "2022-12-21T17:05:28.831Z"
   },
   {
    "duration": 19,
    "start_time": "2022-12-21T17:05:28.843Z"
   },
   {
    "duration": 12,
    "start_time": "2022-12-21T17:05:28.864Z"
   },
   {
    "duration": 20,
    "start_time": "2022-12-21T17:05:28.878Z"
   },
   {
    "duration": 21,
    "start_time": "2022-12-21T17:05:28.901Z"
   },
   {
    "duration": 18,
    "start_time": "2022-12-21T17:05:28.924Z"
   },
   {
    "duration": 396,
    "start_time": "2022-12-21T17:05:28.946Z"
   },
   {
    "duration": 347,
    "start_time": "2022-12-21T17:05:29.344Z"
   },
   {
    "duration": 224,
    "start_time": "2022-12-21T17:05:29.693Z"
   },
   {
    "duration": 373,
    "start_time": "2022-12-21T17:05:29.919Z"
   },
   {
    "duration": 345,
    "start_time": "2022-12-21T17:05:30.295Z"
   },
   {
    "duration": 358,
    "start_time": "2022-12-21T17:05:30.642Z"
   },
   {
    "duration": 183,
    "start_time": "2022-12-21T17:05:31.002Z"
   },
   {
    "duration": 7,
    "start_time": "2022-12-21T17:05:31.187Z"
   },
   {
    "duration": 26,
    "start_time": "2022-12-21T17:05:31.195Z"
   },
   {
    "duration": 167,
    "start_time": "2022-12-21T17:05:31.224Z"
   },
   {
    "duration": 176,
    "start_time": "2022-12-21T17:05:31.393Z"
   },
   {
    "duration": 5,
    "start_time": "2022-12-21T17:05:31.572Z"
   },
   {
    "duration": 275,
    "start_time": "2022-12-21T17:05:31.579Z"
   },
   {
    "duration": 126,
    "start_time": "2022-12-21T17:08:53.362Z"
   },
   {
    "duration": 14,
    "start_time": "2022-12-21T17:09:35.253Z"
   },
   {
    "duration": 15,
    "start_time": "2022-12-21T17:09:55.793Z"
   },
   {
    "duration": 12,
    "start_time": "2022-12-21T17:10:44.730Z"
   },
   {
    "duration": 157,
    "start_time": "2022-12-21T17:14:17.650Z"
   },
   {
    "duration": 150,
    "start_time": "2022-12-21T17:16:22.730Z"
   },
   {
    "duration": 159,
    "start_time": "2022-12-21T17:18:47.712Z"
   },
   {
    "duration": 522,
    "start_time": "2022-12-21T17:19:24.538Z"
   },
   {
    "duration": 189,
    "start_time": "2022-12-21T17:19:32.581Z"
   },
   {
    "duration": 162,
    "start_time": "2022-12-21T17:19:39.373Z"
   },
   {
    "duration": 158,
    "start_time": "2022-12-21T17:20:18.796Z"
   },
   {
    "duration": 181,
    "start_time": "2022-12-21T17:20:32.102Z"
   },
   {
    "duration": 242,
    "start_time": "2022-12-21T17:20:39.164Z"
   },
   {
    "duration": 161,
    "start_time": "2022-12-21T17:21:24.695Z"
   },
   {
    "duration": 161,
    "start_time": "2022-12-21T17:21:31.106Z"
   },
   {
    "duration": 183,
    "start_time": "2022-12-21T17:21:36.871Z"
   },
   {
    "duration": 189,
    "start_time": "2022-12-21T17:23:07.112Z"
   },
   {
    "duration": 168,
    "start_time": "2022-12-21T17:23:15.040Z"
   },
   {
    "duration": 59,
    "start_time": "2022-12-21T17:27:20.351Z"
   },
   {
    "duration": 41,
    "start_time": "2022-12-21T17:27:59.935Z"
   },
   {
    "duration": 236,
    "start_time": "2022-12-21T17:30:15.593Z"
   },
   {
    "duration": 187,
    "start_time": "2022-12-21T17:31:54.444Z"
   },
   {
    "duration": 3,
    "start_time": "2022-12-21T17:32:59.195Z"
   },
   {
    "duration": 11,
    "start_time": "2022-12-21T17:41:31.736Z"
   },
   {
    "duration": 49,
    "start_time": "2022-12-21T17:43:01.650Z"
   },
   {
    "duration": 49,
    "start_time": "2022-12-21T17:43:39.561Z"
   },
   {
    "duration": 44,
    "start_time": "2022-12-21T17:43:53.833Z"
   },
   {
    "duration": 217,
    "start_time": "2022-12-21T17:44:24.776Z"
   },
   {
    "duration": 164,
    "start_time": "2022-12-21T17:45:10.881Z"
   },
   {
    "duration": 10,
    "start_time": "2022-12-21T17:45:43.934Z"
   },
   {
    "duration": 9,
    "start_time": "2022-12-21T17:58:47.498Z"
   },
   {
    "duration": 14,
    "start_time": "2022-12-21T17:59:28.013Z"
   },
   {
    "duration": 970,
    "start_time": "2022-12-21T18:01:35.216Z"
   },
   {
    "duration": 10,
    "start_time": "2022-12-21T18:01:53.561Z"
   },
   {
    "duration": 29,
    "start_time": "2022-12-21T18:02:14.119Z"
   },
   {
    "duration": 27,
    "start_time": "2022-12-21T18:05:18.577Z"
   },
   {
    "duration": 747,
    "start_time": "2022-12-21T18:08:46.342Z"
   },
   {
    "duration": 15,
    "start_time": "2022-12-21T18:09:04.318Z"
   },
   {
    "duration": 19,
    "start_time": "2022-12-21T18:10:45.408Z"
   },
   {
    "duration": 15,
    "start_time": "2022-12-21T18:11:03.168Z"
   },
   {
    "duration": 47,
    "start_time": "2022-12-21T18:12:49.882Z"
   },
   {
    "duration": 2,
    "start_time": "2022-12-21T18:15:31.303Z"
   },
   {
    "duration": 2,
    "start_time": "2022-12-21T18:16:39.863Z"
   },
   {
    "duration": 1100,
    "start_time": "2022-12-21T18:48:59.091Z"
   },
   {
    "duration": 37,
    "start_time": "2022-12-21T18:49:00.193Z"
   },
   {
    "duration": 10,
    "start_time": "2022-12-21T18:49:00.232Z"
   },
   {
    "duration": 15,
    "start_time": "2022-12-21T18:49:00.244Z"
   },
   {
    "duration": 54,
    "start_time": "2022-12-21T18:49:00.261Z"
   },
   {
    "duration": 10,
    "start_time": "2022-12-21T18:49:00.316Z"
   },
   {
    "duration": 12,
    "start_time": "2022-12-21T18:49:00.328Z"
   },
   {
    "duration": 28,
    "start_time": "2022-12-21T18:49:00.342Z"
   },
   {
    "duration": 20,
    "start_time": "2022-12-21T18:49:00.372Z"
   },
   {
    "duration": 52,
    "start_time": "2022-12-21T18:49:00.395Z"
   },
   {
    "duration": 9,
    "start_time": "2022-12-21T18:49:00.449Z"
   },
   {
    "duration": 32,
    "start_time": "2022-12-21T18:49:00.460Z"
   },
   {
    "duration": 17,
    "start_time": "2022-12-21T18:49:00.494Z"
   },
   {
    "duration": 21,
    "start_time": "2022-12-21T18:49:00.512Z"
   },
   {
    "duration": 22,
    "start_time": "2022-12-21T18:49:00.535Z"
   },
   {
    "duration": 36,
    "start_time": "2022-12-21T18:49:00.559Z"
   },
   {
    "duration": 19,
    "start_time": "2022-12-21T18:49:00.597Z"
   },
   {
    "duration": 24,
    "start_time": "2022-12-21T18:49:00.618Z"
   },
   {
    "duration": 299,
    "start_time": "2022-12-21T18:49:00.644Z"
   },
   {
    "duration": 312,
    "start_time": "2022-12-21T18:49:00.945Z"
   },
   {
    "duration": 200,
    "start_time": "2022-12-21T18:49:01.259Z"
   },
   {
    "duration": 281,
    "start_time": "2022-12-21T18:49:01.461Z"
   },
   {
    "duration": 231,
    "start_time": "2022-12-21T18:49:01.744Z"
   },
   {
    "duration": 376,
    "start_time": "2022-12-21T18:49:01.977Z"
   },
   {
    "duration": 150,
    "start_time": "2022-12-21T18:49:02.355Z"
   },
   {
    "duration": 8,
    "start_time": "2022-12-21T18:49:02.507Z"
   },
   {
    "duration": 9,
    "start_time": "2022-12-21T18:49:02.516Z"
   },
   {
    "duration": 169,
    "start_time": "2022-12-21T18:49:02.528Z"
   },
   {
    "duration": 158,
    "start_time": "2022-12-21T18:49:02.699Z"
   },
   {
    "duration": 5,
    "start_time": "2022-12-21T18:49:02.859Z"
   },
   {
    "duration": 319,
    "start_time": "2022-12-21T18:49:02.866Z"
   },
   {
    "duration": 170,
    "start_time": "2022-12-21T18:49:03.187Z"
   },
   {
    "duration": 11,
    "start_time": "2022-12-21T18:49:03.359Z"
   },
   {
    "duration": 10,
    "start_time": "2022-12-21T18:49:03.372Z"
   },
   {
    "duration": 49,
    "start_time": "2022-12-21T18:49:03.384Z"
   },
   {
    "duration": 15,
    "start_time": "2022-12-21T18:49:03.435Z"
   },
   {
    "duration": 203,
    "start_time": "2022-12-21T18:51:56.792Z"
   },
   {
    "duration": 210,
    "start_time": "2022-12-21T18:52:09.215Z"
   },
   {
    "duration": 211,
    "start_time": "2022-12-21T18:52:13.208Z"
   },
   {
    "duration": 233,
    "start_time": "2022-12-21T18:52:44.545Z"
   },
   {
    "duration": 336,
    "start_time": "2022-12-21T18:53:45.096Z"
   },
   {
    "duration": 1172,
    "start_time": "2022-12-21T18:55:14.549Z"
   },
   {
    "duration": 37,
    "start_time": "2022-12-21T18:55:15.723Z"
   },
   {
    "duration": 9,
    "start_time": "2022-12-21T18:55:15.762Z"
   },
   {
    "duration": 13,
    "start_time": "2022-12-21T18:55:15.773Z"
   },
   {
    "duration": 54,
    "start_time": "2022-12-21T18:55:15.789Z"
   },
   {
    "duration": 11,
    "start_time": "2022-12-21T18:55:15.844Z"
   },
   {
    "duration": 13,
    "start_time": "2022-12-21T18:55:15.857Z"
   },
   {
    "duration": 21,
    "start_time": "2022-12-21T18:55:15.872Z"
   },
   {
    "duration": 15,
    "start_time": "2022-12-21T18:55:15.894Z"
   },
   {
    "duration": 20,
    "start_time": "2022-12-21T18:55:15.910Z"
   },
   {
    "duration": 9,
    "start_time": "2022-12-21T18:55:15.931Z"
   },
   {
    "duration": 10,
    "start_time": "2022-12-21T18:55:15.942Z"
   },
   {
    "duration": 12,
    "start_time": "2022-12-21T18:55:15.953Z"
   },
   {
    "duration": 13,
    "start_time": "2022-12-21T18:55:15.967Z"
   },
   {
    "duration": 13,
    "start_time": "2022-12-21T18:55:15.981Z"
   },
   {
    "duration": 17,
    "start_time": "2022-12-21T18:55:15.995Z"
   },
   {
    "duration": 11,
    "start_time": "2022-12-21T18:55:16.013Z"
   },
   {
    "duration": 15,
    "start_time": "2022-12-21T18:55:16.026Z"
   },
   {
    "duration": 301,
    "start_time": "2022-12-21T18:55:16.043Z"
   },
   {
    "duration": 275,
    "start_time": "2022-12-21T18:55:16.346Z"
   },
   {
    "duration": 251,
    "start_time": "2022-12-21T18:55:16.623Z"
   },
   {
    "duration": 315,
    "start_time": "2022-12-21T18:55:16.876Z"
   },
   {
    "duration": 219,
    "start_time": "2022-12-21T18:55:17.193Z"
   },
   {
    "duration": 349,
    "start_time": "2022-12-21T18:55:17.414Z"
   },
   {
    "duration": 147,
    "start_time": "2022-12-21T18:55:17.765Z"
   },
   {
    "duration": 5,
    "start_time": "2022-12-21T18:55:17.913Z"
   },
   {
    "duration": 8,
    "start_time": "2022-12-21T18:55:17.919Z"
   },
   {
    "duration": 164,
    "start_time": "2022-12-21T18:55:17.929Z"
   },
   {
    "duration": 162,
    "start_time": "2022-12-21T18:55:18.095Z"
   },
   {
    "duration": 5,
    "start_time": "2022-12-21T18:55:18.258Z"
   },
   {
    "duration": 315,
    "start_time": "2022-12-21T18:55:18.265Z"
   },
   {
    "duration": 170,
    "start_time": "2022-12-21T18:55:18.582Z"
   },
   {
    "duration": 10,
    "start_time": "2022-12-21T18:55:18.754Z"
   },
   {
    "duration": 44,
    "start_time": "2022-12-21T18:55:18.765Z"
   },
   {
    "duration": 39,
    "start_time": "2022-12-21T18:55:18.811Z"
   },
   {
    "duration": 14,
    "start_time": "2022-12-21T18:55:18.851Z"
   },
   {
    "duration": 47,
    "start_time": "2022-12-21T20:41:10.642Z"
   },
   {
    "duration": 1396,
    "start_time": "2022-12-21T20:41:24.996Z"
   },
   {
    "duration": 77,
    "start_time": "2022-12-21T20:41:26.394Z"
   },
   {
    "duration": 12,
    "start_time": "2022-12-21T20:41:26.473Z"
   },
   {
    "duration": 19,
    "start_time": "2022-12-21T20:41:26.488Z"
   },
   {
    "duration": 113,
    "start_time": "2022-12-21T20:41:26.509Z"
   },
   {
    "duration": 11,
    "start_time": "2022-12-21T20:41:26.624Z"
   },
   {
    "duration": 11,
    "start_time": "2022-12-21T20:41:26.637Z"
   },
   {
    "duration": 13,
    "start_time": "2022-12-21T20:41:26.650Z"
   },
   {
    "duration": 13,
    "start_time": "2022-12-21T20:41:26.665Z"
   },
   {
    "duration": 53,
    "start_time": "2022-12-21T20:41:26.680Z"
   },
   {
    "duration": 10,
    "start_time": "2022-12-21T20:41:26.735Z"
   },
   {
    "duration": 11,
    "start_time": "2022-12-21T20:41:26.747Z"
   },
   {
    "duration": 6,
    "start_time": "2022-12-21T20:41:26.760Z"
   },
   {
    "duration": 11,
    "start_time": "2022-12-21T20:41:26.768Z"
   },
   {
    "duration": 9,
    "start_time": "2022-12-21T20:41:26.781Z"
   },
   {
    "duration": 17,
    "start_time": "2022-12-21T20:41:26.792Z"
   },
   {
    "duration": 14,
    "start_time": "2022-12-21T20:41:26.812Z"
   },
   {
    "duration": 12,
    "start_time": "2022-12-21T20:41:26.827Z"
   },
   {
    "duration": 14,
    "start_time": "2022-12-21T20:41:26.840Z"
   },
   {
    "duration": 322,
    "start_time": "2022-12-21T20:41:26.855Z"
   },
   {
    "duration": 291,
    "start_time": "2022-12-21T20:41:27.179Z"
   },
   {
    "duration": 217,
    "start_time": "2022-12-21T20:41:27.471Z"
   },
   {
    "duration": 372,
    "start_time": "2022-12-21T20:41:27.690Z"
   },
   {
    "duration": 258,
    "start_time": "2022-12-21T20:41:28.063Z"
   },
   {
    "duration": 362,
    "start_time": "2022-12-21T20:41:28.323Z"
   },
   {
    "duration": 164,
    "start_time": "2022-12-21T20:41:28.687Z"
   },
   {
    "duration": 4,
    "start_time": "2022-12-21T20:41:28.853Z"
   },
   {
    "duration": 7,
    "start_time": "2022-12-21T20:41:28.860Z"
   },
   {
    "duration": 178,
    "start_time": "2022-12-21T20:41:28.869Z"
   },
   {
    "duration": 178,
    "start_time": "2022-12-21T20:41:29.049Z"
   },
   {
    "duration": 4,
    "start_time": "2022-12-21T20:41:29.229Z"
   },
   {
    "duration": 324,
    "start_time": "2022-12-21T20:41:29.235Z"
   },
   {
    "duration": 204,
    "start_time": "2022-12-21T20:41:29.561Z"
   },
   {
    "duration": 11,
    "start_time": "2022-12-21T20:41:29.767Z"
   },
   {
    "duration": 27,
    "start_time": "2022-12-21T20:41:29.779Z"
   },
   {
    "duration": 31,
    "start_time": "2022-12-21T20:41:29.808Z"
   },
   {
    "duration": 14,
    "start_time": "2022-12-21T20:41:29.841Z"
   },
   {
    "duration": 51,
    "start_time": "2022-12-21T20:44:48.778Z"
   },
   {
    "duration": 57,
    "start_time": "2022-12-21T20:45:11.025Z"
   },
   {
    "duration": 3,
    "start_time": "2022-12-21T20:45:20.990Z"
   },
   {
    "duration": 3,
    "start_time": "2022-12-21T20:45:45.731Z"
   },
   {
    "duration": 130,
    "start_time": "2022-12-21T20:46:19.794Z"
   },
   {
    "duration": 9,
    "start_time": "2022-12-21T20:47:42.872Z"
   },
   {
    "duration": 8,
    "start_time": "2022-12-21T20:48:05.433Z"
   },
   {
    "duration": 15,
    "start_time": "2022-12-21T20:48:26.210Z"
   },
   {
    "duration": 10,
    "start_time": "2022-12-21T20:49:06.953Z"
   },
   {
    "duration": 6,
    "start_time": "2022-12-21T20:50:28.698Z"
   },
   {
    "duration": 12,
    "start_time": "2022-12-21T20:50:45.265Z"
   },
   {
    "duration": 4,
    "start_time": "2022-12-21T20:51:21.986Z"
   },
   {
    "duration": 11,
    "start_time": "2022-12-21T20:52:10.259Z"
   },
   {
    "duration": 5,
    "start_time": "2022-12-21T20:52:21.105Z"
   },
   {
    "duration": 5,
    "start_time": "2022-12-21T20:53:06.961Z"
   },
   {
    "duration": 5,
    "start_time": "2022-12-21T20:53:17.664Z"
   },
   {
    "duration": 7,
    "start_time": "2022-12-21T20:58:06.155Z"
   },
   {
    "duration": 10,
    "start_time": "2022-12-21T20:58:47.842Z"
   },
   {
    "duration": 1262,
    "start_time": "2022-12-21T21:00:06.719Z"
   },
   {
    "duration": 37,
    "start_time": "2022-12-21T21:00:07.983Z"
   },
   {
    "duration": 12,
    "start_time": "2022-12-21T21:00:08.022Z"
   },
   {
    "duration": 21,
    "start_time": "2022-12-21T21:00:08.036Z"
   },
   {
    "duration": 82,
    "start_time": "2022-12-21T21:00:08.059Z"
   },
   {
    "duration": 12,
    "start_time": "2022-12-21T21:00:08.143Z"
   },
   {
    "duration": 23,
    "start_time": "2022-12-21T21:00:08.157Z"
   },
   {
    "duration": 40,
    "start_time": "2022-12-21T21:00:08.182Z"
   },
   {
    "duration": 31,
    "start_time": "2022-12-21T21:00:08.225Z"
   },
   {
    "duration": 22,
    "start_time": "2022-12-21T21:00:08.260Z"
   },
   {
    "duration": 12,
    "start_time": "2022-12-21T21:00:08.283Z"
   },
   {
    "duration": 13,
    "start_time": "2022-12-21T21:00:08.297Z"
   },
   {
    "duration": 36,
    "start_time": "2022-12-21T21:00:08.312Z"
   },
   {
    "duration": 14,
    "start_time": "2022-12-21T21:00:08.350Z"
   },
   {
    "duration": 11,
    "start_time": "2022-12-21T21:00:08.366Z"
   },
   {
    "duration": 22,
    "start_time": "2022-12-21T21:00:08.379Z"
   },
   {
    "duration": 22,
    "start_time": "2022-12-21T21:00:08.407Z"
   },
   {
    "duration": 22,
    "start_time": "2022-12-21T21:00:08.431Z"
   },
   {
    "duration": 14,
    "start_time": "2022-12-21T21:00:08.455Z"
   },
   {
    "duration": 362,
    "start_time": "2022-12-21T21:00:08.471Z"
   },
   {
    "duration": 340,
    "start_time": "2022-12-21T21:00:08.835Z"
   },
   {
    "duration": 254,
    "start_time": "2022-12-21T21:00:09.177Z"
   },
   {
    "duration": 317,
    "start_time": "2022-12-21T21:00:09.433Z"
   },
   {
    "duration": 282,
    "start_time": "2022-12-21T21:00:09.752Z"
   },
   {
    "duration": 403,
    "start_time": "2022-12-21T21:00:10.037Z"
   },
   {
    "duration": 170,
    "start_time": "2022-12-21T21:00:10.442Z"
   },
   {
    "duration": 6,
    "start_time": "2022-12-21T21:00:10.615Z"
   },
   {
    "duration": 8,
    "start_time": "2022-12-21T21:00:10.626Z"
   },
   {
    "duration": 202,
    "start_time": "2022-12-21T21:00:10.636Z"
   },
   {
    "duration": 178,
    "start_time": "2022-12-21T21:00:10.840Z"
   },
   {
    "duration": 9,
    "start_time": "2022-12-21T21:00:11.021Z"
   },
   {
    "duration": 342,
    "start_time": "2022-12-21T21:00:11.032Z"
   },
   {
    "duration": 190,
    "start_time": "2022-12-21T21:00:11.375Z"
   },
   {
    "duration": 12,
    "start_time": "2022-12-21T21:00:11.566Z"
   },
   {
    "duration": 30,
    "start_time": "2022-12-21T21:00:11.579Z"
   },
   {
    "duration": 30,
    "start_time": "2022-12-21T21:00:11.611Z"
   },
   {
    "duration": 13,
    "start_time": "2022-12-21T21:00:11.643Z"
   },
   {
    "duration": 9,
    "start_time": "2022-12-21T21:05:23.705Z"
   },
   {
    "duration": 14,
    "start_time": "2022-12-21T21:05:32.022Z"
   },
   {
    "duration": 22,
    "start_time": "2022-12-21T21:05:46.263Z"
   },
   {
    "duration": 6,
    "start_time": "2022-12-21T21:08:04.199Z"
   },
   {
    "duration": 793,
    "start_time": "2022-12-21T21:08:28.006Z"
   },
   {
    "duration": 13,
    "start_time": "2022-12-21T21:08:34.513Z"
   },
   {
    "duration": 10,
    "start_time": "2022-12-21T21:08:39.689Z"
   },
   {
    "duration": 6,
    "start_time": "2022-12-21T21:10:39.646Z"
   },
   {
    "duration": 6,
    "start_time": "2022-12-21T21:11:12.337Z"
   },
   {
    "duration": 12,
    "start_time": "2022-12-21T21:15:45.380Z"
   },
   {
    "duration": 19,
    "start_time": "2022-12-21T21:16:13.927Z"
   },
   {
    "duration": 7,
    "start_time": "2022-12-21T21:16:30.303Z"
   },
   {
    "duration": 15,
    "start_time": "2022-12-21T21:16:36.053Z"
   },
   {
    "duration": 51,
    "start_time": "2022-12-21T21:17:56.434Z"
   },
   {
    "duration": 31,
    "start_time": "2022-12-21T21:18:06.039Z"
   },
   {
    "duration": 12,
    "start_time": "2022-12-21T21:20:32.261Z"
   },
   {
    "duration": 11,
    "start_time": "2022-12-21T21:20:44.566Z"
   },
   {
    "duration": 11,
    "start_time": "2022-12-21T21:20:54.650Z"
   },
   {
    "duration": 12,
    "start_time": "2022-12-21T21:33:02.194Z"
   },
   {
    "duration": 32,
    "start_time": "2022-12-21T21:33:37.699Z"
   },
   {
    "duration": 1232,
    "start_time": "2022-12-21T21:33:55.775Z"
   },
   {
    "duration": 36,
    "start_time": "2022-12-21T21:33:57.009Z"
   },
   {
    "duration": 12,
    "start_time": "2022-12-21T21:33:57.046Z"
   },
   {
    "duration": 8,
    "start_time": "2022-12-21T21:33:57.060Z"
   },
   {
    "duration": 49,
    "start_time": "2022-12-21T21:33:57.070Z"
   },
   {
    "duration": 11,
    "start_time": "2022-12-21T21:33:57.121Z"
   },
   {
    "duration": 11,
    "start_time": "2022-12-21T21:33:57.134Z"
   },
   {
    "duration": 14,
    "start_time": "2022-12-21T21:33:57.146Z"
   },
   {
    "duration": 17,
    "start_time": "2022-12-21T21:33:57.161Z"
   },
   {
    "duration": 18,
    "start_time": "2022-12-21T21:33:57.181Z"
   },
   {
    "duration": 11,
    "start_time": "2022-12-21T21:33:57.200Z"
   },
   {
    "duration": 7,
    "start_time": "2022-12-21T21:33:57.213Z"
   },
   {
    "duration": 5,
    "start_time": "2022-12-21T21:33:57.222Z"
   },
   {
    "duration": 13,
    "start_time": "2022-12-21T21:33:57.229Z"
   },
   {
    "duration": 11,
    "start_time": "2022-12-21T21:33:57.243Z"
   },
   {
    "duration": 43,
    "start_time": "2022-12-21T21:33:57.255Z"
   },
   {
    "duration": 12,
    "start_time": "2022-12-21T21:33:57.300Z"
   },
   {
    "duration": 13,
    "start_time": "2022-12-21T21:33:57.313Z"
   },
   {
    "duration": 12,
    "start_time": "2022-12-21T21:33:57.328Z"
   },
   {
    "duration": 323,
    "start_time": "2022-12-21T21:33:57.342Z"
   },
   {
    "duration": 33,
    "start_time": "2022-12-21T21:33:57.667Z"
   },
   {
    "duration": 11,
    "start_time": "2022-12-21T21:33:57.702Z"
   },
   {
    "duration": 329,
    "start_time": "2022-12-21T21:33:57.715Z"
   },
   {
    "duration": 221,
    "start_time": "2022-12-21T21:33:58.046Z"
   },
   {
    "duration": 341,
    "start_time": "2022-12-21T21:33:58.270Z"
   },
   {
    "duration": 234,
    "start_time": "2022-12-21T21:33:58.613Z"
   },
   {
    "duration": 351,
    "start_time": "2022-12-21T21:33:58.849Z"
   },
   {
    "duration": 151,
    "start_time": "2022-12-21T21:33:59.205Z"
   },
   {
    "duration": 4,
    "start_time": "2022-12-21T21:33:59.358Z"
   },
   {
    "duration": 9,
    "start_time": "2022-12-21T21:33:59.364Z"
   },
   {
    "duration": 179,
    "start_time": "2022-12-21T21:33:59.375Z"
   },
   {
    "duration": 165,
    "start_time": "2022-12-21T21:33:59.556Z"
   },
   {
    "duration": 5,
    "start_time": "2022-12-21T21:33:59.723Z"
   },
   {
    "duration": 352,
    "start_time": "2022-12-21T21:33:59.730Z"
   },
   {
    "duration": 222,
    "start_time": "2022-12-21T21:34:00.083Z"
   },
   {
    "duration": 14,
    "start_time": "2022-12-21T21:34:00.308Z"
   },
   {
    "duration": 61,
    "start_time": "2022-12-21T21:34:00.324Z"
   },
   {
    "duration": 176,
    "start_time": "2022-12-21T21:34:00.388Z"
   },
   {
    "duration": 0,
    "start_time": "2022-12-21T21:34:00.566Z"
   },
   {
    "duration": 0,
    "start_time": "2022-12-21T21:34:00.568Z"
   },
   {
    "duration": 4,
    "start_time": "2022-12-21T21:35:47.991Z"
   },
   {
    "duration": 7,
    "start_time": "2022-12-21T21:35:53.097Z"
   },
   {
    "duration": 6,
    "start_time": "2022-12-21T21:35:57.159Z"
   },
   {
    "duration": 16,
    "start_time": "2022-12-21T21:36:38.040Z"
   },
   {
    "duration": 50,
    "start_time": "2022-12-21T21:42:14.078Z"
   },
   {
    "duration": 16,
    "start_time": "2022-12-21T21:48:02.312Z"
   },
   {
    "duration": 1267,
    "start_time": "2022-12-21T21:54:15.170Z"
   },
   {
    "duration": 39,
    "start_time": "2022-12-21T21:54:16.439Z"
   },
   {
    "duration": 13,
    "start_time": "2022-12-21T21:54:16.480Z"
   },
   {
    "duration": 10,
    "start_time": "2022-12-21T21:54:16.496Z"
   },
   {
    "duration": 60,
    "start_time": "2022-12-21T21:54:16.508Z"
   },
   {
    "duration": 11,
    "start_time": "2022-12-21T21:54:16.570Z"
   },
   {
    "duration": 8,
    "start_time": "2022-12-21T21:54:16.583Z"
   },
   {
    "duration": 16,
    "start_time": "2022-12-21T21:54:16.593Z"
   },
   {
    "duration": 20,
    "start_time": "2022-12-21T21:54:16.611Z"
   },
   {
    "duration": 18,
    "start_time": "2022-12-21T21:54:16.634Z"
   },
   {
    "duration": 14,
    "start_time": "2022-12-21T21:54:16.654Z"
   },
   {
    "duration": 9,
    "start_time": "2022-12-21T21:54:16.669Z"
   },
   {
    "duration": 17,
    "start_time": "2022-12-21T21:54:16.679Z"
   },
   {
    "duration": 18,
    "start_time": "2022-12-21T21:54:16.698Z"
   },
   {
    "duration": 10,
    "start_time": "2022-12-21T21:54:16.718Z"
   },
   {
    "duration": 15,
    "start_time": "2022-12-21T21:54:16.730Z"
   },
   {
    "duration": 11,
    "start_time": "2022-12-21T21:54:16.747Z"
   },
   {
    "duration": 38,
    "start_time": "2022-12-21T21:54:16.760Z"
   },
   {
    "duration": 10,
    "start_time": "2022-12-21T21:54:16.800Z"
   },
   {
    "duration": 317,
    "start_time": "2022-12-21T21:54:16.812Z"
   },
   {
    "duration": 27,
    "start_time": "2022-12-21T21:54:17.131Z"
   },
   {
    "duration": 10,
    "start_time": "2022-12-21T21:54:17.160Z"
   },
   {
    "duration": 301,
    "start_time": "2022-12-21T21:54:17.198Z"
   },
   {
    "duration": 218,
    "start_time": "2022-12-21T21:54:17.500Z"
   },
   {
    "duration": 304,
    "start_time": "2022-12-21T21:54:17.720Z"
   },
   {
    "duration": 239,
    "start_time": "2022-12-21T21:54:18.025Z"
   },
   {
    "duration": 382,
    "start_time": "2022-12-21T21:54:18.266Z"
   },
   {
    "duration": 150,
    "start_time": "2022-12-21T21:54:18.651Z"
   },
   {
    "duration": 5,
    "start_time": "2022-12-21T21:54:18.802Z"
   },
   {
    "duration": 6,
    "start_time": "2022-12-21T21:54:18.809Z"
   },
   {
    "duration": 172,
    "start_time": "2022-12-21T21:54:18.817Z"
   },
   {
    "duration": 180,
    "start_time": "2022-12-21T21:54:18.996Z"
   },
   {
    "duration": 5,
    "start_time": "2022-12-21T21:54:19.178Z"
   },
   {
    "duration": 320,
    "start_time": "2022-12-21T21:54:19.197Z"
   },
   {
    "duration": 184,
    "start_time": "2022-12-21T21:54:19.520Z"
   },
   {
    "duration": 13,
    "start_time": "2022-12-21T21:54:19.706Z"
   },
   {
    "duration": 10,
    "start_time": "2022-12-21T21:54:19.722Z"
   },
   {
    "duration": 29,
    "start_time": "2022-12-21T21:54:19.735Z"
   },
   {
    "duration": 16,
    "start_time": "2022-12-21T21:54:19.797Z"
   },
   {
    "duration": 1296,
    "start_time": "2022-12-21T22:15:49.379Z"
   },
   {
    "duration": 71,
    "start_time": "2022-12-21T22:15:50.676Z"
   },
   {
    "duration": 11,
    "start_time": "2022-12-21T22:15:50.748Z"
   },
   {
    "duration": 7,
    "start_time": "2022-12-21T22:15:50.761Z"
   },
   {
    "duration": 92,
    "start_time": "2022-12-21T22:15:50.942Z"
   },
   {
    "duration": 11,
    "start_time": "2022-12-21T22:15:51.132Z"
   },
   {
    "duration": 6,
    "start_time": "2022-12-21T22:15:51.516Z"
   },
   {
    "duration": 12,
    "start_time": "2022-12-21T22:15:51.732Z"
   },
   {
    "duration": 10,
    "start_time": "2022-12-21T22:15:52.101Z"
   },
   {
    "duration": 66,
    "start_time": "2022-12-21T22:15:52.744Z"
   },
   {
    "duration": 10,
    "start_time": "2022-12-21T22:15:52.950Z"
   },
   {
    "duration": 5,
    "start_time": "2022-12-21T22:15:53.151Z"
   },
   {
    "duration": 4,
    "start_time": "2022-12-21T22:15:53.370Z"
   },
   {
    "duration": 12,
    "start_time": "2022-12-21T22:15:53.805Z"
   },
   {
    "duration": 7,
    "start_time": "2022-12-21T22:15:54.376Z"
   },
   {
    "duration": 12,
    "start_time": "2022-12-21T22:15:54.711Z"
   },
   {
    "duration": 12,
    "start_time": "2022-12-21T22:15:55.269Z"
   },
   {
    "duration": 12,
    "start_time": "2022-12-21T22:15:55.746Z"
   },
   {
    "duration": 11,
    "start_time": "2022-12-21T22:15:56.288Z"
   },
   {
    "duration": 309,
    "start_time": "2022-12-21T22:15:57.840Z"
   },
   {
    "duration": 26,
    "start_time": "2022-12-21T22:15:58.454Z"
   },
   {
    "duration": 11,
    "start_time": "2022-12-21T22:15:58.664Z"
   },
   {
    "duration": 298,
    "start_time": "2022-12-21T22:15:59.280Z"
   },
   {
    "duration": 208,
    "start_time": "2022-12-21T22:16:00.990Z"
   },
   {
    "duration": 344,
    "start_time": "2022-12-21T22:16:01.813Z"
   },
   {
    "duration": 221,
    "start_time": "2022-12-21T22:16:02.645Z"
   },
   {
    "duration": 340,
    "start_time": "2022-12-21T22:16:03.504Z"
   },
   {
    "duration": 141,
    "start_time": "2022-12-21T22:16:04.743Z"
   },
   {
    "duration": 3,
    "start_time": "2022-12-21T22:16:05.843Z"
   },
   {
    "duration": 5,
    "start_time": "2022-12-21T22:16:06.278Z"
   },
   {
    "duration": 150,
    "start_time": "2022-12-21T22:16:07.213Z"
   },
   {
    "duration": 221,
    "start_time": "2022-12-21T22:16:08.207Z"
   },
   {
    "duration": 4,
    "start_time": "2022-12-21T22:16:09.073Z"
   },
   {
    "duration": 209,
    "start_time": "2022-12-21T22:16:19.936Z"
   },
   {
    "duration": 171,
    "start_time": "2022-12-21T22:16:20.852Z"
   },
   {
    "duration": 12,
    "start_time": "2022-12-21T22:16:26.429Z"
   },
   {
    "duration": 10,
    "start_time": "2022-12-21T22:16:32.403Z"
   },
   {
    "duration": 108,
    "start_time": "2022-12-21T22:18:20.352Z"
   },
   {
    "duration": 14,
    "start_time": "2022-12-21T22:18:50.658Z"
   },
   {
    "duration": 18,
    "start_time": "2022-12-21T22:19:16.369Z"
   },
   {
    "duration": 47,
    "start_time": "2022-12-21T22:20:19.284Z"
   },
   {
    "duration": 4,
    "start_time": "2022-12-21T22:20:33.235Z"
   },
   {
    "duration": 2,
    "start_time": "2022-12-21T22:20:46.579Z"
   },
   {
    "duration": 10,
    "start_time": "2022-12-21T22:21:21.325Z"
   },
   {
    "duration": 9,
    "start_time": "2022-12-21T22:53:44.667Z"
   },
   {
    "duration": 1176,
    "start_time": "2022-12-21T23:03:24.526Z"
   },
   {
    "duration": 39,
    "start_time": "2022-12-21T23:03:25.705Z"
   },
   {
    "duration": 10,
    "start_time": "2022-12-21T23:03:25.746Z"
   },
   {
    "duration": 9,
    "start_time": "2022-12-21T23:03:25.758Z"
   },
   {
    "duration": 64,
    "start_time": "2022-12-21T23:03:25.768Z"
   },
   {
    "duration": 11,
    "start_time": "2022-12-21T23:03:25.834Z"
   },
   {
    "duration": 8,
    "start_time": "2022-12-21T23:03:25.846Z"
   },
   {
    "duration": 12,
    "start_time": "2022-12-21T23:03:25.855Z"
   },
   {
    "duration": 21,
    "start_time": "2022-12-21T23:03:25.869Z"
   },
   {
    "duration": 43,
    "start_time": "2022-12-21T23:03:25.894Z"
   },
   {
    "duration": 14,
    "start_time": "2022-12-21T23:03:25.940Z"
   },
   {
    "duration": 29,
    "start_time": "2022-12-21T23:03:25.955Z"
   },
   {
    "duration": 48,
    "start_time": "2022-12-21T23:03:25.986Z"
   },
   {
    "duration": 23,
    "start_time": "2022-12-21T23:03:26.036Z"
   },
   {
    "duration": 38,
    "start_time": "2022-12-21T23:03:26.062Z"
   },
   {
    "duration": 33,
    "start_time": "2022-12-21T23:03:26.102Z"
   },
   {
    "duration": 15,
    "start_time": "2022-12-21T23:03:26.137Z"
   },
   {
    "duration": 22,
    "start_time": "2022-12-21T23:03:26.154Z"
   },
   {
    "duration": 23,
    "start_time": "2022-12-21T23:03:26.178Z"
   },
   {
    "duration": 325,
    "start_time": "2022-12-21T23:03:26.203Z"
   },
   {
    "duration": 34,
    "start_time": "2022-12-21T23:03:26.530Z"
   },
   {
    "duration": 11,
    "start_time": "2022-12-21T23:03:26.565Z"
   },
   {
    "duration": 12,
    "start_time": "2022-12-21T23:03:26.595Z"
   },
   {
    "duration": 331,
    "start_time": "2022-12-21T23:03:26.609Z"
   },
   {
    "duration": 218,
    "start_time": "2022-12-21T23:03:26.942Z"
   },
   {
    "duration": 308,
    "start_time": "2022-12-21T23:03:27.161Z"
   },
   {
    "duration": 254,
    "start_time": "2022-12-21T23:03:27.471Z"
   },
   {
    "duration": 352,
    "start_time": "2022-12-21T23:03:27.728Z"
   },
   {
    "duration": 160,
    "start_time": "2022-12-21T23:03:28.081Z"
   },
   {
    "duration": 4,
    "start_time": "2022-12-21T23:03:28.243Z"
   },
   {
    "duration": 7,
    "start_time": "2022-12-21T23:03:28.249Z"
   },
   {
    "duration": 176,
    "start_time": "2022-12-21T23:03:28.258Z"
   },
   {
    "duration": 172,
    "start_time": "2022-12-21T23:03:28.436Z"
   },
   {
    "duration": 6,
    "start_time": "2022-12-21T23:03:28.611Z"
   },
   {
    "duration": 320,
    "start_time": "2022-12-21T23:03:28.618Z"
   },
   {
    "duration": 181,
    "start_time": "2022-12-21T23:03:28.939Z"
   },
   {
    "duration": 11,
    "start_time": "2022-12-21T23:03:29.121Z"
   },
   {
    "duration": 4,
    "start_time": "2022-12-21T23:03:29.133Z"
   },
   {
    "duration": 6,
    "start_time": "2022-12-21T23:03:29.139Z"
   },
   {
    "duration": 19,
    "start_time": "2022-12-21T23:03:29.146Z"
   },
   {
    "duration": 54,
    "start_time": "2022-12-21T23:03:29.167Z"
   },
   {
    "duration": 14,
    "start_time": "2022-12-21T23:03:29.223Z"
   },
   {
    "duration": 1231,
    "start_time": "2022-12-22T13:07:14.728Z"
   },
   {
    "duration": 65,
    "start_time": "2022-12-22T13:07:15.961Z"
   },
   {
    "duration": 9,
    "start_time": "2022-12-22T13:07:16.027Z"
   },
   {
    "duration": 15,
    "start_time": "2022-12-22T13:07:16.038Z"
   },
   {
    "duration": 94,
    "start_time": "2022-12-22T13:07:16.054Z"
   },
   {
    "duration": 9,
    "start_time": "2022-12-22T13:07:16.149Z"
   },
   {
    "duration": 7,
    "start_time": "2022-12-22T13:07:16.160Z"
   },
   {
    "duration": 11,
    "start_time": "2022-12-22T13:07:16.169Z"
   },
   {
    "duration": 15,
    "start_time": "2022-12-22T13:07:16.181Z"
   },
   {
    "duration": 58,
    "start_time": "2022-12-22T13:07:16.199Z"
   },
   {
    "duration": 10,
    "start_time": "2022-12-22T13:07:16.259Z"
   },
   {
    "duration": 8,
    "start_time": "2022-12-22T13:07:16.270Z"
   },
   {
    "duration": 14,
    "start_time": "2022-12-22T13:07:16.279Z"
   },
   {
    "duration": 25,
    "start_time": "2022-12-22T13:07:16.294Z"
   },
   {
    "duration": 13,
    "start_time": "2022-12-22T13:07:16.320Z"
   },
   {
    "duration": 12,
    "start_time": "2022-12-22T13:07:16.335Z"
   },
   {
    "duration": 9,
    "start_time": "2022-12-22T13:07:16.349Z"
   },
   {
    "duration": 11,
    "start_time": "2022-12-22T13:07:16.360Z"
   },
   {
    "duration": 19,
    "start_time": "2022-12-22T13:07:16.373Z"
   },
   {
    "duration": 269,
    "start_time": "2022-12-22T13:07:16.394Z"
   },
   {
    "duration": 28,
    "start_time": "2022-12-22T13:07:16.664Z"
   },
   {
    "duration": 8,
    "start_time": "2022-12-22T13:07:16.694Z"
   },
   {
    "duration": 15,
    "start_time": "2022-12-22T13:07:16.703Z"
   },
   {
    "duration": 265,
    "start_time": "2022-12-22T13:07:16.720Z"
   },
   {
    "duration": 172,
    "start_time": "2022-12-22T13:07:16.987Z"
   },
   {
    "duration": 339,
    "start_time": "2022-12-22T13:07:17.161Z"
   },
   {
    "duration": 210,
    "start_time": "2022-12-22T13:07:17.501Z"
   },
   {
    "duration": 300,
    "start_time": "2022-12-22T13:07:17.714Z"
   },
   {
    "duration": 139,
    "start_time": "2022-12-22T13:07:18.016Z"
   },
   {
    "duration": 4,
    "start_time": "2022-12-22T13:07:18.157Z"
   },
   {
    "duration": 26,
    "start_time": "2022-12-22T13:07:18.163Z"
   },
   {
    "duration": 168,
    "start_time": "2022-12-22T13:07:18.190Z"
   },
   {
    "duration": 160,
    "start_time": "2022-12-22T13:07:18.360Z"
   },
   {
    "duration": 4,
    "start_time": "2022-12-22T13:07:18.522Z"
   },
   {
    "duration": 316,
    "start_time": "2022-12-22T13:07:18.527Z"
   },
   {
    "duration": 180,
    "start_time": "2022-12-22T13:07:18.844Z"
   },
   {
    "duration": 10,
    "start_time": "2022-12-22T13:07:19.026Z"
   },
   {
    "duration": 11,
    "start_time": "2022-12-22T13:07:19.038Z"
   },
   {
    "duration": 7,
    "start_time": "2022-12-22T13:07:19.051Z"
   },
   {
    "duration": 30,
    "start_time": "2022-12-22T13:07:19.060Z"
   },
   {
    "duration": 37,
    "start_time": "2022-12-22T13:07:19.092Z"
   },
   {
    "duration": 17,
    "start_time": "2022-12-22T13:07:19.132Z"
   }
  ],
  "kernelspec": {
   "display_name": "Python 3 (ipykernel)",
   "language": "python",
   "name": "python3"
  },
  "language_info": {
   "codemirror_mode": {
    "name": "ipython",
    "version": 3
   },
   "file_extension": ".py",
   "mimetype": "text/x-python",
   "name": "python",
   "nbconvert_exporter": "python",
   "pygments_lexer": "ipython3",
   "version": "3.9.13"
  },
  "toc": {
   "base_numbering": 1,
   "nav_menu": {},
   "number_sections": true,
   "sideBar": true,
   "skip_h1_title": true,
   "title_cell": "Содержание:",
   "title_sidebar": "Contents",
   "toc_cell": true,
   "toc_position": {
    "height": "calc(100% - 180px)",
    "left": "10px",
    "top": "150px",
    "width": "303.542px"
   },
   "toc_section_display": true,
   "toc_window_display": true
  }
 },
 "nbformat": 4,
 "nbformat_minor": 2
}
