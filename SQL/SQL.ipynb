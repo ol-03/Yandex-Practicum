{
 "cells": [
  {
   "cell_type": "markdown",
   "metadata": {},
   "source": [
    "# SQL <a id=\"head\"></a>"
   ]
  },
  {
   "cell_type": "markdown",
   "metadata": {},
   "source": [
    "Компания купила крупный сервис для чтения книг по подписке, предоставив информацию о книгах, издательствах, авторах, а также пользовательские обзоры книг."
   ]
  },
  {
   "cell_type": "markdown",
   "metadata": {},
   "source": [
    "**Задача:** проанализировать базу данных, для формулировки ценностного предложения для нового продукта."
   ]
  },
  {
   "cell_type": "markdown",
   "metadata": {},
   "source": [
    "**Описание данных:**\n",
    "\n",
    "**Таблица `books`**\n",
    "\n",
    "Содержит данные о книгах:\n",
    "\n",
    "- `book_id` — идентификатор книги;\n",
    "- `author_id` — идентификатор автора;\n",
    "- `title` — название книги;\n",
    "- `num_pages` — количество страниц;\n",
    "- `publication_date` — дата публикации книги;\n",
    "- `publisher_id` — идентификатор издателя.\n",
    "\n",
    "**Таблица `authors`**\n",
    "\n",
    "Содержит данные об авторах:\n",
    "\n",
    "- `author_id` — идентификатор автора;\n",
    "- `author` — имя автора.\n",
    "\n",
    "**Таблица `publishers`**\n",
    "\n",
    "Содержит данные об издательствах:\n",
    "\n",
    "- `publisher_id` — идентификатор издательства;\n",
    "- `publisher` — название издательства;\n",
    "\n",
    "**Таблица `ratings`**\n",
    "\n",
    "Содержит данные о пользовательских оценках книг:\n",
    "\n",
    "- `rating_id` — идентификатор оценки;\n",
    "- `book_id` — идентификатор книги;\n",
    "- `username` — имя пользователя, оставившего оценку;\n",
    "- `rating` — оценка книги.\n",
    "\n",
    "**Таблица `reviews`**\n",
    "\n",
    "Содержит данные о пользовательских обзорах на книги:\n",
    "\n",
    "- `review_id` — идентификатор обзора;\n",
    "- `book_id` — идентификатор книги;\n",
    "- `username` — имя пользователя, написавшего обзор;\n",
    "- `text` — текст обзора."
   ]
  },
  {
   "cell_type": "markdown",
   "metadata": {},
   "source": [
    "<h4>Содержание:<span class=\"tocSkip\"></span></h4>\n",
    "<div class=\"toc\"><ul class=\"toc-item\"><li><span><a href=\"#Исследование-таблиц\" data-toc-modified-id=\"Исследование-таблиц-1\"><span class=\"toc-item-num\">1&nbsp;&nbsp;</span>Исследование таблиц</a></span></li><li><span><a href=\"#Анализ-данных\" data-toc-modified-id=\"Анализ-данных-2\"><span class=\"toc-item-num\">2&nbsp;&nbsp;</span>Анализ данных</a></span><ul class=\"toc-item\"><li><span><a href=\"#Количество-книг,-вышедших-после-1-января-2000-года\" data-toc-modified-id=\"Количество-книг,-вышедших-после-1-января-2000-года-2.1\"><span class=\"toc-item-num\">2.1&nbsp;&nbsp;</span>Количество книг, вышедших после 1 января 2000 года</a></span></li><li><span><a href=\"#Количество-обзоров-и-средняя-оценка-книг\" data-toc-modified-id=\"Количество-обзоров-и-средняя-оценка-книг-2.2\"><span class=\"toc-item-num\">2.2&nbsp;&nbsp;</span>Количество обзоров и средняя оценка книг</a></span></li><li><span><a href=\"#Издательство,-которое-выпустило-наибольшее-число-книг-толще-50-страниц\" data-toc-modified-id=\"Издательство,-которое-выпустило-наибольшее-число-книг-толще-50-страниц-2.3\"><span class=\"toc-item-num\">2.3&nbsp;&nbsp;</span>Издательство, которое выпустило наибольшее число книг толще 50 страниц</a></span></li><li><span><a href=\"#Автор-с-самой-высокой-средней-оценкой-книг\" data-toc-modified-id=\"Автор-с-самой-высокой-средней-оценкой-книг-2.4\"><span class=\"toc-item-num\">2.4&nbsp;&nbsp;</span>Автор с самой высокой средней оценкой книг</a></span></li><li><span><a href=\"#Среднее-количество-обзоров-от-пользователей,-которые-поставили-больше-50-оценок.\" data-toc-modified-id=\"Среднее-количество-обзоров-от-пользователей,-которые-поставили-больше-50-оценок.-2.5\"><span class=\"toc-item-num\">2.5&nbsp;&nbsp;</span>Среднее количество обзоров от пользователей, которые поставили больше 50 оценок.</a></span></li></ul></li><li><span><a href=\"#Вывод\" data-toc-modified-id=\"Вывод-3\"><span class=\"toc-item-num\">3&nbsp;&nbsp;</span>Вывод</a></span></li></ul></div>"
   ]
  },
  {
   "cell_type": "code",
   "execution_count": 1,
   "metadata": {},
   "outputs": [],
   "source": [
    "# импортируем библиотеки\n",
    "import pandas as pd\n",
    "from sqlalchemy import create_engine\n",
    "# устанавливаем параметры\n",
    "db_config = {'user': 'praktikum_student', # имя пользователя\n",
    "    'pwd': 'Sdf4$2;d-d30pp', # пароль\n",
    "    'host': 'rc1b-wcoijxj3yxfsf3fs.mdb.yandexcloud.net',\n",
    "    'port': 6432, # порт подключения\n",
    "    'db': 'data-analyst-final-project-db'} # название базы данных\n",
    "connection_string = 'postgresql://{}:{}@{}:{}/{}'.format(db_config['user'],\n",
    "     db_config['pwd'],\n",
    "     db_config['host'],\n",
    "     db_config['port'],\n",
    "     db_config['db'])\n",
    "# сохраняем коннектор\n",
    "engine = create_engine(connection_string, connect_args={'sslmode':'require'}) "
   ]
  },
  {
   "cell_type": "markdown",
   "metadata": {},
   "source": [
    "## Исследование таблиц "
   ]
  },
  {
   "cell_type": "code",
   "execution_count": 2,
   "metadata": {},
   "outputs": [
    {
     "data": {
      "text/html": [
       "<div>\n",
       "<style scoped>\n",
       "    .dataframe tbody tr th:only-of-type {\n",
       "        vertical-align: middle;\n",
       "    }\n",
       "\n",
       "    .dataframe tbody tr th {\n",
       "        vertical-align: top;\n",
       "    }\n",
       "\n",
       "    .dataframe thead th {\n",
       "        text-align: right;\n",
       "    }\n",
       "</style>\n",
       "<table border=\"1\" class=\"dataframe\">\n",
       "  <thead>\n",
       "    <tr style=\"text-align: right;\">\n",
       "      <th></th>\n",
       "      <th>book_id</th>\n",
       "      <th>author_id</th>\n",
       "      <th>title</th>\n",
       "      <th>num_pages</th>\n",
       "      <th>publication_date</th>\n",
       "      <th>publisher_id</th>\n",
       "    </tr>\n",
       "  </thead>\n",
       "  <tbody>\n",
       "    <tr>\n",
       "      <th>0</th>\n",
       "      <td>1</td>\n",
       "      <td>546</td>\n",
       "      <td>'Salem's Lot</td>\n",
       "      <td>594</td>\n",
       "      <td>2005-11-01</td>\n",
       "      <td>93</td>\n",
       "    </tr>\n",
       "    <tr>\n",
       "      <th>1</th>\n",
       "      <td>2</td>\n",
       "      <td>465</td>\n",
       "      <td>1 000 Places to See Before You Die</td>\n",
       "      <td>992</td>\n",
       "      <td>2003-05-22</td>\n",
       "      <td>336</td>\n",
       "    </tr>\n",
       "    <tr>\n",
       "      <th>2</th>\n",
       "      <td>3</td>\n",
       "      <td>407</td>\n",
       "      <td>13 Little Blue Envelopes (Little Blue Envelope...</td>\n",
       "      <td>322</td>\n",
       "      <td>2010-12-21</td>\n",
       "      <td>135</td>\n",
       "    </tr>\n",
       "    <tr>\n",
       "      <th>3</th>\n",
       "      <td>4</td>\n",
       "      <td>82</td>\n",
       "      <td>1491: New Revelations of the Americas Before C...</td>\n",
       "      <td>541</td>\n",
       "      <td>2006-10-10</td>\n",
       "      <td>309</td>\n",
       "    </tr>\n",
       "    <tr>\n",
       "      <th>4</th>\n",
       "      <td>5</td>\n",
       "      <td>125</td>\n",
       "      <td>1776</td>\n",
       "      <td>386</td>\n",
       "      <td>2006-07-04</td>\n",
       "      <td>268</td>\n",
       "    </tr>\n",
       "  </tbody>\n",
       "</table>\n",
       "</div>"
      ],
      "text/plain": [
       "   book_id  author_id                                              title  \\\n",
       "0        1        546                                       'Salem's Lot   \n",
       "1        2        465                 1 000 Places to See Before You Die   \n",
       "2        3        407  13 Little Blue Envelopes (Little Blue Envelope...   \n",
       "3        4         82  1491: New Revelations of the Americas Before C...   \n",
       "4        5        125                                               1776   \n",
       "\n",
       "   num_pages publication_date  publisher_id  \n",
       "0        594       2005-11-01            93  \n",
       "1        992       2003-05-22           336  \n",
       "2        322       2010-12-21           135  \n",
       "3        541       2006-10-10           309  \n",
       "4        386       2006-07-04           268  "
      ]
     },
     "execution_count": 2,
     "metadata": {},
     "output_type": "execute_result"
    }
   ],
   "source": [
    "sql='''\n",
    "SELECT *\n",
    "FROM books\n",
    "LIMIT 5\n",
    "'''\n",
    "pd.io.sql.read_sql(sql, con = engine) "
   ]
  },
  {
   "cell_type": "code",
   "execution_count": 3,
   "metadata": {},
   "outputs": [
    {
     "data": {
      "text/html": [
       "<div>\n",
       "<style scoped>\n",
       "    .dataframe tbody tr th:only-of-type {\n",
       "        vertical-align: middle;\n",
       "    }\n",
       "\n",
       "    .dataframe tbody tr th {\n",
       "        vertical-align: top;\n",
       "    }\n",
       "\n",
       "    .dataframe thead th {\n",
       "        text-align: right;\n",
       "    }\n",
       "</style>\n",
       "<table border=\"1\" class=\"dataframe\">\n",
       "  <thead>\n",
       "    <tr style=\"text-align: right;\">\n",
       "      <th></th>\n",
       "      <th>count</th>\n",
       "    </tr>\n",
       "  </thead>\n",
       "  <tbody>\n",
       "    <tr>\n",
       "      <th>0</th>\n",
       "      <td>1000</td>\n",
       "    </tr>\n",
       "  </tbody>\n",
       "</table>\n",
       "</div>"
      ],
      "text/plain": [
       "   count\n",
       "0   1000"
      ]
     },
     "execution_count": 3,
     "metadata": {},
     "output_type": "execute_result"
    }
   ],
   "source": [
    "sql='''\n",
    "SELECT COUNT(*)\n",
    "FROM books \n",
    "'''\n",
    "pd.io.sql.read_sql(sql, con = engine)"
   ]
  },
  {
   "cell_type": "markdown",
   "metadata": {},
   "source": [
    "В таблице `books` хранится информация о 1000 книг."
   ]
  },
  {
   "cell_type": "code",
   "execution_count": 4,
   "metadata": {},
   "outputs": [
    {
     "data": {
      "text/html": [
       "<div>\n",
       "<style scoped>\n",
       "    .dataframe tbody tr th:only-of-type {\n",
       "        vertical-align: middle;\n",
       "    }\n",
       "\n",
       "    .dataframe tbody tr th {\n",
       "        vertical-align: top;\n",
       "    }\n",
       "\n",
       "    .dataframe thead th {\n",
       "        text-align: right;\n",
       "    }\n",
       "</style>\n",
       "<table border=\"1\" class=\"dataframe\">\n",
       "  <thead>\n",
       "    <tr style=\"text-align: right;\">\n",
       "      <th></th>\n",
       "      <th>author_id</th>\n",
       "      <th>author</th>\n",
       "    </tr>\n",
       "  </thead>\n",
       "  <tbody>\n",
       "    <tr>\n",
       "      <th>0</th>\n",
       "      <td>1</td>\n",
       "      <td>A.S. Byatt</td>\n",
       "    </tr>\n",
       "    <tr>\n",
       "      <th>1</th>\n",
       "      <td>2</td>\n",
       "      <td>Aesop/Laura Harris/Laura Gibbs</td>\n",
       "    </tr>\n",
       "    <tr>\n",
       "      <th>2</th>\n",
       "      <td>3</td>\n",
       "      <td>Agatha Christie</td>\n",
       "    </tr>\n",
       "    <tr>\n",
       "      <th>3</th>\n",
       "      <td>4</td>\n",
       "      <td>Alan Brennert</td>\n",
       "    </tr>\n",
       "    <tr>\n",
       "      <th>4</th>\n",
       "      <td>5</td>\n",
       "      <td>Alan Moore/David   Lloyd</td>\n",
       "    </tr>\n",
       "  </tbody>\n",
       "</table>\n",
       "</div>"
      ],
      "text/plain": [
       "   author_id                          author\n",
       "0          1                      A.S. Byatt\n",
       "1          2  Aesop/Laura Harris/Laura Gibbs\n",
       "2          3                 Agatha Christie\n",
       "3          4                   Alan Brennert\n",
       "4          5        Alan Moore/David   Lloyd"
      ]
     },
     "execution_count": 4,
     "metadata": {},
     "output_type": "execute_result"
    }
   ],
   "source": [
    "sql='''\n",
    "SELECT *\n",
    "FROM authors\n",
    "LIMIT 5\n",
    "'''\n",
    "pd.io.sql.read_sql(sql, con = engine) "
   ]
  },
  {
   "cell_type": "code",
   "execution_count": 5,
   "metadata": {},
   "outputs": [
    {
     "data": {
      "text/html": [
       "<div>\n",
       "<style scoped>\n",
       "    .dataframe tbody tr th:only-of-type {\n",
       "        vertical-align: middle;\n",
       "    }\n",
       "\n",
       "    .dataframe tbody tr th {\n",
       "        vertical-align: top;\n",
       "    }\n",
       "\n",
       "    .dataframe thead th {\n",
       "        text-align: right;\n",
       "    }\n",
       "</style>\n",
       "<table border=\"1\" class=\"dataframe\">\n",
       "  <thead>\n",
       "    <tr style=\"text-align: right;\">\n",
       "      <th></th>\n",
       "      <th>count</th>\n",
       "    </tr>\n",
       "  </thead>\n",
       "  <tbody>\n",
       "    <tr>\n",
       "      <th>0</th>\n",
       "      <td>636</td>\n",
       "    </tr>\n",
       "  </tbody>\n",
       "</table>\n",
       "</div>"
      ],
      "text/plain": [
       "   count\n",
       "0    636"
      ]
     },
     "execution_count": 5,
     "metadata": {},
     "output_type": "execute_result"
    }
   ],
   "source": [
    "sql='''\n",
    "SELECT COUNT(*)\n",
    "FROM authors\n",
    "'''\n",
    "pd.io.sql.read_sql(sql, con = engine)"
   ]
  },
  {
   "cell_type": "markdown",
   "metadata": {},
   "source": [
    "В таблице `authors` хранится информация о 636 авторах."
   ]
  },
  {
   "cell_type": "code",
   "execution_count": 6,
   "metadata": {},
   "outputs": [
    {
     "data": {
      "text/html": [
       "<div>\n",
       "<style scoped>\n",
       "    .dataframe tbody tr th:only-of-type {\n",
       "        vertical-align: middle;\n",
       "    }\n",
       "\n",
       "    .dataframe tbody tr th {\n",
       "        vertical-align: top;\n",
       "    }\n",
       "\n",
       "    .dataframe thead th {\n",
       "        text-align: right;\n",
       "    }\n",
       "</style>\n",
       "<table border=\"1\" class=\"dataframe\">\n",
       "  <thead>\n",
       "    <tr style=\"text-align: right;\">\n",
       "      <th></th>\n",
       "      <th>publisher_id</th>\n",
       "      <th>publisher</th>\n",
       "    </tr>\n",
       "  </thead>\n",
       "  <tbody>\n",
       "    <tr>\n",
       "      <th>0</th>\n",
       "      <td>1</td>\n",
       "      <td>Ace</td>\n",
       "    </tr>\n",
       "    <tr>\n",
       "      <th>1</th>\n",
       "      <td>2</td>\n",
       "      <td>Ace Book</td>\n",
       "    </tr>\n",
       "    <tr>\n",
       "      <th>2</th>\n",
       "      <td>3</td>\n",
       "      <td>Ace Books</td>\n",
       "    </tr>\n",
       "    <tr>\n",
       "      <th>3</th>\n",
       "      <td>4</td>\n",
       "      <td>Ace Hardcover</td>\n",
       "    </tr>\n",
       "    <tr>\n",
       "      <th>4</th>\n",
       "      <td>5</td>\n",
       "      <td>Addison Wesley Publishing Company</td>\n",
       "    </tr>\n",
       "  </tbody>\n",
       "</table>\n",
       "</div>"
      ],
      "text/plain": [
       "   publisher_id                          publisher\n",
       "0             1                                Ace\n",
       "1             2                           Ace Book\n",
       "2             3                          Ace Books\n",
       "3             4                      Ace Hardcover\n",
       "4             5  Addison Wesley Publishing Company"
      ]
     },
     "execution_count": 6,
     "metadata": {},
     "output_type": "execute_result"
    }
   ],
   "source": [
    "sql='''\n",
    "SELECT *\n",
    "FROM publishers\n",
    "LIMIT 5\n",
    "'''\n",
    "pd.io.sql.read_sql(sql, con = engine) "
   ]
  },
  {
   "cell_type": "code",
   "execution_count": 7,
   "metadata": {},
   "outputs": [
    {
     "data": {
      "text/html": [
       "<div>\n",
       "<style scoped>\n",
       "    .dataframe tbody tr th:only-of-type {\n",
       "        vertical-align: middle;\n",
       "    }\n",
       "\n",
       "    .dataframe tbody tr th {\n",
       "        vertical-align: top;\n",
       "    }\n",
       "\n",
       "    .dataframe thead th {\n",
       "        text-align: right;\n",
       "    }\n",
       "</style>\n",
       "<table border=\"1\" class=\"dataframe\">\n",
       "  <thead>\n",
       "    <tr style=\"text-align: right;\">\n",
       "      <th></th>\n",
       "      <th>count</th>\n",
       "    </tr>\n",
       "  </thead>\n",
       "  <tbody>\n",
       "    <tr>\n",
       "      <th>0</th>\n",
       "      <td>340</td>\n",
       "    </tr>\n",
       "  </tbody>\n",
       "</table>\n",
       "</div>"
      ],
      "text/plain": [
       "   count\n",
       "0    340"
      ]
     },
     "execution_count": 7,
     "metadata": {},
     "output_type": "execute_result"
    }
   ],
   "source": [
    "sql='''\n",
    "SELECT COUNT(*)\n",
    "FROM publishers\n",
    "'''\n",
    "pd.io.sql.read_sql(sql, con = engine)"
   ]
  },
  {
   "cell_type": "markdown",
   "metadata": {},
   "source": [
    "В таблице `publishers` хранится информация о 340 издательств."
   ]
  },
  {
   "cell_type": "code",
   "execution_count": 8,
   "metadata": {},
   "outputs": [
    {
     "data": {
      "text/html": [
       "<div>\n",
       "<style scoped>\n",
       "    .dataframe tbody tr th:only-of-type {\n",
       "        vertical-align: middle;\n",
       "    }\n",
       "\n",
       "    .dataframe tbody tr th {\n",
       "        vertical-align: top;\n",
       "    }\n",
       "\n",
       "    .dataframe thead th {\n",
       "        text-align: right;\n",
       "    }\n",
       "</style>\n",
       "<table border=\"1\" class=\"dataframe\">\n",
       "  <thead>\n",
       "    <tr style=\"text-align: right;\">\n",
       "      <th></th>\n",
       "      <th>rating_id</th>\n",
       "      <th>book_id</th>\n",
       "      <th>username</th>\n",
       "      <th>rating</th>\n",
       "    </tr>\n",
       "  </thead>\n",
       "  <tbody>\n",
       "    <tr>\n",
       "      <th>0</th>\n",
       "      <td>1</td>\n",
       "      <td>1</td>\n",
       "      <td>ryanfranco</td>\n",
       "      <td>4</td>\n",
       "    </tr>\n",
       "    <tr>\n",
       "      <th>1</th>\n",
       "      <td>2</td>\n",
       "      <td>1</td>\n",
       "      <td>grantpatricia</td>\n",
       "      <td>2</td>\n",
       "    </tr>\n",
       "    <tr>\n",
       "      <th>2</th>\n",
       "      <td>3</td>\n",
       "      <td>1</td>\n",
       "      <td>brandtandrea</td>\n",
       "      <td>5</td>\n",
       "    </tr>\n",
       "    <tr>\n",
       "      <th>3</th>\n",
       "      <td>4</td>\n",
       "      <td>2</td>\n",
       "      <td>lorichen</td>\n",
       "      <td>3</td>\n",
       "    </tr>\n",
       "    <tr>\n",
       "      <th>4</th>\n",
       "      <td>5</td>\n",
       "      <td>2</td>\n",
       "      <td>mariokeller</td>\n",
       "      <td>2</td>\n",
       "    </tr>\n",
       "  </tbody>\n",
       "</table>\n",
       "</div>"
      ],
      "text/plain": [
       "   rating_id  book_id       username  rating\n",
       "0          1        1     ryanfranco       4\n",
       "1          2        1  grantpatricia       2\n",
       "2          3        1   brandtandrea       5\n",
       "3          4        2       lorichen       3\n",
       "4          5        2    mariokeller       2"
      ]
     },
     "execution_count": 8,
     "metadata": {},
     "output_type": "execute_result"
    }
   ],
   "source": [
    "sql='''\n",
    "SELECT *\n",
    "FROM ratings\n",
    "LIMIT 5\n",
    "'''\n",
    "pd.io.sql.read_sql(sql, con = engine) "
   ]
  },
  {
   "cell_type": "code",
   "execution_count": 9,
   "metadata": {},
   "outputs": [
    {
     "data": {
      "text/html": [
       "<div>\n",
       "<style scoped>\n",
       "    .dataframe tbody tr th:only-of-type {\n",
       "        vertical-align: middle;\n",
       "    }\n",
       "\n",
       "    .dataframe tbody tr th {\n",
       "        vertical-align: top;\n",
       "    }\n",
       "\n",
       "    .dataframe thead th {\n",
       "        text-align: right;\n",
       "    }\n",
       "</style>\n",
       "<table border=\"1\" class=\"dataframe\">\n",
       "  <thead>\n",
       "    <tr style=\"text-align: right;\">\n",
       "      <th></th>\n",
       "      <th>count</th>\n",
       "    </tr>\n",
       "  </thead>\n",
       "  <tbody>\n",
       "    <tr>\n",
       "      <th>0</th>\n",
       "      <td>6456</td>\n",
       "    </tr>\n",
       "  </tbody>\n",
       "</table>\n",
       "</div>"
      ],
      "text/plain": [
       "   count\n",
       "0   6456"
      ]
     },
     "execution_count": 9,
     "metadata": {},
     "output_type": "execute_result"
    }
   ],
   "source": [
    "sql='''\n",
    "SELECT COUNT(*)\n",
    "FROM ratings\n",
    "'''\n",
    "pd.io.sql.read_sql(sql, con = engine)"
   ]
  },
  {
   "cell_type": "markdown",
   "metadata": {},
   "source": [
    "В таблице `ratings` хранится информация о 6456 пользовательских оценках книг."
   ]
  },
  {
   "cell_type": "code",
   "execution_count": 10,
   "metadata": {},
   "outputs": [
    {
     "data": {
      "text/html": [
       "<div>\n",
       "<style scoped>\n",
       "    .dataframe tbody tr th:only-of-type {\n",
       "        vertical-align: middle;\n",
       "    }\n",
       "\n",
       "    .dataframe tbody tr th {\n",
       "        vertical-align: top;\n",
       "    }\n",
       "\n",
       "    .dataframe thead th {\n",
       "        text-align: right;\n",
       "    }\n",
       "</style>\n",
       "<table border=\"1\" class=\"dataframe\">\n",
       "  <thead>\n",
       "    <tr style=\"text-align: right;\">\n",
       "      <th></th>\n",
       "      <th>review_id</th>\n",
       "      <th>book_id</th>\n",
       "      <th>username</th>\n",
       "      <th>text</th>\n",
       "    </tr>\n",
       "  </thead>\n",
       "  <tbody>\n",
       "    <tr>\n",
       "      <th>0</th>\n",
       "      <td>1</td>\n",
       "      <td>1</td>\n",
       "      <td>brandtandrea</td>\n",
       "      <td>Mention society tell send professor analysis. ...</td>\n",
       "    </tr>\n",
       "    <tr>\n",
       "      <th>1</th>\n",
       "      <td>2</td>\n",
       "      <td>1</td>\n",
       "      <td>ryanfranco</td>\n",
       "      <td>Foot glass pretty audience hit themselves. Amo...</td>\n",
       "    </tr>\n",
       "    <tr>\n",
       "      <th>2</th>\n",
       "      <td>3</td>\n",
       "      <td>2</td>\n",
       "      <td>lorichen</td>\n",
       "      <td>Listen treat keep worry. Miss husband tax but ...</td>\n",
       "    </tr>\n",
       "    <tr>\n",
       "      <th>3</th>\n",
       "      <td>4</td>\n",
       "      <td>3</td>\n",
       "      <td>johnsonamanda</td>\n",
       "      <td>Finally month interesting blue could nature cu...</td>\n",
       "    </tr>\n",
       "    <tr>\n",
       "      <th>4</th>\n",
       "      <td>5</td>\n",
       "      <td>3</td>\n",
       "      <td>scotttamara</td>\n",
       "      <td>Nation purpose heavy give wait song will. List...</td>\n",
       "    </tr>\n",
       "  </tbody>\n",
       "</table>\n",
       "</div>"
      ],
      "text/plain": [
       "   review_id  book_id       username  \\\n",
       "0          1        1   brandtandrea   \n",
       "1          2        1     ryanfranco   \n",
       "2          3        2       lorichen   \n",
       "3          4        3  johnsonamanda   \n",
       "4          5        3    scotttamara   \n",
       "\n",
       "                                                text  \n",
       "0  Mention society tell send professor analysis. ...  \n",
       "1  Foot glass pretty audience hit themselves. Amo...  \n",
       "2  Listen treat keep worry. Miss husband tax but ...  \n",
       "3  Finally month interesting blue could nature cu...  \n",
       "4  Nation purpose heavy give wait song will. List...  "
      ]
     },
     "execution_count": 10,
     "metadata": {},
     "output_type": "execute_result"
    }
   ],
   "source": [
    "sql='''\n",
    "SELECT *\n",
    "FROM reviews\n",
    "LIMIT 5\n",
    "'''\n",
    "pd.io.sql.read_sql(sql, con = engine) "
   ]
  },
  {
   "cell_type": "code",
   "execution_count": 11,
   "metadata": {},
   "outputs": [
    {
     "data": {
      "text/html": [
       "<div>\n",
       "<style scoped>\n",
       "    .dataframe tbody tr th:only-of-type {\n",
       "        vertical-align: middle;\n",
       "    }\n",
       "\n",
       "    .dataframe tbody tr th {\n",
       "        vertical-align: top;\n",
       "    }\n",
       "\n",
       "    .dataframe thead th {\n",
       "        text-align: right;\n",
       "    }\n",
       "</style>\n",
       "<table border=\"1\" class=\"dataframe\">\n",
       "  <thead>\n",
       "    <tr style=\"text-align: right;\">\n",
       "      <th></th>\n",
       "      <th>count</th>\n",
       "    </tr>\n",
       "  </thead>\n",
       "  <tbody>\n",
       "    <tr>\n",
       "      <th>0</th>\n",
       "      <td>2793</td>\n",
       "    </tr>\n",
       "  </tbody>\n",
       "</table>\n",
       "</div>"
      ],
      "text/plain": [
       "   count\n",
       "0   2793"
      ]
     },
     "execution_count": 11,
     "metadata": {},
     "output_type": "execute_result"
    }
   ],
   "source": [
    "sql='''\n",
    "SELECT COUNT(*)\n",
    "FROM reviews\n",
    "'''\n",
    "pd.io.sql.read_sql(sql, con = engine)"
   ]
  },
  {
   "cell_type": "markdown",
   "metadata": {},
   "source": [
    "В таблице `reviews` хранится информация о 2793 пользовательских обзорах на книги."
   ]
  },
  {
   "cell_type": "markdown",
   "metadata": {},
   "source": [
    "## Анализ данных"
   ]
  },
  {
   "cell_type": "markdown",
   "metadata": {},
   "source": [
    "### Количество книг, вышедших после 1 января 2000 года"
   ]
  },
  {
   "cell_type": "code",
   "execution_count": 12,
   "metadata": {},
   "outputs": [
    {
     "data": {
      "text/html": [
       "<div>\n",
       "<style scoped>\n",
       "    .dataframe tbody tr th:only-of-type {\n",
       "        vertical-align: middle;\n",
       "    }\n",
       "\n",
       "    .dataframe tbody tr th {\n",
       "        vertical-align: top;\n",
       "    }\n",
       "\n",
       "    .dataframe thead th {\n",
       "        text-align: right;\n",
       "    }\n",
       "</style>\n",
       "<table border=\"1\" class=\"dataframe\">\n",
       "  <thead>\n",
       "    <tr style=\"text-align: right;\">\n",
       "      <th></th>\n",
       "      <th>count</th>\n",
       "    </tr>\n",
       "  </thead>\n",
       "  <tbody>\n",
       "    <tr>\n",
       "      <th>0</th>\n",
       "      <td>819</td>\n",
       "    </tr>\n",
       "  </tbody>\n",
       "</table>\n",
       "</div>"
      ],
      "text/plain": [
       "   count\n",
       "0    819"
      ]
     },
     "execution_count": 12,
     "metadata": {},
     "output_type": "execute_result"
    }
   ],
   "source": [
    "sql='''\n",
    "SELECT COUNT(book_id)\n",
    "FROM books\n",
    "WHERE publication_date > '2000-01-01'\n",
    "'''\n",
    "pd.io.sql.read_sql(sql, con = engine) "
   ]
  },
  {
   "cell_type": "markdown",
   "metadata": {},
   "source": [
    "819 книг вышло после 1 января 2000 года."
   ]
  },
  {
   "cell_type": "markdown",
   "metadata": {},
   "source": [
    "### Количество обзоров и средняя оценка книг"
   ]
  },
  {
   "cell_type": "code",
   "execution_count": 13,
   "metadata": {},
   "outputs": [
    {
     "data": {
      "text/html": [
       "<div>\n",
       "<style scoped>\n",
       "    .dataframe tbody tr th:only-of-type {\n",
       "        vertical-align: middle;\n",
       "    }\n",
       "\n",
       "    .dataframe tbody tr th {\n",
       "        vertical-align: top;\n",
       "    }\n",
       "\n",
       "    .dataframe thead th {\n",
       "        text-align: right;\n",
       "    }\n",
       "</style>\n",
       "<table border=\"1\" class=\"dataframe\">\n",
       "  <thead>\n",
       "    <tr style=\"text-align: right;\">\n",
       "      <th></th>\n",
       "      <th>book_id</th>\n",
       "      <th>title</th>\n",
       "      <th>count_review</th>\n",
       "      <th>avg_rating</th>\n",
       "    </tr>\n",
       "  </thead>\n",
       "  <tbody>\n",
       "    <tr>\n",
       "      <th>0</th>\n",
       "      <td>55</td>\n",
       "      <td>A Woman of Substance (Emma Harte Saga #1)</td>\n",
       "      <td>2</td>\n",
       "      <td>5.00</td>\n",
       "    </tr>\n",
       "    <tr>\n",
       "      <th>1</th>\n",
       "      <td>518</td>\n",
       "      <td>Pop Goes the Weasel (Alex Cross  #5)</td>\n",
       "      <td>2</td>\n",
       "      <td>5.00</td>\n",
       "    </tr>\n",
       "    <tr>\n",
       "      <th>2</th>\n",
       "      <td>347</td>\n",
       "      <td>In the Hand of the Goddess (Song of the Liones...</td>\n",
       "      <td>2</td>\n",
       "      <td>5.00</td>\n",
       "    </tr>\n",
       "    <tr>\n",
       "      <th>3</th>\n",
       "      <td>513</td>\n",
       "      <td>Piercing the Darkness (Darkness  #2)</td>\n",
       "      <td>2</td>\n",
       "      <td>5.00</td>\n",
       "    </tr>\n",
       "    <tr>\n",
       "      <th>4</th>\n",
       "      <td>57</td>\n",
       "      <td>Act of Treason (Mitch Rapp  #9)</td>\n",
       "      <td>2</td>\n",
       "      <td>5.00</td>\n",
       "    </tr>\n",
       "    <tr>\n",
       "      <th>...</th>\n",
       "      <td>...</td>\n",
       "      <td>...</td>\n",
       "      <td>...</td>\n",
       "      <td>...</td>\n",
       "    </tr>\n",
       "    <tr>\n",
       "      <th>989</th>\n",
       "      <td>915</td>\n",
       "      <td>The World Is Flat: A Brief History of the Twen...</td>\n",
       "      <td>3</td>\n",
       "      <td>2.25</td>\n",
       "    </tr>\n",
       "    <tr>\n",
       "      <th>990</th>\n",
       "      <td>371</td>\n",
       "      <td>Junky</td>\n",
       "      <td>2</td>\n",
       "      <td>2.00</td>\n",
       "    </tr>\n",
       "    <tr>\n",
       "      <th>991</th>\n",
       "      <td>316</td>\n",
       "      <td>His Excellency: George Washington</td>\n",
       "      <td>2</td>\n",
       "      <td>2.00</td>\n",
       "    </tr>\n",
       "    <tr>\n",
       "      <th>992</th>\n",
       "      <td>202</td>\n",
       "      <td>Drowning Ruth</td>\n",
       "      <td>3</td>\n",
       "      <td>2.00</td>\n",
       "    </tr>\n",
       "    <tr>\n",
       "      <th>993</th>\n",
       "      <td>303</td>\n",
       "      <td>Harvesting the Heart</td>\n",
       "      <td>2</td>\n",
       "      <td>1.50</td>\n",
       "    </tr>\n",
       "  </tbody>\n",
       "</table>\n",
       "<p>994 rows × 4 columns</p>\n",
       "</div>"
      ],
      "text/plain": [
       "     book_id                                              title  count_review  \\\n",
       "0         55          A Woman of Substance (Emma Harte Saga #1)             2   \n",
       "1        518               Pop Goes the Weasel (Alex Cross  #5)             2   \n",
       "2        347  In the Hand of the Goddess (Song of the Liones...             2   \n",
       "3        513               Piercing the Darkness (Darkness  #2)             2   \n",
       "4         57                    Act of Treason (Mitch Rapp  #9)             2   \n",
       "..       ...                                                ...           ...   \n",
       "989      915  The World Is Flat: A Brief History of the Twen...             3   \n",
       "990      371                                              Junky             2   \n",
       "991      316                  His Excellency: George Washington             2   \n",
       "992      202                                      Drowning Ruth             3   \n",
       "993      303                               Harvesting the Heart             2   \n",
       "\n",
       "     avg_rating  \n",
       "0          5.00  \n",
       "1          5.00  \n",
       "2          5.00  \n",
       "3          5.00  \n",
       "4          5.00  \n",
       "..          ...  \n",
       "989        2.25  \n",
       "990        2.00  \n",
       "991        2.00  \n",
       "992        2.00  \n",
       "993        1.50  \n",
       "\n",
       "[994 rows x 4 columns]"
      ]
     },
     "execution_count": 13,
     "metadata": {},
     "output_type": "execute_result"
    }
   ],
   "source": [
    "sql='''\n",
    "WITH rev_c as \n",
    "    (SELECT book_id, COUNT(book_id) as count_review\n",
    "    FROM reviews\n",
    "    GROUP BY book_id),\n",
    "rat_a as\n",
    "    (SELECT book_id, ROUND(AVG(rating), 2) as avg_rating\n",
    "    FROM ratings\n",
    "    GROUP BY book_id)\n",
    "\n",
    "SELECT b.book_id, title, count_review, avg_rating\n",
    "FROM books as b\n",
    "JOIN rev_c on b.book_id=rev_c.book_id\n",
    "JOIN rat_a on b.book_id=rat_a.book_id\n",
    "ORDER BY avg_rating DESC\n",
    "'''\n",
    "pd.io.sql.read_sql(sql, con = engine) "
   ]
  },
  {
   "cell_type": "markdown",
   "metadata": {},
   "source": [
    "Информация о 994 книгах. Максимальный рейтинг равен 5, минимальный 1.5"
   ]
  },
  {
   "cell_type": "markdown",
   "metadata": {},
   "source": [
    "### Издательство, которое выпустило наибольшее число книг толще 50 страниц"
   ]
  },
  {
   "cell_type": "code",
   "execution_count": 14,
   "metadata": {},
   "outputs": [
    {
     "data": {
      "text/html": [
       "<div>\n",
       "<style scoped>\n",
       "    .dataframe tbody tr th:only-of-type {\n",
       "        vertical-align: middle;\n",
       "    }\n",
       "\n",
       "    .dataframe tbody tr th {\n",
       "        vertical-align: top;\n",
       "    }\n",
       "\n",
       "    .dataframe thead th {\n",
       "        text-align: right;\n",
       "    }\n",
       "</style>\n",
       "<table border=\"1\" class=\"dataframe\">\n",
       "  <thead>\n",
       "    <tr style=\"text-align: right;\">\n",
       "      <th></th>\n",
       "      <th>publisher</th>\n",
       "      <th>count</th>\n",
       "    </tr>\n",
       "  </thead>\n",
       "  <tbody>\n",
       "    <tr>\n",
       "      <th>0</th>\n",
       "      <td>Penguin Books</td>\n",
       "      <td>42</td>\n",
       "    </tr>\n",
       "  </tbody>\n",
       "</table>\n",
       "</div>"
      ],
      "text/plain": [
       "       publisher  count\n",
       "0  Penguin Books     42"
      ]
     },
     "execution_count": 14,
     "metadata": {},
     "output_type": "execute_result"
    }
   ],
   "source": [
    "sql='''\n",
    "WITH count_b as \n",
    "    (SELECT publisher_id, COUNT(book_id) AS count\n",
    "    FROM books\n",
    "    WHERE num_pages > 50\n",
    "    GROUP BY publisher_id\n",
    "    ORDER BY count DESC)\n",
    "\n",
    "SELECT publisher, count \n",
    "FROM publishers AS p\n",
    "JOIN count_b on p.publisher_id=count_b.publisher_id\n",
    "LIMIT 1\n",
    "'''\n",
    "pd.io.sql.read_sql(sql, con = engine) "
   ]
  },
  {
   "cell_type": "markdown",
   "metadata": {},
   "source": [
    "Исключив из анализа брошюры (книги толще 50 страниц), получили издательство Penguin Books, которое выпустило наибольшее число книг (42шт)."
   ]
  },
  {
   "cell_type": "markdown",
   "metadata": {},
   "source": [
    "### Автор с самой высокой средней оценкой книг"
   ]
  },
  {
   "cell_type": "code",
   "execution_count": 15,
   "metadata": {},
   "outputs": [
    {
     "data": {
      "text/html": [
       "<div>\n",
       "<style scoped>\n",
       "    .dataframe tbody tr th:only-of-type {\n",
       "        vertical-align: middle;\n",
       "    }\n",
       "\n",
       "    .dataframe tbody tr th {\n",
       "        vertical-align: top;\n",
       "    }\n",
       "\n",
       "    .dataframe thead th {\n",
       "        text-align: right;\n",
       "    }\n",
       "</style>\n",
       "<table border=\"1\" class=\"dataframe\">\n",
       "  <thead>\n",
       "    <tr style=\"text-align: right;\">\n",
       "      <th></th>\n",
       "      <th>author</th>\n",
       "      <th>rating_avg</th>\n",
       "    </tr>\n",
       "  </thead>\n",
       "  <tbody>\n",
       "    <tr>\n",
       "      <th>0</th>\n",
       "      <td>J.K. Rowling/Mary GrandPré</td>\n",
       "      <td>4.29</td>\n",
       "    </tr>\n",
       "  </tbody>\n",
       "</table>\n",
       "</div>"
      ],
      "text/plain": [
       "                       author  rating_avg\n",
       "0  J.K. Rowling/Mary GrandPré        4.29"
      ]
     },
     "execution_count": 15,
     "metadata": {},
     "output_type": "execute_result"
    }
   ],
   "source": [
    "sql='''\n",
    "WITH rat_avg AS\n",
    "    (SELECT book_id, ROUND(AVG(rating), 2) AS avg_rating\n",
    "    FROM ratings\n",
    "    GROUP BY book_id \n",
    "    HAVING COUNT(book_id) > 50),\n",
    "auth AS\n",
    "    (SELECT author_id, ROUND(AVG(avg_rating), 2) AS rating_avg\n",
    "    FROM rat_avg\n",
    "    JOIN books AS b ON rat_avg.book_id = b.book_id\n",
    "    GROUP BY author_id) \n",
    "SELECT authors.author, rating_avg\n",
    "FROM auth\n",
    "JOIN authors ON authors.author_id = auth.author_id\n",
    "ORDER BY rating_avg DESC\n",
    "LIMIT 1\n",
    "'''\n",
    "pd.io.sql.read_sql(sql, con = engine)"
   ]
  },
  {
   "cell_type": "markdown",
   "metadata": {},
   "source": [
    "Учитывая только книги с 50 и более оценками, автор с самой высокой средней оценкой книг - J.K. Rowling/Mary GrandPré (4.29)"
   ]
  },
  {
   "cell_type": "markdown",
   "metadata": {},
   "source": [
    "### Среднее количество обзоров от пользователей, которые поставили больше 50 оценок."
   ]
  },
  {
   "cell_type": "code",
   "execution_count": 16,
   "metadata": {},
   "outputs": [
    {
     "data": {
      "text/html": [
       "<div>\n",
       "<style scoped>\n",
       "    .dataframe tbody tr th:only-of-type {\n",
       "        vertical-align: middle;\n",
       "    }\n",
       "\n",
       "    .dataframe tbody tr th {\n",
       "        vertical-align: top;\n",
       "    }\n",
       "\n",
       "    .dataframe thead th {\n",
       "        text-align: right;\n",
       "    }\n",
       "</style>\n",
       "<table border=\"1\" class=\"dataframe\">\n",
       "  <thead>\n",
       "    <tr style=\"text-align: right;\">\n",
       "      <th></th>\n",
       "      <th>round</th>\n",
       "    </tr>\n",
       "  </thead>\n",
       "  <tbody>\n",
       "    <tr>\n",
       "      <th>0</th>\n",
       "      <td>24.0</td>\n",
       "    </tr>\n",
       "  </tbody>\n",
       "</table>\n",
       "</div>"
      ],
      "text/plain": [
       "   round\n",
       "0   24.0"
      ]
     },
     "execution_count": 16,
     "metadata": {},
     "output_type": "execute_result"
    }
   ],
   "source": [
    "sql='''\n",
    "WITH user_count AS\n",
    "    (SELECT COUNT(username) AS count\n",
    "    FROM reviews\n",
    "    WHERE username in (SELECT username\n",
    "        FROM ratings\n",
    "        GROUP BY username\n",
    "        HAVING COUNT(username) > 50)\n",
    "    GROUP BY username)\n",
    "SELECT ROUND(AVG(count))\n",
    "FROM user_count\n",
    "'''\n",
    "pd.io.sql.read_sql(sql, con = engine) "
   ]
  },
  {
   "cell_type": "markdown",
   "metadata": {},
   "source": [
    "Среднее количество обзоров от пользователей, которые поставили больше 50 оценок, равно 24."
   ]
  },
  {
   "cell_type": "markdown",
   "metadata": {},
   "source": [
    "## Вывод"
   ]
  },
  {
   "cell_type": "markdown",
   "metadata": {},
   "source": [
    "Для компании, которая купила крупный сервис для чтения книг по подписке, была проанализирована база данных, для формулировки ценностного предложения для нового продукта.\n",
    "\n",
    "Анализ показал, что:\n",
    "* В базе содержится информация о 1000 книг, 636 авторах, 340 издательствах, 6456 пользовательских оценках и 2793  пользовательских обзорах на книг;\n",
    "* 819 книг из 1000 были изданы после 1 января 2000;\n",
    "* 42 книги выпустило издательство Penguin Books;\n",
    "* Автор с самой высокой средней оценкой книг - J.K. Rowling/Mary GrandPré; \n",
    "* Среднее количество обзоров от пользователей, которые поставили больше 50 оценок, равно 24."
   ]
  },
  {
   "cell_type": "markdown",
   "metadata": {},
   "source": [
    "[Начало](#head)"
   ]
  }
 ],
 "metadata": {
  "ExecuteTimeLog": [
   {
    "duration": 12045,
    "start_time": "2023-03-06T16:12:59.111Z"
   },
   {
    "duration": 3,
    "start_time": "2023-03-06T16:15:57.718Z"
   },
   {
    "duration": 59,
    "start_time": "2023-03-06T16:25:38.684Z"
   },
   {
    "duration": 2,
    "start_time": "2023-03-06T16:29:04.668Z"
   },
   {
    "duration": 10,
    "start_time": "2023-03-06T16:29:09.366Z"
   },
   {
    "duration": 11,
    "start_time": "2023-03-06T16:29:21.582Z"
   },
   {
    "duration": 27,
    "start_time": "2023-03-06T16:29:26.498Z"
   },
   {
    "duration": 205,
    "start_time": "2023-03-06T16:30:14.174Z"
   },
   {
    "duration": 184,
    "start_time": "2023-03-06T16:30:24.849Z"
   },
   {
    "duration": 136,
    "start_time": "2023-03-06T16:30:46.704Z"
   },
   {
    "duration": 2,
    "start_time": "2023-03-06T16:30:51.986Z"
   },
   {
    "duration": 137,
    "start_time": "2023-03-06T16:30:52.622Z"
   },
   {
    "duration": 5,
    "start_time": "2023-03-06T16:31:58.129Z"
   },
   {
    "duration": 138,
    "start_time": "2023-03-06T16:31:58.672Z"
   },
   {
    "duration": 2,
    "start_time": "2023-03-06T16:32:23.972Z"
   },
   {
    "duration": 12,
    "start_time": "2023-03-06T16:32:27.535Z"
   },
   {
    "duration": 3,
    "start_time": "2023-03-06T16:32:58.469Z"
   },
   {
    "duration": 124,
    "start_time": "2023-03-06T16:33:03.718Z"
   },
   {
    "duration": 4,
    "start_time": "2023-03-06T16:33:28.825Z"
   },
   {
    "duration": 135,
    "start_time": "2023-03-06T16:33:31.070Z"
   },
   {
    "duration": 3,
    "start_time": "2023-03-06T16:33:53.323Z"
   },
   {
    "duration": 135,
    "start_time": "2023-03-06T16:33:56.495Z"
   },
   {
    "duration": 4,
    "start_time": "2023-03-06T16:34:20.441Z"
   },
   {
    "duration": 11,
    "start_time": "2023-03-06T16:34:22.787Z"
   },
   {
    "duration": 15,
    "start_time": "2023-03-06T16:34:42.172Z"
   },
   {
    "duration": 12,
    "start_time": "2023-03-06T16:35:10.208Z"
   },
   {
    "duration": 11,
    "start_time": "2023-03-06T16:37:54.671Z"
   },
   {
    "duration": 28,
    "start_time": "2023-03-06T16:38:55.537Z"
   },
   {
    "duration": 25,
    "start_time": "2023-03-06T16:39:54.998Z"
   },
   {
    "duration": 16,
    "start_time": "2023-03-06T16:41:23.481Z"
   },
   {
    "duration": 137,
    "start_time": "2023-03-06T16:43:13.516Z"
   },
   {
    "duration": 129,
    "start_time": "2023-03-06T16:43:31.180Z"
   },
   {
    "duration": 158,
    "start_time": "2023-03-06T16:44:33.097Z"
   },
   {
    "duration": 27,
    "start_time": "2023-03-06T16:44:47.840Z"
   },
   {
    "duration": 21,
    "start_time": "2023-03-06T16:45:03.531Z"
   },
   {
    "duration": 21,
    "start_time": "2023-03-06T16:45:09.407Z"
   },
   {
    "duration": 122,
    "start_time": "2023-03-06T16:52:11.025Z"
   },
   {
    "duration": 121,
    "start_time": "2023-03-06T16:52:38.743Z"
   },
   {
    "duration": 128,
    "start_time": "2023-03-06T16:53:34.549Z"
   },
   {
    "duration": 131,
    "start_time": "2023-03-06T16:54:55.394Z"
   },
   {
    "duration": 134,
    "start_time": "2023-03-06T16:54:58.178Z"
   },
   {
    "duration": 176,
    "start_time": "2023-03-06T16:58:36.389Z"
   },
   {
    "duration": 136,
    "start_time": "2023-03-06T16:59:06.246Z"
   },
   {
    "duration": 16,
    "start_time": "2023-03-06T16:59:39.687Z"
   },
   {
    "duration": 138,
    "start_time": "2023-03-06T16:59:54.436Z"
   },
   {
    "duration": 121,
    "start_time": "2023-03-06T17:02:57.515Z"
   },
   {
    "duration": 18,
    "start_time": "2023-03-06T17:03:27.007Z"
   },
   {
    "duration": 20,
    "start_time": "2023-03-06T17:03:38.412Z"
   },
   {
    "duration": 22,
    "start_time": "2023-03-06T17:03:55.506Z"
   },
   {
    "duration": 23,
    "start_time": "2023-03-06T17:04:11.722Z"
   },
   {
    "duration": 21,
    "start_time": "2023-03-06T17:04:39.362Z"
   },
   {
    "duration": 24,
    "start_time": "2023-03-06T17:05:08.302Z"
   },
   {
    "duration": 24,
    "start_time": "2023-03-06T17:06:44.334Z"
   },
   {
    "duration": 20,
    "start_time": "2023-03-06T17:10:12.276Z"
   },
   {
    "duration": 20,
    "start_time": "2023-03-06T17:10:39.876Z"
   },
   {
    "duration": 138,
    "start_time": "2023-03-06T17:12:00.978Z"
   },
   {
    "duration": 144,
    "start_time": "2023-03-06T17:12:09.472Z"
   },
   {
    "duration": 163,
    "start_time": "2023-03-06T17:12:14.626Z"
   },
   {
    "duration": 14,
    "start_time": "2023-03-06T17:12:19.319Z"
   },
   {
    "duration": 13,
    "start_time": "2023-03-06T17:12:56.276Z"
   },
   {
    "duration": 13,
    "start_time": "2023-03-06T17:13:08.430Z"
   },
   {
    "duration": 146,
    "start_time": "2023-03-06T17:16:07.474Z"
   },
   {
    "duration": 14,
    "start_time": "2023-03-06T17:16:19.699Z"
   },
   {
    "duration": 17,
    "start_time": "2023-03-06T17:16:30.842Z"
   },
   {
    "duration": 30,
    "start_time": "2023-03-06T17:16:49.702Z"
   },
   {
    "duration": 13,
    "start_time": "2023-03-06T17:17:29.543Z"
   },
   {
    "duration": 12,
    "start_time": "2023-03-06T17:17:34.037Z"
   },
   {
    "duration": 12,
    "start_time": "2023-03-06T17:19:39.454Z"
   },
   {
    "duration": 26,
    "start_time": "2023-03-06T17:24:11.284Z"
   },
   {
    "duration": 68,
    "start_time": "2023-03-06T17:25:36.010Z"
   },
   {
    "duration": 15,
    "start_time": "2023-03-06T17:27:36.816Z"
   },
   {
    "duration": 18,
    "start_time": "2023-03-06T17:30:37.634Z"
   },
   {
    "duration": 134,
    "start_time": "2023-03-06T17:31:01.145Z"
   },
   {
    "duration": 168,
    "start_time": "2023-03-06T17:32:25.883Z"
   },
   {
    "duration": 14,
    "start_time": "2023-03-06T17:32:29.450Z"
   },
   {
    "duration": 15,
    "start_time": "2023-03-06T17:32:54.333Z"
   },
   {
    "duration": 125,
    "start_time": "2023-03-06T17:39:13.883Z"
   },
   {
    "duration": 117,
    "start_time": "2023-03-06T17:39:39.320Z"
   },
   {
    "duration": 119,
    "start_time": "2023-03-06T17:39:55.341Z"
   },
   {
    "duration": 13,
    "start_time": "2023-03-06T17:40:09.158Z"
   },
   {
    "duration": 13,
    "start_time": "2023-03-06T17:40:18.504Z"
   },
   {
    "duration": 125,
    "start_time": "2023-03-06T17:40:45.495Z"
   },
   {
    "duration": 164,
    "start_time": "2023-03-06T17:43:29.104Z"
   },
   {
    "duration": 14,
    "start_time": "2023-03-06T17:44:13.121Z"
   },
   {
    "duration": 131,
    "start_time": "2023-03-06T17:44:22.335Z"
   },
   {
    "duration": 148,
    "start_time": "2023-03-06T17:55:52.002Z"
   },
   {
    "duration": 132,
    "start_time": "2023-03-06T17:55:57.494Z"
   },
   {
    "duration": 128,
    "start_time": "2023-03-06T17:56:56.532Z"
   },
   {
    "duration": 12,
    "start_time": "2023-03-06T17:57:21.904Z"
   },
   {
    "duration": 169,
    "start_time": "2023-03-06T17:59:22.328Z"
   },
   {
    "duration": 20,
    "start_time": "2023-03-06T18:00:43.098Z"
   },
   {
    "duration": 20,
    "start_time": "2023-03-06T18:01:08.745Z"
   },
   {
    "duration": 124,
    "start_time": "2023-03-06T18:01:39.474Z"
   },
   {
    "duration": 159,
    "start_time": "2023-03-06T18:02:05.991Z"
   },
   {
    "duration": 119,
    "start_time": "2023-03-06T18:02:24.576Z"
   },
   {
    "duration": 17,
    "start_time": "2023-03-06T18:03:05.142Z"
   },
   {
    "duration": 146,
    "start_time": "2023-03-06T18:03:20.797Z"
   },
   {
    "duration": 204,
    "start_time": "2023-03-06T18:03:29.670Z"
   },
   {
    "duration": 137,
    "start_time": "2023-03-06T18:03:55.514Z"
   },
   {
    "duration": 126,
    "start_time": "2023-03-06T18:04:21.917Z"
   },
   {
    "duration": 12,
    "start_time": "2023-03-06T18:04:36.537Z"
   },
   {
    "duration": 13,
    "start_time": "2023-03-06T18:04:49.338Z"
   },
   {
    "duration": 113,
    "start_time": "2023-03-06T18:05:04.772Z"
   },
   {
    "duration": 131,
    "start_time": "2023-03-06T18:05:11.528Z"
   },
   {
    "duration": 154,
    "start_time": "2023-03-06T18:05:22.599Z"
   },
   {
    "duration": 131,
    "start_time": "2023-03-06T18:05:48.218Z"
   },
   {
    "duration": 144,
    "start_time": "2023-03-06T18:07:05.395Z"
   },
   {
    "duration": 13,
    "start_time": "2023-03-06T18:07:33.054Z"
   },
   {
    "duration": 18,
    "start_time": "2023-03-06T18:09:31.838Z"
   },
   {
    "duration": 15,
    "start_time": "2023-03-06T18:11:06.373Z"
   },
   {
    "duration": 152,
    "start_time": "2023-03-06T18:12:01.427Z"
   },
   {
    "duration": 19,
    "start_time": "2023-03-06T18:12:03.369Z"
   },
   {
    "duration": 116,
    "start_time": "2023-03-06T18:12:40.793Z"
   },
   {
    "duration": 14,
    "start_time": "2023-03-06T18:12:47.070Z"
   },
   {
    "duration": 120,
    "start_time": "2023-03-06T18:14:41.180Z"
   },
   {
    "duration": 129,
    "start_time": "2023-03-06T18:14:47.801Z"
   },
   {
    "duration": 14,
    "start_time": "2023-03-06T18:14:53.958Z"
   },
   {
    "duration": 16,
    "start_time": "2023-03-06T18:15:01.305Z"
   },
   {
    "duration": 124,
    "start_time": "2023-03-06T18:15:53.477Z"
   },
   {
    "duration": 28,
    "start_time": "2023-03-06T18:16:09.221Z"
   },
   {
    "duration": 17,
    "start_time": "2023-03-06T18:16:50.126Z"
   },
   {
    "duration": 15,
    "start_time": "2023-03-06T18:16:59.898Z"
   },
   {
    "duration": 137,
    "start_time": "2023-03-06T18:17:40.603Z"
   },
   {
    "duration": 21,
    "start_time": "2023-03-06T18:17:50.434Z"
   },
   {
    "duration": 125,
    "start_time": "2023-03-06T18:18:24.945Z"
   },
   {
    "duration": 122,
    "start_time": "2023-03-06T18:18:44.368Z"
   },
   {
    "duration": 122,
    "start_time": "2023-03-06T18:18:53.536Z"
   },
   {
    "duration": 16,
    "start_time": "2023-03-06T18:19:02.957Z"
   },
   {
    "duration": 21,
    "start_time": "2023-03-06T18:23:55.074Z"
   },
   {
    "duration": 148,
    "start_time": "2023-03-06T18:24:30.289Z"
   },
   {
    "duration": 11,
    "start_time": "2023-03-06T18:24:44.872Z"
   },
   {
    "duration": 15,
    "start_time": "2023-03-06T18:25:30.936Z"
   },
   {
    "duration": 16,
    "start_time": "2023-03-06T18:25:37.388Z"
   },
   {
    "duration": 125,
    "start_time": "2023-03-06T18:26:16.258Z"
   },
   {
    "duration": 23,
    "start_time": "2023-03-06T18:28:50.776Z"
   },
   {
    "duration": 27,
    "start_time": "2023-03-06T18:29:12.312Z"
   },
   {
    "duration": 13,
    "start_time": "2023-03-06T18:30:31.376Z"
   },
   {
    "duration": 126,
    "start_time": "2023-03-06T18:32:09.691Z"
   },
   {
    "duration": 140,
    "start_time": "2023-03-06T18:32:58.269Z"
   },
   {
    "duration": 166,
    "start_time": "2023-03-06T18:34:11.540Z"
   },
   {
    "duration": 172,
    "start_time": "2023-03-06T18:35:20.470Z"
   },
   {
    "duration": 140,
    "start_time": "2023-03-06T18:35:28.074Z"
   },
   {
    "duration": 17,
    "start_time": "2023-03-06T18:36:45.413Z"
   },
   {
    "duration": 131,
    "start_time": "2023-03-06T18:39:19.511Z"
   },
   {
    "duration": 116,
    "start_time": "2023-03-06T18:39:58.105Z"
   },
   {
    "duration": 13,
    "start_time": "2023-03-06T18:40:01.203Z"
   },
   {
    "duration": 14,
    "start_time": "2023-03-06T18:40:29.327Z"
   },
   {
    "duration": 24,
    "start_time": "2023-03-06T18:42:21.763Z"
   },
   {
    "duration": 30,
    "start_time": "2023-03-06T18:42:50.520Z"
   },
   {
    "duration": 121,
    "start_time": "2023-03-06T18:44:33.019Z"
   },
   {
    "duration": 16,
    "start_time": "2023-03-06T18:44:37.163Z"
   },
   {
    "duration": 18,
    "start_time": "2023-03-06T18:45:52.107Z"
   },
   {
    "duration": 169,
    "start_time": "2023-03-06T18:46:41.001Z"
   },
   {
    "duration": 121,
    "start_time": "2023-03-06T18:46:58.004Z"
   },
   {
    "duration": 16,
    "start_time": "2023-03-06T18:47:13.816Z"
   },
   {
    "duration": 16,
    "start_time": "2023-03-06T18:51:53.507Z"
   },
   {
    "duration": 14,
    "start_time": "2023-03-06T18:52:27.132Z"
   },
   {
    "duration": 12,
    "start_time": "2023-03-06T18:52:49.872Z"
   },
   {
    "duration": 116,
    "start_time": "2023-03-06T18:52:52.277Z"
   },
   {
    "duration": 13,
    "start_time": "2023-03-06T18:52:58.312Z"
   },
   {
    "duration": 109,
    "start_time": "2023-03-06T18:57:57.327Z"
   },
   {
    "duration": 2,
    "start_time": "2023-03-06T18:59:16.977Z"
   },
   {
    "duration": 15,
    "start_time": "2023-03-06T19:00:11.738Z"
   },
   {
    "duration": 7,
    "start_time": "2023-03-06T19:00:32.275Z"
   },
   {
    "duration": 12309,
    "start_time": "2023-03-06T19:00:50.005Z"
   },
   {
    "duration": 57,
    "start_time": "2023-03-06T19:01:02.317Z"
   },
   {
    "duration": 71,
    "start_time": "2023-03-06T19:01:02.376Z"
   },
   {
    "duration": 0,
    "start_time": "2023-03-06T19:01:02.449Z"
   },
   {
    "duration": 0,
    "start_time": "2023-03-06T19:01:02.451Z"
   },
   {
    "duration": 0,
    "start_time": "2023-03-06T19:01:02.452Z"
   },
   {
    "duration": 0,
    "start_time": "2023-03-06T19:01:02.453Z"
   },
   {
    "duration": 0,
    "start_time": "2023-03-06T19:01:02.454Z"
   },
   {
    "duration": 0,
    "start_time": "2023-03-06T19:01:02.455Z"
   },
   {
    "duration": 0,
    "start_time": "2023-03-06T19:01:02.456Z"
   },
   {
    "duration": 0,
    "start_time": "2023-03-06T19:01:02.457Z"
   },
   {
    "duration": 9,
    "start_time": "2023-03-06T19:01:40.196Z"
   },
   {
    "duration": 9,
    "start_time": "2023-03-06T19:02:03.034Z"
   },
   {
    "duration": 6,
    "start_time": "2023-03-06T19:02:06.416Z"
   },
   {
    "duration": 11,
    "start_time": "2023-03-06T19:02:34.610Z"
   },
   {
    "duration": 11951,
    "start_time": "2023-03-06T19:03:45.075Z"
   },
   {
    "duration": 45,
    "start_time": "2023-03-06T19:03:57.028Z"
   },
   {
    "duration": 10,
    "start_time": "2023-03-06T19:03:57.077Z"
   },
   {
    "duration": 9,
    "start_time": "2023-03-06T19:03:57.089Z"
   },
   {
    "duration": 25,
    "start_time": "2023-03-06T19:03:57.100Z"
   },
   {
    "duration": 12,
    "start_time": "2023-03-06T19:03:57.126Z"
   },
   {
    "duration": 14,
    "start_time": "2023-03-06T19:03:57.140Z"
   },
   {
    "duration": 13,
    "start_time": "2023-03-06T19:03:57.156Z"
   },
   {
    "duration": 12,
    "start_time": "2023-03-06T19:05:46.736Z"
   },
   {
    "duration": 12,
    "start_time": "2023-03-06T19:06:01.050Z"
   },
   {
    "duration": 12,
    "start_time": "2023-03-06T19:06:02.278Z"
   },
   {
    "duration": 11,
    "start_time": "2023-03-06T19:06:06.504Z"
   },
   {
    "duration": 10,
    "start_time": "2023-03-06T19:06:18.243Z"
   },
   {
    "duration": 94,
    "start_time": "2023-03-06T19:06:45.936Z"
   },
   {
    "duration": 15,
    "start_time": "2023-03-06T19:07:11.477Z"
   },
   {
    "duration": 13,
    "start_time": "2023-03-06T19:07:47.447Z"
   },
   {
    "duration": 12,
    "start_time": "2023-03-06T19:08:59.912Z"
   },
   {
    "duration": 12,
    "start_time": "2023-03-06T19:09:00.829Z"
   },
   {
    "duration": 13,
    "start_time": "2023-03-06T19:10:28.472Z"
   },
   {
    "duration": 10,
    "start_time": "2023-03-06T19:10:29.266Z"
   },
   {
    "duration": 100,
    "start_time": "2023-03-06T19:10:48.552Z"
   },
   {
    "duration": 12255,
    "start_time": "2023-03-06T19:21:24.816Z"
   },
   {
    "duration": 52,
    "start_time": "2023-03-06T19:21:37.073Z"
   },
   {
    "duration": 12,
    "start_time": "2023-03-06T19:21:37.126Z"
   },
   {
    "duration": 14,
    "start_time": "2023-03-06T19:21:37.140Z"
   },
   {
    "duration": 11,
    "start_time": "2023-03-06T19:21:37.156Z"
   },
   {
    "duration": 10,
    "start_time": "2023-03-06T19:21:37.169Z"
   },
   {
    "duration": 9,
    "start_time": "2023-03-06T19:21:37.181Z"
   },
   {
    "duration": 32,
    "start_time": "2023-03-06T19:21:37.192Z"
   },
   {
    "duration": 10,
    "start_time": "2023-03-06T19:21:37.226Z"
   },
   {
    "duration": 16,
    "start_time": "2023-03-06T19:21:37.238Z"
   },
   {
    "duration": 11,
    "start_time": "2023-03-06T19:21:37.255Z"
   },
   {
    "duration": 11,
    "start_time": "2023-03-06T19:21:37.267Z"
   },
   {
    "duration": 44,
    "start_time": "2023-03-06T19:21:37.280Z"
   },
   {
    "duration": 12,
    "start_time": "2023-03-06T19:21:37.325Z"
   },
   {
    "duration": 14,
    "start_time": "2023-03-06T19:21:37.339Z"
   },
   {
    "duration": 12,
    "start_time": "2023-03-06T19:21:37.354Z"
   }
  ],
  "kernelspec": {
   "display_name": "Python 3 (ipykernel)",
   "language": "python",
   "name": "python3"
  },
  "language_info": {
   "codemirror_mode": {
    "name": "ipython",
    "version": 3
   },
   "file_extension": ".py",
   "mimetype": "text/x-python",
   "name": "python",
   "nbconvert_exporter": "python",
   "pygments_lexer": "ipython3",
   "version": "3.9.5"
  },
  "toc": {
   "base_numbering": 1,
   "nav_menu": {},
   "number_sections": true,
   "sideBar": true,
   "skip_h1_title": true,
   "title_cell": "Содержание:",
   "title_sidebar": "Contents",
   "toc_cell": true,
   "toc_position": {},
   "toc_section_display": true,
   "toc_window_display": true
  }
 },
 "nbformat": 4,
 "nbformat_minor": 2
}
